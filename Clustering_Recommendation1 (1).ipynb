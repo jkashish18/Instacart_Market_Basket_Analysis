{
 "cells": [
  {
   "cell_type": "code",
   "execution_count": null,
   "metadata": {
    "id": "KhpHRLB6mxQ0"
   },
   "outputs": [],
   "source": [
    "import pandas as pd\n",
    "import os\n",
    "import numpy as np\n",
    "import turicreate\n",
    "import matplotlib.pyplot as plt\n",
    "from sklearn.cluster import KMeans\n",
    "from sklearn.metrics import silhouette_score\n",
    "from sklearn.decomposition import PCA"
   ]
  },
  {
   "cell_type": "code",
   "execution_count": null,
   "metadata": {
    "id": "0-IuDXNymxQ1"
   },
   "outputs": [],
   "source": [
    "#reading order_products_train.csv file which contains Data curated on the products added to cart and their order\n",
    "order_products_train_df = pd.read_csv(\"order_products__train.csv\")\n",
    "order_products_prior_df = pd.read_csv(\"order_products__prior.csv\")\n",
    "\n",
    "# reading orders.csv which provides information on when and after how long an order was placed by user\n",
    "orders_df = pd.read_csv(\"orders.csv\")\n",
    "\n",
    "#reading order_products_train.csv file which categorises each data based on department and Aisle\n",
    "products_df = pd.read_csv(\"products.csv\")\n",
    "\n",
    "# reading aisles.csv that provides information on product names across the Aisles\n",
    "aisles_df = pd.read_csv(\"aisles.csv\")\n",
    "\n",
    "#reading order_products_train.csv file which provides information for 21 different departments\n",
    "departments_df = pd.read_csv(\"departments.csv\")"
   ]
  },
  {
   "cell_type": "code",
   "execution_count": null,
   "metadata": {
    "id": "03bp5i2fmxQ1",
    "outputId": "5868875a-2af7-4a05-e741-1c20aa1febd2"
   },
   "outputs": [
    {
     "name": "stdout",
     "output_type": "stream",
     "text": [
      "1384617\n",
      "32434489\n",
      "3421083\n",
      "49688\n",
      "134\n",
      "21\n"
     ]
    }
   ],
   "source": [
    "# Checking the number of rows in each dataframe \n",
    "print(len(order_products_train_df))\n",
    "print(len(order_products_prior_df))\n",
    "print(len(orders_df))\n",
    "print(len(products_df))\n",
    "print(len(aisles_df))\n",
    "print(len(departments_df))"
   ]
  },
  {
   "cell_type": "code",
   "execution_count": null,
   "metadata": {
    "id": "t-ILhLGEmxQ2",
    "outputId": "1180fc11-28b0-47b8-cd35-9c9dafcc14b7"
   },
   "outputs": [
    {
     "data": {
      "text/plain": [
       "206209"
      ]
     },
     "execution_count": 8,
     "metadata": {},
     "output_type": "execute_result"
    }
   ],
   "source": [
    "# Getting the number of unique users\n",
    "len(orders_df.user_id.unique())"
   ]
  },
  {
   "cell_type": "code",
   "execution_count": null,
   "metadata": {
    "id": "3R29sgLFmxQ2",
    "outputId": "2236c376-9a14-4d2e-b945-38d8cb64c1c0"
   },
   "outputs": [
    {
     "data": {
      "text/html": [
       "<div>\n",
       "<style scoped>\n",
       "    .dataframe tbody tr th:only-of-type {\n",
       "        vertical-align: middle;\n",
       "    }\n",
       "\n",
       "    .dataframe tbody tr th {\n",
       "        vertical-align: top;\n",
       "    }\n",
       "\n",
       "    .dataframe thead th {\n",
       "        text-align: right;\n",
       "    }\n",
       "</style>\n",
       "<table border=\"1\" class=\"dataframe\">\n",
       "  <thead>\n",
       "    <tr style=\"text-align: right;\">\n",
       "      <th></th>\n",
       "      <th>order_id</th>\n",
       "      <th>product_id</th>\n",
       "      <th>add_to_cart_order</th>\n",
       "      <th>reordered</th>\n",
       "    </tr>\n",
       "  </thead>\n",
       "  <tbody>\n",
       "    <tr>\n",
       "      <th>0</th>\n",
       "      <td>1</td>\n",
       "      <td>49302</td>\n",
       "      <td>1</td>\n",
       "      <td>1</td>\n",
       "    </tr>\n",
       "    <tr>\n",
       "      <th>1</th>\n",
       "      <td>1</td>\n",
       "      <td>11109</td>\n",
       "      <td>2</td>\n",
       "      <td>1</td>\n",
       "    </tr>\n",
       "    <tr>\n",
       "      <th>2</th>\n",
       "      <td>1</td>\n",
       "      <td>10246</td>\n",
       "      <td>3</td>\n",
       "      <td>0</td>\n",
       "    </tr>\n",
       "    <tr>\n",
       "      <th>3</th>\n",
       "      <td>1</td>\n",
       "      <td>49683</td>\n",
       "      <td>4</td>\n",
       "      <td>0</td>\n",
       "    </tr>\n",
       "    <tr>\n",
       "      <th>4</th>\n",
       "      <td>1</td>\n",
       "      <td>43633</td>\n",
       "      <td>5</td>\n",
       "      <td>1</td>\n",
       "    </tr>\n",
       "  </tbody>\n",
       "</table>\n",
       "</div>"
      ],
      "text/plain": [
       "   order_id  product_id  add_to_cart_order  reordered\n",
       "0         1       49302                  1          1\n",
       "1         1       11109                  2          1\n",
       "2         1       10246                  3          0\n",
       "3         1       49683                  4          0\n",
       "4         1       43633                  5          1"
      ]
     },
     "execution_count": 4,
     "metadata": {},
     "output_type": "execute_result"
    }
   ],
   "source": [
    "order_products_train_df.head()"
   ]
  },
  {
   "cell_type": "code",
   "execution_count": null,
   "metadata": {
    "id": "Eu_TR0hgmxQ2",
    "outputId": "a1d6023e-d5fc-486c-cf26-7a04fe0ebd25"
   },
   "outputs": [
    {
     "data": {
      "text/html": [
       "<div>\n",
       "<style scoped>\n",
       "    .dataframe tbody tr th:only-of-type {\n",
       "        vertical-align: middle;\n",
       "    }\n",
       "\n",
       "    .dataframe tbody tr th {\n",
       "        vertical-align: top;\n",
       "    }\n",
       "\n",
       "    .dataframe thead th {\n",
       "        text-align: right;\n",
       "    }\n",
       "</style>\n",
       "<table border=\"1\" class=\"dataframe\">\n",
       "  <thead>\n",
       "    <tr style=\"text-align: right;\">\n",
       "      <th></th>\n",
       "      <th>order_id</th>\n",
       "      <th>product_id</th>\n",
       "      <th>add_to_cart_order</th>\n",
       "      <th>reordered</th>\n",
       "    </tr>\n",
       "  </thead>\n",
       "  <tbody>\n",
       "    <tr>\n",
       "      <th>0</th>\n",
       "      <td>2</td>\n",
       "      <td>33120</td>\n",
       "      <td>1</td>\n",
       "      <td>1</td>\n",
       "    </tr>\n",
       "    <tr>\n",
       "      <th>1</th>\n",
       "      <td>2</td>\n",
       "      <td>28985</td>\n",
       "      <td>2</td>\n",
       "      <td>1</td>\n",
       "    </tr>\n",
       "    <tr>\n",
       "      <th>2</th>\n",
       "      <td>2</td>\n",
       "      <td>9327</td>\n",
       "      <td>3</td>\n",
       "      <td>0</td>\n",
       "    </tr>\n",
       "    <tr>\n",
       "      <th>3</th>\n",
       "      <td>2</td>\n",
       "      <td>45918</td>\n",
       "      <td>4</td>\n",
       "      <td>1</td>\n",
       "    </tr>\n",
       "    <tr>\n",
       "      <th>4</th>\n",
       "      <td>2</td>\n",
       "      <td>30035</td>\n",
       "      <td>5</td>\n",
       "      <td>0</td>\n",
       "    </tr>\n",
       "  </tbody>\n",
       "</table>\n",
       "</div>"
      ],
      "text/plain": [
       "   order_id  product_id  add_to_cart_order  reordered\n",
       "0         2       33120                  1          1\n",
       "1         2       28985                  2          1\n",
       "2         2        9327                  3          0\n",
       "3         2       45918                  4          1\n",
       "4         2       30035                  5          0"
      ]
     },
     "execution_count": 5,
     "metadata": {},
     "output_type": "execute_result"
    }
   ],
   "source": [
    "order_products_prior_df.head()"
   ]
  },
  {
   "cell_type": "code",
   "execution_count": null,
   "metadata": {
    "id": "FM_065rSmxQ2",
    "outputId": "45943edc-3202-4137-858b-4b08945d4dd5"
   },
   "outputs": [
    {
     "data": {
      "text/html": [
       "<div>\n",
       "<style scoped>\n",
       "    .dataframe tbody tr th:only-of-type {\n",
       "        vertical-align: middle;\n",
       "    }\n",
       "\n",
       "    .dataframe tbody tr th {\n",
       "        vertical-align: top;\n",
       "    }\n",
       "\n",
       "    .dataframe thead th {\n",
       "        text-align: right;\n",
       "    }\n",
       "</style>\n",
       "<table border=\"1\" class=\"dataframe\">\n",
       "  <thead>\n",
       "    <tr style=\"text-align: right;\">\n",
       "      <th></th>\n",
       "      <th>order_id</th>\n",
       "      <th>user_id</th>\n",
       "      <th>eval_set</th>\n",
       "      <th>order_number</th>\n",
       "      <th>order_dow</th>\n",
       "      <th>order_hour_of_day</th>\n",
       "      <th>days_since_prior_order</th>\n",
       "    </tr>\n",
       "  </thead>\n",
       "  <tbody>\n",
       "    <tr>\n",
       "      <th>0</th>\n",
       "      <td>2539329</td>\n",
       "      <td>1</td>\n",
       "      <td>prior</td>\n",
       "      <td>1</td>\n",
       "      <td>2</td>\n",
       "      <td>8</td>\n",
       "      <td>NaN</td>\n",
       "    </tr>\n",
       "    <tr>\n",
       "      <th>1</th>\n",
       "      <td>2398795</td>\n",
       "      <td>1</td>\n",
       "      <td>prior</td>\n",
       "      <td>2</td>\n",
       "      <td>3</td>\n",
       "      <td>7</td>\n",
       "      <td>15.0</td>\n",
       "    </tr>\n",
       "    <tr>\n",
       "      <th>2</th>\n",
       "      <td>473747</td>\n",
       "      <td>1</td>\n",
       "      <td>prior</td>\n",
       "      <td>3</td>\n",
       "      <td>3</td>\n",
       "      <td>12</td>\n",
       "      <td>21.0</td>\n",
       "    </tr>\n",
       "    <tr>\n",
       "      <th>3</th>\n",
       "      <td>2254736</td>\n",
       "      <td>1</td>\n",
       "      <td>prior</td>\n",
       "      <td>4</td>\n",
       "      <td>4</td>\n",
       "      <td>7</td>\n",
       "      <td>29.0</td>\n",
       "    </tr>\n",
       "    <tr>\n",
       "      <th>4</th>\n",
       "      <td>431534</td>\n",
       "      <td>1</td>\n",
       "      <td>prior</td>\n",
       "      <td>5</td>\n",
       "      <td>4</td>\n",
       "      <td>15</td>\n",
       "      <td>28.0</td>\n",
       "    </tr>\n",
       "    <tr>\n",
       "      <th>5</th>\n",
       "      <td>3367565</td>\n",
       "      <td>1</td>\n",
       "      <td>prior</td>\n",
       "      <td>6</td>\n",
       "      <td>2</td>\n",
       "      <td>7</td>\n",
       "      <td>19.0</td>\n",
       "    </tr>\n",
       "    <tr>\n",
       "      <th>6</th>\n",
       "      <td>550135</td>\n",
       "      <td>1</td>\n",
       "      <td>prior</td>\n",
       "      <td>7</td>\n",
       "      <td>1</td>\n",
       "      <td>9</td>\n",
       "      <td>20.0</td>\n",
       "    </tr>\n",
       "    <tr>\n",
       "      <th>7</th>\n",
       "      <td>3108588</td>\n",
       "      <td>1</td>\n",
       "      <td>prior</td>\n",
       "      <td>8</td>\n",
       "      <td>1</td>\n",
       "      <td>14</td>\n",
       "      <td>14.0</td>\n",
       "    </tr>\n",
       "    <tr>\n",
       "      <th>8</th>\n",
       "      <td>2295261</td>\n",
       "      <td>1</td>\n",
       "      <td>prior</td>\n",
       "      <td>9</td>\n",
       "      <td>1</td>\n",
       "      <td>16</td>\n",
       "      <td>0.0</td>\n",
       "    </tr>\n",
       "    <tr>\n",
       "      <th>9</th>\n",
       "      <td>2550362</td>\n",
       "      <td>1</td>\n",
       "      <td>prior</td>\n",
       "      <td>10</td>\n",
       "      <td>4</td>\n",
       "      <td>8</td>\n",
       "      <td>30.0</td>\n",
       "    </tr>\n",
       "  </tbody>\n",
       "</table>\n",
       "</div>"
      ],
      "text/plain": [
       "   order_id  user_id eval_set  order_number  order_dow  order_hour_of_day  \\\n",
       "0   2539329        1    prior             1          2                  8   \n",
       "1   2398795        1    prior             2          3                  7   \n",
       "2    473747        1    prior             3          3                 12   \n",
       "3   2254736        1    prior             4          4                  7   \n",
       "4    431534        1    prior             5          4                 15   \n",
       "5   3367565        1    prior             6          2                  7   \n",
       "6    550135        1    prior             7          1                  9   \n",
       "7   3108588        1    prior             8          1                 14   \n",
       "8   2295261        1    prior             9          1                 16   \n",
       "9   2550362        1    prior            10          4                  8   \n",
       "\n",
       "   days_since_prior_order  \n",
       "0                     NaN  \n",
       "1                    15.0  \n",
       "2                    21.0  \n",
       "3                    29.0  \n",
       "4                    28.0  \n",
       "5                    19.0  \n",
       "6                    20.0  \n",
       "7                    14.0  \n",
       "8                     0.0  \n",
       "9                    30.0  "
      ]
     },
     "execution_count": 6,
     "metadata": {},
     "output_type": "execute_result"
    }
   ],
   "source": [
    "orders_df.head(10)"
   ]
  },
  {
   "cell_type": "code",
   "execution_count": null,
   "metadata": {
    "id": "6EL1b73ymxQ2",
    "outputId": "2682cb80-ec10-4ef0-f01e-3b8f6c585567"
   },
   "outputs": [
    {
     "data": {
      "text/html": [
       "<div>\n",
       "<style scoped>\n",
       "    .dataframe tbody tr th:only-of-type {\n",
       "        vertical-align: middle;\n",
       "    }\n",
       "\n",
       "    .dataframe tbody tr th {\n",
       "        vertical-align: top;\n",
       "    }\n",
       "\n",
       "    .dataframe thead th {\n",
       "        text-align: right;\n",
       "    }\n",
       "</style>\n",
       "<table border=\"1\" class=\"dataframe\">\n",
       "  <thead>\n",
       "    <tr style=\"text-align: right;\">\n",
       "      <th></th>\n",
       "      <th>product_id</th>\n",
       "      <th>product_name</th>\n",
       "      <th>aisle_id</th>\n",
       "      <th>department_id</th>\n",
       "    </tr>\n",
       "  </thead>\n",
       "  <tbody>\n",
       "    <tr>\n",
       "      <th>0</th>\n",
       "      <td>1</td>\n",
       "      <td>Chocolate Sandwich Cookies</td>\n",
       "      <td>61</td>\n",
       "      <td>19</td>\n",
       "    </tr>\n",
       "    <tr>\n",
       "      <th>1</th>\n",
       "      <td>2</td>\n",
       "      <td>All-Seasons Salt</td>\n",
       "      <td>104</td>\n",
       "      <td>13</td>\n",
       "    </tr>\n",
       "    <tr>\n",
       "      <th>2</th>\n",
       "      <td>3</td>\n",
       "      <td>Robust Golden Unsweetened Oolong Tea</td>\n",
       "      <td>94</td>\n",
       "      <td>7</td>\n",
       "    </tr>\n",
       "    <tr>\n",
       "      <th>3</th>\n",
       "      <td>4</td>\n",
       "      <td>Smart Ones Classic Favorites Mini Rigatoni Wit...</td>\n",
       "      <td>38</td>\n",
       "      <td>1</td>\n",
       "    </tr>\n",
       "    <tr>\n",
       "      <th>4</th>\n",
       "      <td>5</td>\n",
       "      <td>Green Chile Anytime Sauce</td>\n",
       "      <td>5</td>\n",
       "      <td>13</td>\n",
       "    </tr>\n",
       "  </tbody>\n",
       "</table>\n",
       "</div>"
      ],
      "text/plain": [
       "   product_id                                       product_name  aisle_id  \\\n",
       "0           1                         Chocolate Sandwich Cookies        61   \n",
       "1           2                                   All-Seasons Salt       104   \n",
       "2           3               Robust Golden Unsweetened Oolong Tea        94   \n",
       "3           4  Smart Ones Classic Favorites Mini Rigatoni Wit...        38   \n",
       "4           5                          Green Chile Anytime Sauce         5   \n",
       "\n",
       "   department_id  \n",
       "0             19  \n",
       "1             13  \n",
       "2              7  \n",
       "3              1  \n",
       "4             13  "
      ]
     },
     "execution_count": 8,
     "metadata": {},
     "output_type": "execute_result"
    }
   ],
   "source": [
    "products_df.head()"
   ]
  },
  {
   "cell_type": "code",
   "execution_count": null,
   "metadata": {
    "id": "FWRIKf27mxQ3",
    "outputId": "868fdf7f-c73d-44db-bea0-b71ab9664c87"
   },
   "outputs": [
    {
     "data": {
      "text/html": [
       "<div>\n",
       "<style scoped>\n",
       "    .dataframe tbody tr th:only-of-type {\n",
       "        vertical-align: middle;\n",
       "    }\n",
       "\n",
       "    .dataframe tbody tr th {\n",
       "        vertical-align: top;\n",
       "    }\n",
       "\n",
       "    .dataframe thead th {\n",
       "        text-align: right;\n",
       "    }\n",
       "</style>\n",
       "<table border=\"1\" class=\"dataframe\">\n",
       "  <thead>\n",
       "    <tr style=\"text-align: right;\">\n",
       "      <th></th>\n",
       "      <th>aisle_id</th>\n",
       "      <th>aisle</th>\n",
       "    </tr>\n",
       "  </thead>\n",
       "  <tbody>\n",
       "    <tr>\n",
       "      <th>0</th>\n",
       "      <td>1</td>\n",
       "      <td>prepared soups salads</td>\n",
       "    </tr>\n",
       "    <tr>\n",
       "      <th>1</th>\n",
       "      <td>2</td>\n",
       "      <td>specialty cheeses</td>\n",
       "    </tr>\n",
       "    <tr>\n",
       "      <th>2</th>\n",
       "      <td>3</td>\n",
       "      <td>energy granola bars</td>\n",
       "    </tr>\n",
       "    <tr>\n",
       "      <th>3</th>\n",
       "      <td>4</td>\n",
       "      <td>instant foods</td>\n",
       "    </tr>\n",
       "    <tr>\n",
       "      <th>4</th>\n",
       "      <td>5</td>\n",
       "      <td>marinades meat preparation</td>\n",
       "    </tr>\n",
       "  </tbody>\n",
       "</table>\n",
       "</div>"
      ],
      "text/plain": [
       "   aisle_id                       aisle\n",
       "0         1       prepared soups salads\n",
       "1         2           specialty cheeses\n",
       "2         3         energy granola bars\n",
       "3         4               instant foods\n",
       "4         5  marinades meat preparation"
      ]
     },
     "execution_count": 9,
     "metadata": {},
     "output_type": "execute_result"
    }
   ],
   "source": [
    "aisles_df.head()"
   ]
  },
  {
   "cell_type": "code",
   "execution_count": null,
   "metadata": {
    "id": "ExmcleIWmxQ3",
    "outputId": "c05a2de3-0404-482d-be4b-06d95588e6dd"
   },
   "outputs": [
    {
     "data": {
      "text/html": [
       "<div>\n",
       "<style scoped>\n",
       "    .dataframe tbody tr th:only-of-type {\n",
       "        vertical-align: middle;\n",
       "    }\n",
       "\n",
       "    .dataframe tbody tr th {\n",
       "        vertical-align: top;\n",
       "    }\n",
       "\n",
       "    .dataframe thead th {\n",
       "        text-align: right;\n",
       "    }\n",
       "</style>\n",
       "<table border=\"1\" class=\"dataframe\">\n",
       "  <thead>\n",
       "    <tr style=\"text-align: right;\">\n",
       "      <th></th>\n",
       "      <th>department_id</th>\n",
       "      <th>department</th>\n",
       "    </tr>\n",
       "  </thead>\n",
       "  <tbody>\n",
       "    <tr>\n",
       "      <th>0</th>\n",
       "      <td>1</td>\n",
       "      <td>frozen</td>\n",
       "    </tr>\n",
       "    <tr>\n",
       "      <th>1</th>\n",
       "      <td>2</td>\n",
       "      <td>other</td>\n",
       "    </tr>\n",
       "    <tr>\n",
       "      <th>2</th>\n",
       "      <td>3</td>\n",
       "      <td>bakery</td>\n",
       "    </tr>\n",
       "    <tr>\n",
       "      <th>3</th>\n",
       "      <td>4</td>\n",
       "      <td>produce</td>\n",
       "    </tr>\n",
       "    <tr>\n",
       "      <th>4</th>\n",
       "      <td>5</td>\n",
       "      <td>alcohol</td>\n",
       "    </tr>\n",
       "  </tbody>\n",
       "</table>\n",
       "</div>"
      ],
      "text/plain": [
       "   department_id department\n",
       "0              1     frozen\n",
       "1              2      other\n",
       "2              3     bakery\n",
       "3              4    produce\n",
       "4              5    alcohol"
      ]
     },
     "execution_count": 10,
     "metadata": {},
     "output_type": "execute_result"
    }
   ],
   "source": [
    "departments_df.head()"
   ]
  },
  {
   "cell_type": "code",
   "execution_count": null,
   "metadata": {
    "id": "gDoYhx_dmxQ3",
    "outputId": "aef50afa-b220-41ec-8ebe-f175774e5842"
   },
   "outputs": [
    {
     "data": {
      "text/plain": [
       "3421083"
      ]
     },
     "execution_count": 20,
     "metadata": {},
     "output_type": "execute_result"
    }
   ],
   "source": [
    "len(orders_df.order_id.unique())"
   ]
  },
  {
   "cell_type": "code",
   "execution_count": null,
   "metadata": {
    "id": "OaOHYRdKmxQ3",
    "outputId": "f7f55bdf-733c-4093-8050-856584e9674a"
   },
   "outputs": [
    {
     "data": {
      "text/plain": [
       "eval_set\n",
       "prior    206209\n",
       "test      75000\n",
       "train    131209\n",
       "Name: user_id, dtype: int64"
      ]
     },
     "execution_count": 27,
     "metadata": {},
     "output_type": "execute_result"
    }
   ],
   "source": [
    "# Checking the unique rows in each eval set\n",
    "orders_df.groupby(\"eval_set\")['user_id'].nunique()"
   ]
  },
  {
   "cell_type": "code",
   "execution_count": null,
   "metadata": {
    "id": "hMtU21pbmxQ3",
    "outputId": "85e975c6-9849-400c-b36a-bce7162b15a8"
   },
   "outputs": [
    {
     "data": {
      "text/plain": [
       "<AxesSubplot:xlabel='order_dow'>"
      ]
     },
     "execution_count": 31,
     "metadata": {},
     "output_type": "execute_result"
    },
    {
     "data": {
      "image/png": "[encoded data removed]",
      "text/plain": [
       "<Figure size 432x288 with 1 Axes>"
      ]
     },
     "metadata": {
      "needs_background": "light"
     },
     "output_type": "display_data"
    }
   ],
   "source": [
    "# Checking the order trend in each day of the week\n",
    "orders_df.groupby('order_dow')['order_id'].nunique().plot(kind = 'bar')"
   ]
  },
  {
   "cell_type": "code",
   "execution_count": null,
   "metadata": {
    "id": "OOziHD56mxQ3",
    "outputId": "032de083-09dc-4ef8-c782-00968baf8c0a"
   },
   "outputs": [
    {
     "data": {
      "text/plain": [
       "<AxesSubplot:xlabel='order_hour_of_day'>"
      ]
     },
     "execution_count": 32,
     "metadata": {},
     "output_type": "execute_result"
    },
    {
     "data": {
      "image/png": "[encoded data removed]",
      "text/plain": [
       "<Figure size 432x288 with 1 Axes>"
      ]
     },
     "metadata": {
      "needs_background": "light"
     },
     "output_type": "display_data"
    }
   ],
   "source": [
    "# Barplot to check trend of orders in each day of the week\n",
    "orders_df.groupby('order_hour_of_day')['order_id'].nunique().plot(kind = 'bar')"
   ]
  },
  {
   "cell_type": "code",
   "execution_count": null,
   "metadata": {
    "id": "fNMebyscmxQ3",
    "outputId": "392b7f77-b54e-4aaa-997f-52df97b861fb"
   },
   "outputs": [
    {
     "data": {
      "text/plain": [
       "<AxesSubplot:xlabel='days_since_prior_order'>"
      ]
     },
     "execution_count": 33,
     "metadata": {},
     "output_type": "execute_result"
    },
    {
     "data": {
      "image/png": "[encoded data removed]",
      "text/plain": [
       "<Figure size 432x288 with 1 Axes>"
      ]
     },
     "metadata": {
      "needs_background": "light"
     },
     "output_type": "display_data"
    }
   ],
   "source": [
    "# Trend in days since prior order and frequncy\n",
    "orders_df.groupby('days_since_prior_order')['order_id'].nunique().plot(kind = 'bar')"
   ]
  },
  {
   "cell_type": "code",
   "execution_count": null,
   "metadata": {
    "id": "5J-lFPSXmxQ3",
    "outputId": "2bd77bf3-8aa4-4e56-c041-51662755ea28"
   },
   "outputs": [
    {
     "data": {
      "text/html": [
       "<div>\n",
       "<style scoped>\n",
       "    .dataframe tbody tr th:only-of-type {\n",
       "        vertical-align: middle;\n",
       "    }\n",
       "\n",
       "    .dataframe tbody tr th {\n",
       "        vertical-align: top;\n",
       "    }\n",
       "\n",
       "    .dataframe thead th {\n",
       "        text-align: right;\n",
       "    }\n",
       "</style>\n",
       "<table border=\"1\" class=\"dataframe\">\n",
       "  <thead>\n",
       "    <tr style=\"text-align: right;\">\n",
       "      <th></th>\n",
       "      <th>order_id</th>\n",
       "      <th>product_id</th>\n",
       "      <th>add_to_cart_order</th>\n",
       "      <th>reordered</th>\n",
       "      <th>product_name</th>\n",
       "      <th>aisle_id</th>\n",
       "      <th>department_id</th>\n",
       "      <th>aisle</th>\n",
       "      <th>department</th>\n",
       "    </tr>\n",
       "  </thead>\n",
       "  <tbody>\n",
       "    <tr>\n",
       "      <th>0</th>\n",
       "      <td>2</td>\n",
       "      <td>33120</td>\n",
       "      <td>1</td>\n",
       "      <td>1</td>\n",
       "      <td>Organic Egg Whites</td>\n",
       "      <td>86</td>\n",
       "      <td>16</td>\n",
       "      <td>eggs</td>\n",
       "      <td>dairy eggs</td>\n",
       "    </tr>\n",
       "    <tr>\n",
       "      <th>1</th>\n",
       "      <td>2</td>\n",
       "      <td>28985</td>\n",
       "      <td>2</td>\n",
       "      <td>1</td>\n",
       "      <td>Michigan Organic Kale</td>\n",
       "      <td>83</td>\n",
       "      <td>4</td>\n",
       "      <td>fresh vegetables</td>\n",
       "      <td>produce</td>\n",
       "    </tr>\n",
       "    <tr>\n",
       "      <th>2</th>\n",
       "      <td>2</td>\n",
       "      <td>9327</td>\n",
       "      <td>3</td>\n",
       "      <td>0</td>\n",
       "      <td>Garlic Powder</td>\n",
       "      <td>104</td>\n",
       "      <td>13</td>\n",
       "      <td>spices seasonings</td>\n",
       "      <td>pantry</td>\n",
       "    </tr>\n",
       "    <tr>\n",
       "      <th>3</th>\n",
       "      <td>2</td>\n",
       "      <td>45918</td>\n",
       "      <td>4</td>\n",
       "      <td>1</td>\n",
       "      <td>Coconut Butter</td>\n",
       "      <td>19</td>\n",
       "      <td>13</td>\n",
       "      <td>oils vinegars</td>\n",
       "      <td>pantry</td>\n",
       "    </tr>\n",
       "    <tr>\n",
       "      <th>4</th>\n",
       "      <td>2</td>\n",
       "      <td>30035</td>\n",
       "      <td>5</td>\n",
       "      <td>0</td>\n",
       "      <td>Natural Sweetener</td>\n",
       "      <td>17</td>\n",
       "      <td>13</td>\n",
       "      <td>baking ingredients</td>\n",
       "      <td>pantry</td>\n",
       "    </tr>\n",
       "  </tbody>\n",
       "</table>\n",
       "</div>"
      ],
      "text/plain": [
       "   order_id  product_id  add_to_cart_order  reordered           product_name  \\\n",
       "0         2       33120                  1          1     Organic Egg Whites   \n",
       "1         2       28985                  2          1  Michigan Organic Kale   \n",
       "2         2        9327                  3          0          Garlic Powder   \n",
       "3         2       45918                  4          1         Coconut Butter   \n",
       "4         2       30035                  5          0      Natural Sweetener   \n",
       "\n",
       "   aisle_id  department_id               aisle  department  \n",
       "0        86             16                eggs  dairy eggs  \n",
       "1        83              4    fresh vegetables     produce  \n",
       "2       104             13   spices seasonings      pantry  \n",
       "3        19             13       oils vinegars      pantry  \n",
       "4        17             13  baking ingredients      pantry  "
      ]
     },
     "execution_count": 7,
     "metadata": {},
     "output_type": "execute_result"
    }
   ],
   "source": [
    "# Merging orders and order_products_prior_df dataframes on products_df, aisles_df, departments_df\n",
    "order_products_prior_df = pd.merge(order_products_prior_df, products_df, on='product_id', how='left')\n",
    "order_products_prior_df = pd.merge(order_products_prior_df, aisles_df, on='aisle_id', how='left')\n",
    "order_products_prior_df = pd.merge(order_products_prior_df, departments_df, on='department_id', how='left')\n",
    "order_products_prior_df.head()"
   ]
  },
  {
   "cell_type": "code",
   "execution_count": null,
   "metadata": {
    "id": "RuYcE4ALmxQ4",
    "outputId": "4e2ab2f1-3fab-464e-cce6-163e51ca2237"
   },
   "outputs": [
    {
     "data": {
      "text/plain": [
       "<AxesSubplot:>"
      ]
     },
     "execution_count": 13,
     "metadata": {},
     "output_type": "execute_result"
    },
    {
     "data": {
      "image/png": "[encoded data removed]",
      "text/plain": [
       "<Figure size 432x288 with 1 Axes>"
      ]
     },
     "metadata": {
      "needs_background": "light"
     },
     "output_type": "display_data"
    }
   ],
   "source": [
    "# Grouping to check the highest selling products \n",
    "order_products_prior_df['product_name'].value_counts().head(30).plot(kind = 'bar')"
   ]
  },
  {
   "cell_type": "code",
   "execution_count": null,
   "metadata": {
    "id": "ITYOFjBZmxQ4",
    "outputId": "ac5f2a31-39a1-4d54-af1e-9b2ef572c1fb"
   },
   "outputs": [
    {
     "data": {
      "text/html": [
       "<div>\n",
       "<style scoped>\n",
       "    .dataframe tbody tr th:only-of-type {\n",
       "        vertical-align: middle;\n",
       "    }\n",
       "\n",
       "    .dataframe tbody tr th {\n",
       "        vertical-align: top;\n",
       "    }\n",
       "\n",
       "    .dataframe thead th {\n",
       "        text-align: right;\n",
       "    }\n",
       "</style>\n",
       "<table border=\"1\" class=\"dataframe\">\n",
       "  <thead>\n",
       "    <tr style=\"text-align: right;\">\n",
       "      <th></th>\n",
       "      <th>order_id</th>\n",
       "      <th>product_id</th>\n",
       "      <th>add_to_cart_order</th>\n",
       "      <th>reordered</th>\n",
       "      <th>user_id</th>\n",
       "      <th>eval_set</th>\n",
       "      <th>order_number</th>\n",
       "      <th>order_dow</th>\n",
       "      <th>order_hour_of_day</th>\n",
       "      <th>days_since_prior_order</th>\n",
       "    </tr>\n",
       "  </thead>\n",
       "  <tbody>\n",
       "    <tr>\n",
       "      <th>0</th>\n",
       "      <td>2</td>\n",
       "      <td>33120</td>\n",
       "      <td>1</td>\n",
       "      <td>1</td>\n",
       "      <td>202279</td>\n",
       "      <td>prior</td>\n",
       "      <td>3</td>\n",
       "      <td>5</td>\n",
       "      <td>9</td>\n",
       "      <td>8.0</td>\n",
       "    </tr>\n",
       "    <tr>\n",
       "      <th>1</th>\n",
       "      <td>2</td>\n",
       "      <td>28985</td>\n",
       "      <td>2</td>\n",
       "      <td>1</td>\n",
       "      <td>202279</td>\n",
       "      <td>prior</td>\n",
       "      <td>3</td>\n",
       "      <td>5</td>\n",
       "      <td>9</td>\n",
       "      <td>8.0</td>\n",
       "    </tr>\n",
       "    <tr>\n",
       "      <th>2</th>\n",
       "      <td>2</td>\n",
       "      <td>9327</td>\n",
       "      <td>3</td>\n",
       "      <td>0</td>\n",
       "      <td>202279</td>\n",
       "      <td>prior</td>\n",
       "      <td>3</td>\n",
       "      <td>5</td>\n",
       "      <td>9</td>\n",
       "      <td>8.0</td>\n",
       "    </tr>\n",
       "    <tr>\n",
       "      <th>3</th>\n",
       "      <td>2</td>\n",
       "      <td>45918</td>\n",
       "      <td>4</td>\n",
       "      <td>1</td>\n",
       "      <td>202279</td>\n",
       "      <td>prior</td>\n",
       "      <td>3</td>\n",
       "      <td>5</td>\n",
       "      <td>9</td>\n",
       "      <td>8.0</td>\n",
       "    </tr>\n",
       "    <tr>\n",
       "      <th>4</th>\n",
       "      <td>2</td>\n",
       "      <td>30035</td>\n",
       "      <td>5</td>\n",
       "      <td>0</td>\n",
       "      <td>202279</td>\n",
       "      <td>prior</td>\n",
       "      <td>3</td>\n",
       "      <td>5</td>\n",
       "      <td>9</td>\n",
       "      <td>8.0</td>\n",
       "    </tr>\n",
       "  </tbody>\n",
       "</table>\n",
       "</div>"
      ],
      "text/plain": [
       "   order_id  product_id  add_to_cart_order  reordered  user_id eval_set  \\\n",
       "0         2       33120                  1          1   202279    prior   \n",
       "1         2       28985                  2          1   202279    prior   \n",
       "2         2        9327                  3          0   202279    prior   \n",
       "3         2       45918                  4          1   202279    prior   \n",
       "4         2       30035                  5          0   202279    prior   \n",
       "\n",
       "   order_number  order_dow  order_hour_of_day  days_since_prior_order  \n",
       "0             3          5                  9                     8.0  \n",
       "1             3          5                  9                     8.0  \n",
       "2             3          5                  9                     8.0  \n",
       "3             3          5                  9                     8.0  \n",
       "4             3          5                  9                     8.0  "
      ]
     },
     "execution_count": 14,
     "metadata": {},
     "output_type": "execute_result"
    }
   ],
   "source": [
    "order_products_prior_df.head()"
   ]
  },
  {
   "cell_type": "markdown",
   "metadata": {
    "id": "A9fa3vlmmxQ4"
   },
   "source": [
    "### Clustering"
   ]
  },
  {
   "cell_type": "code",
   "execution_count": null,
   "metadata": {
    "id": "brHAXYHsmxQ5",
    "outputId": "48735323-b3df-4e03-d7b0-e5962da68944"
   },
   "outputs": [
    {
     "data": {
      "text/html": [
       "<div>\n",
       "<style scoped>\n",
       "    .dataframe tbody tr th:only-of-type {\n",
       "        vertical-align: middle;\n",
       "    }\n",
       "\n",
       "    .dataframe tbody tr th {\n",
       "        vertical-align: top;\n",
       "    }\n",
       "\n",
       "    .dataframe thead th {\n",
       "        text-align: right;\n",
       "    }\n",
       "</style>\n",
       "<table border=\"1\" class=\"dataframe\">\n",
       "  <thead>\n",
       "    <tr style=\"text-align: right;\">\n",
       "      <th></th>\n",
       "      <th>order_id</th>\n",
       "      <th>product_id</th>\n",
       "      <th>add_to_cart_order</th>\n",
       "      <th>reordered</th>\n",
       "      <th>product_name</th>\n",
       "      <th>aisle_id</th>\n",
       "      <th>department_id</th>\n",
       "      <th>aisle</th>\n",
       "      <th>department</th>\n",
       "    </tr>\n",
       "  </thead>\n",
       "  <tbody>\n",
       "    <tr>\n",
       "      <th>0</th>\n",
       "      <td>1</td>\n",
       "      <td>49302</td>\n",
       "      <td>1</td>\n",
       "      <td>1</td>\n",
       "      <td>Bulgarian Yogurt</td>\n",
       "      <td>120</td>\n",
       "      <td>16</td>\n",
       "      <td>yogurt</td>\n",
       "      <td>dairy eggs</td>\n",
       "    </tr>\n",
       "    <tr>\n",
       "      <th>1</th>\n",
       "      <td>1</td>\n",
       "      <td>11109</td>\n",
       "      <td>2</td>\n",
       "      <td>1</td>\n",
       "      <td>Organic 4% Milk Fat Whole Milk Cottage Cheese</td>\n",
       "      <td>108</td>\n",
       "      <td>16</td>\n",
       "      <td>other creams cheeses</td>\n",
       "      <td>dairy eggs</td>\n",
       "    </tr>\n",
       "    <tr>\n",
       "      <th>2</th>\n",
       "      <td>1</td>\n",
       "      <td>10246</td>\n",
       "      <td>3</td>\n",
       "      <td>0</td>\n",
       "      <td>Organic Celery Hearts</td>\n",
       "      <td>83</td>\n",
       "      <td>4</td>\n",
       "      <td>fresh vegetables</td>\n",
       "      <td>produce</td>\n",
       "    </tr>\n",
       "    <tr>\n",
       "      <th>3</th>\n",
       "      <td>1</td>\n",
       "      <td>49683</td>\n",
       "      <td>4</td>\n",
       "      <td>0</td>\n",
       "      <td>Cucumber Kirby</td>\n",
       "      <td>83</td>\n",
       "      <td>4</td>\n",
       "      <td>fresh vegetables</td>\n",
       "      <td>produce</td>\n",
       "    </tr>\n",
       "    <tr>\n",
       "      <th>4</th>\n",
       "      <td>1</td>\n",
       "      <td>43633</td>\n",
       "      <td>5</td>\n",
       "      <td>1</td>\n",
       "      <td>Lightly Smoked Sardines in Olive Oil</td>\n",
       "      <td>95</td>\n",
       "      <td>15</td>\n",
       "      <td>canned meat seafood</td>\n",
       "      <td>canned goods</td>\n",
       "    </tr>\n",
       "  </tbody>\n",
       "</table>\n",
       "</div>"
      ],
      "text/plain": [
       "   order_id  product_id  add_to_cart_order  reordered  \\\n",
       "0         1       49302                  1          1   \n",
       "1         1       11109                  2          1   \n",
       "2         1       10246                  3          0   \n",
       "3         1       49683                  4          0   \n",
       "4         1       43633                  5          1   \n",
       "\n",
       "                                    product_name  aisle_id  department_id  \\\n",
       "0                               Bulgarian Yogurt       120             16   \n",
       "1  Organic 4% Milk Fat Whole Milk Cottage Cheese       108             16   \n",
       "2                          Organic Celery Hearts        83              4   \n",
       "3                                 Cucumber Kirby        83              4   \n",
       "4           Lightly Smoked Sardines in Olive Oil        95             15   \n",
       "\n",
       "                  aisle    department  \n",
       "0                yogurt    dairy eggs  \n",
       "1  other creams cheeses    dairy eggs  \n",
       "2      fresh vegetables       produce  \n",
       "3      fresh vegetables       produce  \n",
       "4   canned meat seafood  canned goods  "
      ]
     },
     "execution_count": 4,
     "metadata": {},
     "output_type": "execute_result"
    }
   ],
   "source": [
    "# Concating dataframes\n",
    "data_merged = pd.concat([order_products_train_df, order_products_prior_df])\n",
    "data_merged = pd.merge(data_merged, products_df, on='product_id', how='left')\n",
    "data_merged = pd.merge(data_merged, aisles_df, on='aisle_id', how='left')\n",
    "data_merged = pd.merge(data_merged, departments_df, on='department_id', how='left')\n",
    "data_merged.head()"
   ]
  },
  {
   "cell_type": "code",
   "execution_count": null,
   "metadata": {
    "id": "LRKQpLWJmxQ5",
    "outputId": "f5186f2b-7898-4fdd-cb9e-d3cf6e1e5f4e"
   },
   "outputs": [
    {
     "data": {
      "text/html": [
       "<div>\n",
       "<style scoped>\n",
       "    .dataframe tbody tr th:only-of-type {\n",
       "        vertical-align: middle;\n",
       "    }\n",
       "\n",
       "    .dataframe tbody tr th {\n",
       "        vertical-align: top;\n",
       "    }\n",
       "\n",
       "    .dataframe thead th {\n",
       "        text-align: right;\n",
       "    }\n",
       "</style>\n",
       "<table border=\"1\" class=\"dataframe\">\n",
       "  <thead>\n",
       "    <tr style=\"text-align: right;\">\n",
       "      <th></th>\n",
       "      <th>order_id</th>\n",
       "      <th>product_id</th>\n",
       "      <th>add_to_cart_order</th>\n",
       "      <th>reordered</th>\n",
       "      <th>product_name</th>\n",
       "      <th>aisle_id</th>\n",
       "      <th>department_id</th>\n",
       "      <th>aisle</th>\n",
       "      <th>department</th>\n",
       "      <th>user_id</th>\n",
       "    </tr>\n",
       "  </thead>\n",
       "  <tbody>\n",
       "    <tr>\n",
       "      <th>0</th>\n",
       "      <td>1</td>\n",
       "      <td>49302</td>\n",
       "      <td>1</td>\n",
       "      <td>1</td>\n",
       "      <td>Bulgarian Yogurt</td>\n",
       "      <td>120</td>\n",
       "      <td>16</td>\n",
       "      <td>yogurt</td>\n",
       "      <td>dairy eggs</td>\n",
       "      <td>112108</td>\n",
       "    </tr>\n",
       "    <tr>\n",
       "      <th>1</th>\n",
       "      <td>1</td>\n",
       "      <td>11109</td>\n",
       "      <td>2</td>\n",
       "      <td>1</td>\n",
       "      <td>Organic 4% Milk Fat Whole Milk Cottage Cheese</td>\n",
       "      <td>108</td>\n",
       "      <td>16</td>\n",
       "      <td>other creams cheeses</td>\n",
       "      <td>dairy eggs</td>\n",
       "      <td>112108</td>\n",
       "    </tr>\n",
       "    <tr>\n",
       "      <th>2</th>\n",
       "      <td>1</td>\n",
       "      <td>10246</td>\n",
       "      <td>3</td>\n",
       "      <td>0</td>\n",
       "      <td>Organic Celery Hearts</td>\n",
       "      <td>83</td>\n",
       "      <td>4</td>\n",
       "      <td>fresh vegetables</td>\n",
       "      <td>produce</td>\n",
       "      <td>112108</td>\n",
       "    </tr>\n",
       "    <tr>\n",
       "      <th>3</th>\n",
       "      <td>1</td>\n",
       "      <td>49683</td>\n",
       "      <td>4</td>\n",
       "      <td>0</td>\n",
       "      <td>Cucumber Kirby</td>\n",
       "      <td>83</td>\n",
       "      <td>4</td>\n",
       "      <td>fresh vegetables</td>\n",
       "      <td>produce</td>\n",
       "      <td>112108</td>\n",
       "    </tr>\n",
       "    <tr>\n",
       "      <th>4</th>\n",
       "      <td>1</td>\n",
       "      <td>43633</td>\n",
       "      <td>5</td>\n",
       "      <td>1</td>\n",
       "      <td>Lightly Smoked Sardines in Olive Oil</td>\n",
       "      <td>95</td>\n",
       "      <td>15</td>\n",
       "      <td>canned meat seafood</td>\n",
       "      <td>canned goods</td>\n",
       "      <td>112108</td>\n",
       "    </tr>\n",
       "  </tbody>\n",
       "</table>\n",
       "</div>"
      ],
      "text/plain": [
       "   order_id  product_id  add_to_cart_order  reordered  \\\n",
       "0         1       49302                  1          1   \n",
       "1         1       11109                  2          1   \n",
       "2         1       10246                  3          0   \n",
       "3         1       49683                  4          0   \n",
       "4         1       43633                  5          1   \n",
       "\n",
       "                                    product_name  aisle_id  department_id  \\\n",
       "0                               Bulgarian Yogurt       120             16   \n",
       "1  Organic 4% Milk Fat Whole Milk Cottage Cheese       108             16   \n",
       "2                          Organic Celery Hearts        83              4   \n",
       "3                                 Cucumber Kirby        83              4   \n",
       "4           Lightly Smoked Sardines in Olive Oil        95             15   \n",
       "\n",
       "                  aisle    department  user_id  \n",
       "0                yogurt    dairy eggs   112108  \n",
       "1  other creams cheeses    dairy eggs   112108  \n",
       "2      fresh vegetables       produce   112108  \n",
       "3      fresh vegetables       produce   112108  \n",
       "4   canned meat seafood  canned goods   112108  "
      ]
     },
     "execution_count": 5,
     "metadata": {},
     "output_type": "execute_result"
    }
   ],
   "source": [
    "# Merging merged dataframe with orders_df \n",
    "data_merged = pd.merge(data_merged, orders_df[['order_id','user_id']], on='order_id', how='left')\n",
    "data_merged.head()"
   ]
  },
  {
   "cell_type": "code",
   "execution_count": null,
   "metadata": {
    "id": "59ADIE0LmxQ5"
   },
   "outputs": [],
   "source": [
    "# Getting the data which come under top 80% of the ordered departments only\n",
    "top80_orders = data_merged['department'].value_counts(normalize=True)\n",
    "cols_top80 = list(top80_orders[(top80_orders * 100).cumsum() < 80].index)"
   ]
  },
  {
   "cell_type": "code",
   "execution_count": null,
   "metadata": {
    "id": "sjwFW3JBmxQ5"
   },
   "outputs": [],
   "source": [
    "# Making a sparse matrix representing users as rows and deartments as columns\n",
    "cluster_data = data_merged.reset_index().pivot_table(index='user_id', columns='department', values = 'order_id', aggfunc='count')[cols_top80]"
   ]
  },
  {
   "cell_type": "code",
   "execution_count": null,
   "metadata": {
    "id": "1NScqDHymxQ5"
   },
   "outputs": [],
   "source": [
    "cluster_data.fillna(0, inplace = True)"
   ]
  },
  {
   "cell_type": "code",
   "execution_count": null,
   "metadata": {
    "id": "b3UJlKBEmxQ6",
    "outputId": "4289f907-8cfa-4797-c8ab-edb8d82ab910"
   },
   "outputs": [
    {
     "name": "stdout",
     "output_type": "stream",
     "text": [
      "2\n",
      "3\n",
      "4\n",
      "5\n",
      "6\n",
      "7\n",
      "8\n",
      "9\n"
     ]
    },
    {
     "data": {
      "image/png": "[encoded data removed]",
      "text/plain": [
       "<Figure size 640x480 with 1 Axes>"
      ]
     },
     "metadata": {},
     "output_type": "display_data"
    }
   ],
   "source": [
    "Sum_of_squared_distances = []\n",
    "silhouette = []\n",
    "\n",
    "# Applying KMeans clustering for each K value in 2-10\n",
    "K = range(2,10)\n",
    "for num_clusters in K :\n",
    "  print(num_clusters)\n",
    "  kmeans = KMeans(n_clusters=num_clusters)\n",
    "  kmeans.fit(cluster_data)\n",
    "  #Sum_of_squared_distances.append(kmeans.inertia_)\n",
    "  silhouette.append(silhouette_score(cluster_data, kmeans.labels_, metric='euclidean'))\n",
    "\n",
    "plt.plot(K, silhouette,'bx-')\n",
    "plt.xlabel('Values of K') \n",
    "plt.ylabel('Sum of squared distances/Inertia') \n",
    "plt.title('Elbow Method For Optimal k')\n",
    "plt.show()"
   ]
  },
  {
   "cell_type": "code",
   "execution_count": null,
   "metadata": {
    "id": "MsytYUssmxQ6",
    "outputId": "091c5898-4d04-4815-a0d8-01e2cab789a0"
   },
   "outputs": [
    {
     "data": {
      "text/plain": [
       "KMeans(n_clusters=4)"
      ]
     },
     "execution_count": 41,
     "metadata": {},
     "output_type": "execute_result"
    }
   ],
   "source": [
    "# Fitting KMeans to most optimal k value\n",
    "kmeans = KMeans(n_clusters=4)\n",
    "kmeans.fit(cluster_data)"
   ]
  },
  {
   "cell_type": "code",
   "execution_count": null,
   "metadata": {
    "id": "hfrPPHvemxQ6",
    "outputId": "78149e81-b704-4cca-8667-c1209e0a1ffd"
   },
   "outputs": [
    {
     "data": {
      "text/html": [
       "<div>\n",
       "<style scoped>\n",
       "    .dataframe tbody tr th:only-of-type {\n",
       "        vertical-align: middle;\n",
       "    }\n",
       "\n",
       "    .dataframe tbody tr th {\n",
       "        vertical-align: top;\n",
       "    }\n",
       "\n",
       "    .dataframe thead th {\n",
       "        text-align: right;\n",
       "    }\n",
       "</style>\n",
       "<table border=\"1\" class=\"dataframe\">\n",
       "  <thead>\n",
       "    <tr style=\"text-align: right;\">\n",
       "      <th>department</th>\n",
       "      <th>produce</th>\n",
       "      <th>dairy eggs</th>\n",
       "      <th>snacks</th>\n",
       "      <th>beverages</th>\n",
       "      <th>frozen</th>\n",
       "      <th>pantry</th>\n",
       "      <th>bakery</th>\n",
       "    </tr>\n",
       "    <tr>\n",
       "      <th>user_id</th>\n",
       "      <th></th>\n",
       "      <th></th>\n",
       "      <th></th>\n",
       "      <th></th>\n",
       "      <th></th>\n",
       "      <th></th>\n",
       "      <th></th>\n",
       "    </tr>\n",
       "  </thead>\n",
       "  <tbody>\n",
       "    <tr>\n",
       "      <th>1</th>\n",
       "      <td>5.0</td>\n",
       "      <td>17.0</td>\n",
       "      <td>25.0</td>\n",
       "      <td>15.0</td>\n",
       "      <td>0.0</td>\n",
       "      <td>1.0</td>\n",
       "      <td>0.0</td>\n",
       "    </tr>\n",
       "    <tr>\n",
       "      <th>2</th>\n",
       "      <td>43.0</td>\n",
       "      <td>49.0</td>\n",
       "      <td>47.0</td>\n",
       "      <td>9.0</td>\n",
       "      <td>28.0</td>\n",
       "      <td>11.0</td>\n",
       "      <td>2.0</td>\n",
       "    </tr>\n",
       "    <tr>\n",
       "      <th>3</th>\n",
       "      <td>38.0</td>\n",
       "      <td>21.0</td>\n",
       "      <td>9.0</td>\n",
       "      <td>3.0</td>\n",
       "      <td>6.0</td>\n",
       "      <td>4.0</td>\n",
       "      <td>0.0</td>\n",
       "    </tr>\n",
       "    <tr>\n",
       "      <th>4</th>\n",
       "      <td>2.0</td>\n",
       "      <td>0.0</td>\n",
       "      <td>1.0</td>\n",
       "      <td>3.0</td>\n",
       "      <td>3.0</td>\n",
       "      <td>0.0</td>\n",
       "      <td>2.0</td>\n",
       "    </tr>\n",
       "    <tr>\n",
       "      <th>5</th>\n",
       "      <td>23.0</td>\n",
       "      <td>9.0</td>\n",
       "      <td>1.0</td>\n",
       "      <td>0.0</td>\n",
       "      <td>2.0</td>\n",
       "      <td>3.0</td>\n",
       "      <td>0.0</td>\n",
       "    </tr>\n",
       "  </tbody>\n",
       "</table>\n",
       "</div>"
      ],
      "text/plain": [
       "department  produce  dairy eggs  snacks  beverages  frozen  pantry  bakery\n",
       "user_id                                                                   \n",
       "1               5.0        17.0    25.0       15.0     0.0     1.0     0.0\n",
       "2              43.0        49.0    47.0        9.0    28.0    11.0     2.0\n",
       "3              38.0        21.0     9.0        3.0     6.0     4.0     0.0\n",
       "4               2.0         0.0     1.0        3.0     3.0     0.0     2.0\n",
       "5              23.0         9.0     1.0        0.0     2.0     3.0     0.0"
      ]
     },
     "execution_count": 42,
     "metadata": {},
     "output_type": "execute_result"
    }
   ],
   "source": [
    "cluster_data.head()"
   ]
  },
  {
   "cell_type": "code",
   "execution_count": null,
   "metadata": {
    "id": "cD0R1qaPmxQ6"
   },
   "outputs": [],
   "source": [
    "# Getting the labels out of the clusters to interpret them\n",
    "cluster_data['labels'] = kmeans.labels_"
   ]
  },
  {
   "cell_type": "code",
   "execution_count": null,
   "metadata": {
    "id": "TsO0M70SmxQ6"
   },
   "outputs": [],
   "source": [
    "# Next applying PCA as data is in higher dimention \n",
    "pca = PCA(n_components=2)\n",
    "pca.fit(cluster_data)\n",
    "# pca_samples = pca.transform(cluster_data)\n",
    "pca_samples = pd.DataFrame(pca.fit_transform(cluster_data),columns=['PC1','PC2']) \n",
    "pca_samples['cluster'] = pd.Categorical(kmeans.labels_)\n",
    "\n",
    "centers = kmeans.cluster_centers_"
   ]
  },
  {
   "cell_type": "code",
   "execution_count": null,
   "metadata": {
    "id": "B6rNi8jmmxQ6",
    "outputId": "005a301f-042f-4d26-efb3-c467e91f2964"
   },
   "outputs": [
    {
     "data": {
      "text/html": [
       "<div>\n",
       "<style scoped>\n",
       "    .dataframe tbody tr th:only-of-type {\n",
       "        vertical-align: middle;\n",
       "    }\n",
       "\n",
       "    .dataframe tbody tr th {\n",
       "        vertical-align: top;\n",
       "    }\n",
       "\n",
       "    .dataframe thead th {\n",
       "        text-align: right;\n",
       "    }\n",
       "</style>\n",
       "<table border=\"1\" class=\"dataframe\">\n",
       "  <thead>\n",
       "    <tr style=\"text-align: right;\">\n",
       "      <th>department</th>\n",
       "      <th>produce</th>\n",
       "      <th>dairy eggs</th>\n",
       "      <th>snacks</th>\n",
       "      <th>beverages</th>\n",
       "      <th>frozen</th>\n",
       "      <th>pantry</th>\n",
       "      <th>bakery</th>\n",
       "    </tr>\n",
       "    <tr>\n",
       "      <th>user_id</th>\n",
       "      <th></th>\n",
       "      <th></th>\n",
       "      <th></th>\n",
       "      <th></th>\n",
       "      <th></th>\n",
       "      <th></th>\n",
       "      <th></th>\n",
       "    </tr>\n",
       "  </thead>\n",
       "  <tbody>\n",
       "    <tr>\n",
       "      <th>1</th>\n",
       "      <td>5.0</td>\n",
       "      <td>17.0</td>\n",
       "      <td>25.0</td>\n",
       "      <td>15.0</td>\n",
       "      <td>0.0</td>\n",
       "      <td>1.0</td>\n",
       "      <td>0.0</td>\n",
       "    </tr>\n",
       "    <tr>\n",
       "      <th>2</th>\n",
       "      <td>43.0</td>\n",
       "      <td>49.0</td>\n",
       "      <td>47.0</td>\n",
       "      <td>9.0</td>\n",
       "      <td>28.0</td>\n",
       "      <td>11.0</td>\n",
       "      <td>2.0</td>\n",
       "    </tr>\n",
       "    <tr>\n",
       "      <th>3</th>\n",
       "      <td>38.0</td>\n",
       "      <td>21.0</td>\n",
       "      <td>9.0</td>\n",
       "      <td>3.0</td>\n",
       "      <td>6.0</td>\n",
       "      <td>4.0</td>\n",
       "      <td>0.0</td>\n",
       "    </tr>\n",
       "    <tr>\n",
       "      <th>4</th>\n",
       "      <td>2.0</td>\n",
       "      <td>0.0</td>\n",
       "      <td>1.0</td>\n",
       "      <td>3.0</td>\n",
       "      <td>3.0</td>\n",
       "      <td>0.0</td>\n",
       "      <td>2.0</td>\n",
       "    </tr>\n",
       "    <tr>\n",
       "      <th>5</th>\n",
       "      <td>23.0</td>\n",
       "      <td>9.0</td>\n",
       "      <td>1.0</td>\n",
       "      <td>0.0</td>\n",
       "      <td>2.0</td>\n",
       "      <td>3.0</td>\n",
       "      <td>0.0</td>\n",
       "    </tr>\n",
       "    <tr>\n",
       "      <th>...</th>\n",
       "      <td>...</td>\n",
       "      <td>...</td>\n",
       "      <td>...</td>\n",
       "      <td>...</td>\n",
       "      <td>...</td>\n",
       "      <td>...</td>\n",
       "      <td>...</td>\n",
       "    </tr>\n",
       "    <tr>\n",
       "      <th>206205</th>\n",
       "      <td>14.0</td>\n",
       "      <td>20.0</td>\n",
       "      <td>0.0</td>\n",
       "      <td>1.0</td>\n",
       "      <td>3.0</td>\n",
       "      <td>1.0</td>\n",
       "      <td>2.0</td>\n",
       "    </tr>\n",
       "    <tr>\n",
       "      <th>206206</th>\n",
       "      <td>34.0</td>\n",
       "      <td>39.0</td>\n",
       "      <td>42.0</td>\n",
       "      <td>33.0</td>\n",
       "      <td>76.0</td>\n",
       "      <td>14.0</td>\n",
       "      <td>2.0</td>\n",
       "    </tr>\n",
       "    <tr>\n",
       "      <th>206207</th>\n",
       "      <td>50.0</td>\n",
       "      <td>52.0</td>\n",
       "      <td>23.0</td>\n",
       "      <td>20.0</td>\n",
       "      <td>21.0</td>\n",
       "      <td>15.0</td>\n",
       "      <td>3.0</td>\n",
       "    </tr>\n",
       "    <tr>\n",
       "      <th>206208</th>\n",
       "      <td>197.0</td>\n",
       "      <td>161.0</td>\n",
       "      <td>59.0</td>\n",
       "      <td>20.0</td>\n",
       "      <td>26.0</td>\n",
       "      <td>38.0</td>\n",
       "      <td>62.0</td>\n",
       "    </tr>\n",
       "    <tr>\n",
       "      <th>206209</th>\n",
       "      <td>20.0</td>\n",
       "      <td>29.0</td>\n",
       "      <td>12.0</td>\n",
       "      <td>11.0</td>\n",
       "      <td>3.0</td>\n",
       "      <td>8.0</td>\n",
       "      <td>10.0</td>\n",
       "    </tr>\n",
       "  </tbody>\n",
       "</table>\n",
       "<p>206209 rows × 7 columns</p>\n",
       "</div>"
      ],
      "text/plain": [
       "department  produce  dairy eggs  snacks  beverages  frozen  pantry  bakery\n",
       "user_id                                                                   \n",
       "1               5.0        17.0    25.0       15.0     0.0     1.0     0.0\n",
       "2              43.0        49.0    47.0        9.0    28.0    11.0     2.0\n",
       "3              38.0        21.0     9.0        3.0     6.0     4.0     0.0\n",
       "4               2.0         0.0     1.0        3.0     3.0     0.0     2.0\n",
       "5              23.0         9.0     1.0        0.0     2.0     3.0     0.0\n",
       "...             ...         ...     ...        ...     ...     ...     ...\n",
       "206205         14.0        20.0     0.0        1.0     3.0     1.0     2.0\n",
       "206206         34.0        39.0    42.0       33.0    76.0    14.0     2.0\n",
       "206207         50.0        52.0    23.0       20.0    21.0    15.0     3.0\n",
       "206208        197.0       161.0    59.0       20.0    26.0    38.0    62.0\n",
       "206209         20.0        29.0    12.0       11.0     3.0     8.0    10.0\n",
       "\n",
       "[206209 rows x 7 columns]"
      ]
     },
     "execution_count": 53,
     "metadata": {},
     "output_type": "execute_result"
    }
   ],
   "source": [
    "cluster_data"
   ]
  },
  {
   "cell_type": "code",
   "execution_count": null,
   "metadata": {
    "id": "1f-wjk-EmxQ6",
    "outputId": "64fc827f-67bc-4520-942a-c9fdb1a06f13"
   },
   "outputs": [
    {
     "data": {
      "text/plain": [
       "<AxesSubplot:xlabel='PC1', ylabel='PC2'>"
      ]
     },
     "execution_count": 58,
     "metadata": {},
     "output_type": "execute_result"
    },
    {
     "data": {
      "image/png": "[encoded data removed]",
      "text/plain": [
       "<Figure size 640x480 with 1 Axes>"
      ]
     },
     "metadata": {},
     "output_type": "display_data"
    }
   ],
   "source": [
    "import seaborn as sns\n",
    "# Plotting clusters over principal component 1 and 2\n",
    "sns.scatterplot(x=\"PC1\",y=\"PC2\",hue=\"cluster\",data=pca_samples,\n",
    "               palette=['green','orange','dodgerblue','red'])"
   ]
  },
  {
   "cell_type": "code",
   "execution_count": null,
   "metadata": {
    "id": "oic0F6j0mxQ6",
    "outputId": "d535cfa9-4182-4368-ced0-aff87639893e"
   },
   "outputs": [
    {
     "data": {
      "image/png": "[encoded data removed]",
      "text/plain": [
       "<Figure size 1000x800 with 1 Axes>"
      ]
     },
     "metadata": {},
     "output_type": "display_data"
    }
   ],
   "source": [
    "fig = plt.figure(figsize=(10,8))\n",
    "ax = fig.add_subplot(111)\n",
    "\n",
    "# Scatter plot for thr pca values \n",
    "scatter = ax.scatter(pca_samples[:,0], pca_samples[:,1], c=kmeans.labels_, s=50)\n",
    "\n",
    "plt.xlabel('x_values')\n",
    "plt.ylabel('y_values')\n",
    "plt.legend(kmeans.labels_)\n",
    "plt.show()"
   ]
  },
  {
   "cell_type": "code",
   "execution_count": null,
   "metadata": {
    "id": "gxoX0nQLmxQ7",
    "outputId": "aab7662f-4580-4783-e660-aad32c3b21f0"
   },
   "outputs": [
    {
     "data": {
      "text/html": [
       "<div>\n",
       "<style scoped>\n",
       "    .dataframe tbody tr th:only-of-type {\n",
       "        vertical-align: middle;\n",
       "    }\n",
       "\n",
       "    .dataframe tbody tr th {\n",
       "        vertical-align: top;\n",
       "    }\n",
       "\n",
       "    .dataframe thead th {\n",
       "        text-align: right;\n",
       "    }\n",
       "</style>\n",
       "<table border=\"1\" class=\"dataframe\">\n",
       "  <thead>\n",
       "    <tr style=\"text-align: right;\">\n",
       "      <th>department</th>\n",
       "      <th>user_id</th>\n",
       "    </tr>\n",
       "    <tr>\n",
       "      <th>labels</th>\n",
       "      <th></th>\n",
       "    </tr>\n",
       "  </thead>\n",
       "  <tbody>\n",
       "    <tr>\n",
       "      <th>0</th>\n",
       "      <td>42787</td>\n",
       "    </tr>\n",
       "    <tr>\n",
       "      <th>1</th>\n",
       "      <td>144776</td>\n",
       "    </tr>\n",
       "    <tr>\n",
       "      <th>2</th>\n",
       "      <td>14677</td>\n",
       "    </tr>\n",
       "    <tr>\n",
       "      <th>3</th>\n",
       "      <td>3969</td>\n",
       "    </tr>\n",
       "  </tbody>\n",
       "</table>\n",
       "</div>"
      ],
      "text/plain": [
       "department  user_id\n",
       "labels             \n",
       "0             42787\n",
       "1            144776\n",
       "2             14677\n",
       "3              3969"
      ]
     },
     "execution_count": 79,
     "metadata": {},
     "output_type": "execute_result"
    }
   ],
   "source": [
    "cluster_data.reset_index()[['labels','user_id']].groupby('labels').count()"
   ]
  },
  {
   "cell_type": "code",
   "execution_count": null,
   "metadata": {
    "id": "1rcOhH8KmxQ7",
    "outputId": "21a539e1-b08b-4028-a614-3ffe3ff98036"
   },
   "outputs": [
    {
     "data": {
      "text/html": [
       "<div>\n",
       "<style scoped>\n",
       "    .dataframe tbody tr th:only-of-type {\n",
       "        vertical-align: middle;\n",
       "    }\n",
       "\n",
       "    .dataframe tbody tr th {\n",
       "        vertical-align: top;\n",
       "    }\n",
       "\n",
       "    .dataframe thead th {\n",
       "        text-align: right;\n",
       "    }\n",
       "</style>\n",
       "<table border=\"1\" class=\"dataframe\">\n",
       "  <thead>\n",
       "    <tr style=\"text-align: right;\">\n",
       "      <th>department</th>\n",
       "      <th>produce</th>\n",
       "      <th>dairy eggs</th>\n",
       "      <th>snacks</th>\n",
       "      <th>beverages</th>\n",
       "      <th>frozen</th>\n",
       "      <th>pantry</th>\n",
       "      <th>bakery</th>\n",
       "    </tr>\n",
       "  </thead>\n",
       "  <tbody>\n",
       "    <tr>\n",
       "      <th>0</th>\n",
       "      <td>3243825.0</td>\n",
       "      <td>1855679.0</td>\n",
       "      <td>983735.0</td>\n",
       "      <td>925598.0</td>\n",
       "      <td>793061.0</td>\n",
       "      <td>644167.0</td>\n",
       "      <td>400551.0</td>\n",
       "    </tr>\n",
       "    <tr>\n",
       "      <th>1</th>\n",
       "      <td>2417849.0</td>\n",
       "      <td>1581155.0</td>\n",
       "      <td>981239.0</td>\n",
       "      <td>1049672.0</td>\n",
       "      <td>825416.0</td>\n",
       "      <td>656422.0</td>\n",
       "      <td>384419.0</td>\n",
       "    </tr>\n",
       "    <tr>\n",
       "      <th>2</th>\n",
       "      <td>2684175.0</td>\n",
       "      <td>1480991.0</td>\n",
       "      <td>721088.0</td>\n",
       "      <td>599388.0</td>\n",
       "      <td>506226.0</td>\n",
       "      <td>448107.0</td>\n",
       "      <td>299252.0</td>\n",
       "    </tr>\n",
       "    <tr>\n",
       "      <th>3</th>\n",
       "      <td>1542529.0</td>\n",
       "      <td>713242.0</td>\n",
       "      <td>320350.0</td>\n",
       "      <td>229517.0</td>\n",
       "      <td>212155.0</td>\n",
       "      <td>208123.0</td>\n",
       "      <td>140959.0</td>\n",
       "    </tr>\n",
       "  </tbody>\n",
       "</table>\n",
       "</div>"
      ],
      "text/plain": [
       "department    produce  dairy eggs    snacks  beverages    frozen    pantry  \\\n",
       "0           3243825.0   1855679.0  983735.0   925598.0  793061.0  644167.0   \n",
       "1           2417849.0   1581155.0  981239.0  1049672.0  825416.0  656422.0   \n",
       "2           2684175.0   1480991.0  721088.0   599388.0  506226.0  448107.0   \n",
       "3           1542529.0    713242.0  320350.0   229517.0  212155.0  208123.0   \n",
       "\n",
       "department    bakery  \n",
       "0           400551.0  \n",
       "1           384419.0  \n",
       "2           299252.0  \n",
       "3           140959.0  "
      ]
     },
     "execution_count": 96,
     "metadata": {},
     "output_type": "execute_result"
    }
   ],
   "source": [
    "# Getting the frequency count of each cluster for each department (top 8)\n",
    "cluster_data.groupby('labels').sum().reset_index(drop=True)"
   ]
  },
  {
   "cell_type": "code",
   "execution_count": null,
   "metadata": {
    "id": "dVSc0sijmxQ7"
   },
   "outputs": [],
   "source": [
    "# Saving the data to csv\n",
    "cluster_data.groupby('labels').sum().to_csv('clustering_1.csv')"
   ]
  },
  {
   "cell_type": "code",
   "execution_count": null,
   "metadata": {
    "id": "DIfVhFlXmxQ7"
   },
   "outputs": [],
   "source": [
    "# Setting up new columns based on day of week\n",
    "orders_df.loc[orders_df['order_dow'].isin([0,1]), 'Weekday_Tag'] = 'Weekend'\n",
    "orders_df.loc[orders_df['order_dow'].isin([2,3,4,5,6]), 'Weekday_Tag'] = 'Weekday'\n",
    "\n",
    "# Adding a new column, Hour_tag containing categorical values based on integer values\n",
    "orders_df.loc[orders_df['order_hour_of_day'].isin([5,6,7,8,9,10,11]), 'Hour_Tag'] = 'Morning'\n",
    "orders_df.loc[orders_df['order_hour_of_day'].isin([12,13,14,15,16,17]), 'Hour_Tag'] = 'Lunch'\n",
    "orders_df.loc[orders_df['order_hour_of_day'].isin([18,19,20,21,22,23]), 'Hour_Tag'] = 'Dinner'\n",
    "orders_df.loc[orders_df['order_hour_of_day'].isin([24,0,1,2,3,4]), 'Hour_Tag'] = 'Late_Night'"
   ]
  },
  {
   "cell_type": "code",
   "execution_count": null,
   "metadata": {
    "id": "fLxD9YGsmxQ7"
   },
   "outputs": [],
   "source": [
    "orders_df['Concat_Tag'] =  orders_df[['Weekday_Tag', 'Hour_Tag']].agg('_'.join, axis=1)"
   ]
  },
  {
   "cell_type": "code",
   "execution_count": null,
   "metadata": {
    "id": "XMmq2PUYmxQ7"
   },
   "outputs": [],
   "source": [
    "# Making another cluster based on the new encoded dataframe\n",
    "cluster_2 = orders_df.reset_index().pivot_table(index='user_id', columns=['Concat_Tag'], \n",
    "                                                values = 'order_id', aggfunc='count')"
   ]
  },
  {
   "cell_type": "code",
   "execution_count": null,
   "metadata": {
    "id": "sIjNxQmJmxQ7"
   },
   "outputs": [],
   "source": [
    "cluster_2.fillna(0, inplace=True)"
   ]
  },
  {
   "cell_type": "code",
   "execution_count": null,
   "metadata": {
    "id": "IczOvPjEmxQ7",
    "outputId": "00d76091-af30-4a03-efc2-998f48975ddc"
   },
   "outputs": [
    {
     "name": "stdout",
     "output_type": "stream",
     "text": [
      "2\n",
      "3\n",
      "4\n",
      "5\n",
      "6\n",
      "7\n",
      "8\n",
      "9\n"
     ]
    },
    {
     "data": {
      "image/png": "[encoded data removed]",
      "text/plain": [
       "<Figure size 640x480 with 1 Axes>"
      ]
     },
     "metadata": {},
     "output_type": "display_data"
    }
   ],
   "source": [
    "Sum_of_squared_distances = []\n",
    "silhouette = []\n",
    "\n",
    "# Again using KMeans to get optimal K value\n",
    "K = range(2,10)\n",
    "for num_clusters in K :\n",
    "  print(num_clusters)\n",
    "  kmeans = KMeans(n_clusters=num_clusters)\n",
    "  kmeans.fit(cluster_2)\n",
    "  #Sum_of_squared_distances.append(kmeans.inertia_)\n",
    "  silhouette.append(silhouette_score(cluster_2, kmeans.labels_, metric='euclidean'))\n",
    "\n",
    "plt.plot(K, silhouette,'bx-')\n",
    "plt.xlabel('Values of K') \n",
    "plt.ylabel('Sum of squared distances/Inertia') \n",
    "plt.title('Elbow Method For Optimal k')\n",
    "plt.show()"
   ]
  },
  {
   "cell_type": "code",
   "execution_count": null,
   "metadata": {
    "id": "1K9duPq0mxQ7",
    "outputId": "f2e5b85a-1ede-4a06-fd4b-28e13ba40315"
   },
   "outputs": [
    {
     "data": {
      "text/html": [
       "<div>\n",
       "<style scoped>\n",
       "    .dataframe tbody tr th:only-of-type {\n",
       "        vertical-align: middle;\n",
       "    }\n",
       "\n",
       "    .dataframe tbody tr th {\n",
       "        vertical-align: top;\n",
       "    }\n",
       "\n",
       "    .dataframe thead th {\n",
       "        text-align: right;\n",
       "    }\n",
       "</style>\n",
       "<table border=\"1\" class=\"dataframe\">\n",
       "  <thead>\n",
       "    <tr style=\"text-align: right;\">\n",
       "      <th>Concat_Tag</th>\n",
       "      <th>Weekday_Dinner</th>\n",
       "      <th>Weekday_Late_Night</th>\n",
       "      <th>Weekday_Lunch</th>\n",
       "      <th>Weekday_Morning</th>\n",
       "      <th>Weekend_Dinner</th>\n",
       "      <th>Weekend_Late_Night</th>\n",
       "      <th>Weekend_Lunch</th>\n",
       "      <th>Weekend_Morning</th>\n",
       "    </tr>\n",
       "    <tr>\n",
       "      <th>labels</th>\n",
       "      <th></th>\n",
       "      <th></th>\n",
       "      <th></th>\n",
       "      <th></th>\n",
       "      <th></th>\n",
       "      <th></th>\n",
       "      <th></th>\n",
       "      <th></th>\n",
       "    </tr>\n",
       "  </thead>\n",
       "  <tbody>\n",
       "    <tr>\n",
       "      <th>0</th>\n",
       "      <td>32514.0</td>\n",
       "      <td>2991.0</td>\n",
       "      <td>93510.0</td>\n",
       "      <td>159382.0</td>\n",
       "      <td>17493.0</td>\n",
       "      <td>1500.0</td>\n",
       "      <td>52730.0</td>\n",
       "      <td>93101.0</td>\n",
       "    </tr>\n",
       "    <tr>\n",
       "      <th>1</th>\n",
       "      <td>132796.0</td>\n",
       "      <td>14021.0</td>\n",
       "      <td>269510.0</td>\n",
       "      <td>202127.0</td>\n",
       "      <td>70284.0</td>\n",
       "      <td>6942.0</td>\n",
       "      <td>179632.0</td>\n",
       "      <td>120485.0</td>\n",
       "    </tr>\n",
       "    <tr>\n",
       "      <th>2</th>\n",
       "      <td>27146.0</td>\n",
       "      <td>1944.0</td>\n",
       "      <td>116722.0</td>\n",
       "      <td>49944.0</td>\n",
       "      <td>11092.0</td>\n",
       "      <td>913.0</td>\n",
       "      <td>43955.0</td>\n",
       "      <td>21957.0</td>\n",
       "    </tr>\n",
       "    <tr>\n",
       "      <th>3</th>\n",
       "      <td>16832.0</td>\n",
       "      <td>1375.0</td>\n",
       "      <td>60757.0</td>\n",
       "      <td>104753.0</td>\n",
       "      <td>8198.0</td>\n",
       "      <td>588.0</td>\n",
       "      <td>23192.0</td>\n",
       "      <td>37939.0</td>\n",
       "    </tr>\n",
       "    <tr>\n",
       "      <th>4</th>\n",
       "      <td>86467.0</td>\n",
       "      <td>6158.0</td>\n",
       "      <td>208477.0</td>\n",
       "      <td>93711.0</td>\n",
       "      <td>36203.0</td>\n",
       "      <td>2857.0</td>\n",
       "      <td>104924.0</td>\n",
       "      <td>50939.0</td>\n",
       "    </tr>\n",
       "    <tr>\n",
       "      <th>5</th>\n",
       "      <td>114621.0</td>\n",
       "      <td>9522.0</td>\n",
       "      <td>298352.0</td>\n",
       "      <td>129068.0</td>\n",
       "      <td>53747.0</td>\n",
       "      <td>4885.0</td>\n",
       "      <td>167108.0</td>\n",
       "      <td>77719.0</td>\n",
       "    </tr>\n",
       "  </tbody>\n",
       "</table>\n",
       "</div>"
      ],
      "text/plain": [
       "Concat_Tag  Weekday_Dinner  Weekday_Late_Night  Weekday_Lunch  \\\n",
       "labels                                                          \n",
       "0                  32514.0              2991.0        93510.0   \n",
       "1                 132796.0             14021.0       269510.0   \n",
       "2                  27146.0              1944.0       116722.0   \n",
       "3                  16832.0              1375.0        60757.0   \n",
       "4                  86467.0              6158.0       208477.0   \n",
       "5                 114621.0              9522.0       298352.0   \n",
       "\n",
       "Concat_Tag  Weekday_Morning  Weekend_Dinner  Weekend_Late_Night  \\\n",
       "labels                                                            \n",
       "0                  159382.0         17493.0              1500.0   \n",
       "1                  202127.0         70284.0              6942.0   \n",
       "2                   49944.0         11092.0               913.0   \n",
       "3                  104753.0          8198.0               588.0   \n",
       "4                   93711.0         36203.0              2857.0   \n",
       "5                  129068.0         53747.0              4885.0   \n",
       "\n",
       "Concat_Tag  Weekend_Lunch  Weekend_Morning  \n",
       "labels                                      \n",
       "0                 52730.0          93101.0  \n",
       "1                179632.0         120485.0  \n",
       "2                 43955.0          21957.0  \n",
       "3                 23192.0          37939.0  \n",
       "4                104924.0          50939.0  \n",
       "5                167108.0          77719.0  "
      ]
     },
     "execution_count": 13,
     "metadata": {},
     "output_type": "execute_result"
    }
   ],
   "source": [
    "# Fitting cluster and checking the labels\n",
    "kmeans_2 = KMeans(n_clusters=6)\n",
    "kmeans_2.fit(cluster_2)\n",
    "\n",
    "cluster_2['labels'] = kmeans_2.labels_\n",
    "cluster_2.groupby('labels').sum()"
   ]
  },
  {
   "cell_type": "code",
   "execution_count": null,
   "metadata": {
    "id": "6s0PhgkkmxQ7",
    "outputId": "ae29e55a-b11f-4fbb-e6fa-27e5a272d338"
   },
   "outputs": [
    {
     "name": "stderr",
     "output_type": "stream",
     "text": [
      "/home/jain.ka/.conda/envs/custom/lib/python3.7/site-packages/ipykernel_launcher.py:8: UserWarning: \n",
      "The palette list has fewer values (4) than needed (6) and will cycle, which may produce an uninterpretable plot.\n",
      "  \n"
     ]
    },
    {
     "data": {
      "text/plain": [
       "<AxesSubplot:xlabel='PC1', ylabel='PC2'>"
      ]
     },
     "execution_count": 61,
     "metadata": {},
     "output_type": "execute_result"
    },
    {
     "data": {
      "image/png": "[encoded data removed]",
      "text/plain": [
       "<Figure size 640x480 with 1 Axes>"
      ]
     },
     "metadata": {},
     "output_type": "display_data"
    }
   ],
   "source": [
    "# Using PCA to visualise the data\n",
    "pca = PCA(n_components=2)\n",
    "pca.fit(cluster_2)\n",
    "# pca_samples = pca.transform(cluster_data)\n",
    "pca_samples_2 = pd.DataFrame(pca.fit_transform(cluster_2),columns=['PC1','PC2']) \n",
    "pca_samples_2['cluster'] = pd.Categorical(kmeans_2.labels_)\n",
    "\n",
    "sns.scatterplot(x=\"PC1\",y=\"PC2\",hue=\"cluster\",data=pca_samples_2,\n",
    "               palette=['green','orange','dodgerblue','red'])"
   ]
  },
  {
   "cell_type": "code",
   "execution_count": null,
   "metadata": {
    "id": "9_luJ1axmxQ7",
    "outputId": "67559dcd-5a92-46ce-f7dc-ff4305841578"
   },
   "outputs": [
    {
     "data": {
      "text/html": [
       "<div>\n",
       "<style scoped>\n",
       "    .dataframe tbody tr th:only-of-type {\n",
       "        vertical-align: middle;\n",
       "    }\n",
       "\n",
       "    .dataframe tbody tr th {\n",
       "        vertical-align: top;\n",
       "    }\n",
       "\n",
       "    .dataframe thead th {\n",
       "        text-align: right;\n",
       "    }\n",
       "</style>\n",
       "<table border=\"1\" class=\"dataframe\">\n",
       "  <thead>\n",
       "    <tr style=\"text-align: right;\">\n",
       "      <th>Concat_Tag</th>\n",
       "      <th>Weekday_Dinner</th>\n",
       "      <th>Weekday_Late_Night</th>\n",
       "      <th>Weekday_Lunch</th>\n",
       "      <th>Weekday_Morning</th>\n",
       "      <th>Weekend_Dinner</th>\n",
       "      <th>Weekend_Late_Night</th>\n",
       "      <th>Weekend_Lunch</th>\n",
       "      <th>Weekend_Morning</th>\n",
       "      <th>labels</th>\n",
       "    </tr>\n",
       "    <tr>\n",
       "      <th>user_id</th>\n",
       "      <th></th>\n",
       "      <th></th>\n",
       "      <th></th>\n",
       "      <th></th>\n",
       "      <th></th>\n",
       "      <th></th>\n",
       "      <th></th>\n",
       "      <th></th>\n",
       "      <th></th>\n",
       "    </tr>\n",
       "  </thead>\n",
       "  <tbody>\n",
       "    <tr>\n",
       "      <th>1</th>\n",
       "      <td>0.0</td>\n",
       "      <td>0.0</td>\n",
       "      <td>2.0</td>\n",
       "      <td>6.0</td>\n",
       "      <td>0.0</td>\n",
       "      <td>0.0</td>\n",
       "      <td>2.0</td>\n",
       "      <td>1.0</td>\n",
       "      <td>0</td>\n",
       "    </tr>\n",
       "    <tr>\n",
       "      <th>2</th>\n",
       "      <td>0.0</td>\n",
       "      <td>0.0</td>\n",
       "      <td>1.0</td>\n",
       "      <td>8.0</td>\n",
       "      <td>0.0</td>\n",
       "      <td>0.0</td>\n",
       "      <td>1.0</td>\n",
       "      <td>5.0</td>\n",
       "      <td>4</td>\n",
       "    </tr>\n",
       "    <tr>\n",
       "      <th>3</th>\n",
       "      <td>2.0</td>\n",
       "      <td>0.0</td>\n",
       "      <td>3.0</td>\n",
       "      <td>0.0</td>\n",
       "      <td>1.0</td>\n",
       "      <td>0.0</td>\n",
       "      <td>7.0</td>\n",
       "      <td>0.0</td>\n",
       "      <td>0</td>\n",
       "    </tr>\n",
       "    <tr>\n",
       "      <th>4</th>\n",
       "      <td>0.0</td>\n",
       "      <td>0.0</td>\n",
       "      <td>4.0</td>\n",
       "      <td>2.0</td>\n",
       "      <td>0.0</td>\n",
       "      <td>0.0</td>\n",
       "      <td>0.0</td>\n",
       "      <td>0.0</td>\n",
       "      <td>0</td>\n",
       "    </tr>\n",
       "    <tr>\n",
       "      <th>5</th>\n",
       "      <td>1.0</td>\n",
       "      <td>0.0</td>\n",
       "      <td>1.0</td>\n",
       "      <td>0.0</td>\n",
       "      <td>1.0</td>\n",
       "      <td>0.0</td>\n",
       "      <td>1.0</td>\n",
       "      <td>1.0</td>\n",
       "      <td>0</td>\n",
       "    </tr>\n",
       "  </tbody>\n",
       "</table>\n",
       "</div>"
      ],
      "text/plain": [
       "Concat_Tag  Weekday_Dinner  Weekday_Late_Night  Weekday_Lunch  \\\n",
       "user_id                                                         \n",
       "1                      0.0                 0.0            2.0   \n",
       "2                      0.0                 0.0            1.0   \n",
       "3                      2.0                 0.0            3.0   \n",
       "4                      0.0                 0.0            4.0   \n",
       "5                      1.0                 0.0            1.0   \n",
       "\n",
       "Concat_Tag  Weekday_Morning  Weekend_Dinner  Weekend_Late_Night  \\\n",
       "user_id                                                           \n",
       "1                       6.0             0.0                 0.0   \n",
       "2                       8.0             0.0                 0.0   \n",
       "3                       0.0             1.0                 0.0   \n",
       "4                       2.0             0.0                 0.0   \n",
       "5                       0.0             1.0                 0.0   \n",
       "\n",
       "Concat_Tag  Weekend_Lunch  Weekend_Morning  labels  \n",
       "user_id                                             \n",
       "1                     2.0              1.0       0  \n",
       "2                     1.0              5.0       4  \n",
       "3                     7.0              0.0       0  \n",
       "4                     0.0              0.0       0  \n",
       "5                     1.0              1.0       0  "
      ]
     },
     "execution_count": 92,
     "metadata": {},
     "output_type": "execute_result"
    }
   ],
   "source": [
    "cluster_2.head()"
   ]
  },
  {
   "cell_type": "code",
   "execution_count": null,
   "metadata": {
    "id": "PZpoyONcmxQ7"
   },
   "outputs": [],
   "source": [
    "cluster_2.reset_index().groupby('labels').sum().to_csv('clustering.csv')"
   ]
  },
  {
   "cell_type": "markdown",
   "metadata": {
    "id": "zwHoiVpImxQ8"
   },
   "source": [
    "### Recommendation Code"
   ]
  },
  {
   "cell_type": "code",
   "execution_count": null,
   "metadata": {
    "id": "6VXry0C_mxQ8"
   },
   "outputs": [],
   "source": [
    "order_products_prior_df.fillna(0,inplace=True)\n",
    "order_products_train_df.fillna(0,inplace=True)\n",
    "orders_df.fillna(0,inplace=True)"
   ]
  },
  {
   "cell_type": "code",
   "execution_count": null,
   "metadata": {
    "id": "JiEnCsgFmxQ8"
   },
   "outputs": [],
   "source": [
    "data_merged = pd.concat([order_products_train_df, order_products_prior_df])\n",
    "orders = orders_df[['order_id','user_id']]\n",
    "\n",
    "data_merged = pd.merge(data_merged, orders, on='order_id').drop('order_id',axis=1)"
   ]
  },
  {
   "cell_type": "code",
   "execution_count": null,
   "metadata": {
    "id": "pe6Rcqo-mxQ8"
   },
   "outputs": [],
   "source": [
    "data_merged = data_merged.join(pd.DataFrame({'BoughtFlag': [1]*len(data_merged)}))"
   ]
  },
  {
   "cell_type": "code",
   "execution_count": null,
   "metadata": {
    "id": "smay8G1xmxQ8"
   },
   "outputs": [],
   "source": [
    "total_bought = data_merged.groupby(['user_id','product_id']).BoughtFlag.sum()\n",
    "data_merged = pd.merge(data_merged,total_bought, on=['user_id','product_id'], how='left')"
   ]
  },
  {
   "cell_type": "code",
   "execution_count": null,
   "metadata": {
    "id": "d_Ygsb3rmxQ8"
   },
   "outputs": [],
   "source": [
    "data_merged = data_merged[data_merged.BoughtFlag_y>0]\n",
    "data_merged['target'] = data_merged['BoughtFlag_y']\n",
    "data_merged.drop(['BoughtFlag_x','BoughtFlag_y','add_to_cart_order'],axis=1,inplace=True)"
   ]
  },
  {
   "cell_type": "code",
   "execution_count": null,
   "metadata": {
    "id": "jjoJDGfPmxQ8"
   },
   "outputs": [],
   "source": [
    "data_merged.drop_duplicates(inplace=True)"
   ]
  },
  {
   "cell_type": "code",
   "execution_count": null,
   "metadata": {
    "id": "VcKB7qLCmxQ8"
   },
   "outputs": [],
   "source": [
    "relation = data_merged[['user_id','product_id']].copy()\n",
    "relation.drop_duplicates(inplace=True)\n",
    "\n",
    "test = orders_df[orders_df.eval_set=='test']\n",
    "test = test[['user_id']]\n",
    "test_data = turicreate.SFrame(test)\n",
    "relation_data = turicreate.SFrame(relation)"
   ]
  },
  {
   "cell_type": "code",
   "execution_count": null,
   "metadata": {
    "id": "6YpNMcHvmxQ8"
   },
   "outputs": [],
   "source": [
    "train_data = turicreate.SFrame(data_merged)\n",
    "test_data = turicreate.SFrame(test)\n",
    "relation_data = turicreate.SFrame(relation)"
   ]
  },
  {
   "cell_type": "code",
   "execution_count": null,
   "metadata": {
    "id": "YxOXviF-mxQ8",
    "outputId": "0c79b05f-fa4a-4c19-becc-cd2fc770d0f9"
   },
   "outputs": [
    {
     "data": {
      "text/html": [
       "<pre>Warning: Ignoring columns reordered;</pre>"
      ],
      "text/plain": [
       "Warning: Ignoring columns reordered;"
      ]
     },
     "metadata": {},
     "output_type": "display_data"
    },
    {
     "data": {
      "text/html": [
       "<pre>    To use these columns in scoring predictions, use a model that allows the use of additional features.</pre>"
      ],
      "text/plain": [
       "    To use these columns in scoring predictions, use a model that allows the use of additional features."
      ]
     },
     "metadata": {},
     "output_type": "display_data"
    },
    {
     "data": {
      "text/html": [
       "<pre>Preparing data set.</pre>"
      ],
      "text/plain": [
       "Preparing data set."
      ]
     },
     "metadata": {},
     "output_type": "display_data"
    },
    {
     "data": {
      "text/html": [
       "<pre>    Data has 19428226 observations with 206209 users and 49685 items.</pre>"
      ],
      "text/plain": [
       "    Data has 19428226 observations with 206209 users and 49685 items."
      ]
     },
     "metadata": {},
     "output_type": "display_data"
    },
    {
     "data": {
      "text/html": [
       "<pre>    Data prepared in: 25.6631s</pre>"
      ],
      "text/plain": [
       "    Data prepared in: 25.6631s"
      ]
     },
     "metadata": {},
     "output_type": "display_data"
    },
    {
     "data": {
      "text/html": [
       "<pre>Training model from provided data.</pre>"
      ],
      "text/plain": [
       "Training model from provided data."
      ]
     },
     "metadata": {},
     "output_type": "display_data"
    },
    {
     "data": {
      "text/html": [
       "<pre>Gathering per-item and per-user statistics.</pre>"
      ],
      "text/plain": [
       "Gathering per-item and per-user statistics."
      ]
     },
     "metadata": {},
     "output_type": "display_data"
    },
    {
     "data": {
      "text/html": [
       "<pre>+--------------------------------+------------+</pre>"
      ],
      "text/plain": [
       "+--------------------------------+------------+"
      ]
     },
     "metadata": {},
     "output_type": "display_data"
    },
    {
     "data": {
      "text/html": [
       "<pre>| Elapsed Time (Item Statistics) | % Complete |</pre>"
      ],
      "text/plain": [
       "| Elapsed Time (Item Statistics) | % Complete |"
      ]
     },
     "metadata": {},
     "output_type": "display_data"
    },
    {
     "data": {
      "text/html": [
       "<pre>+--------------------------------+------------+</pre>"
      ],
      "text/plain": [
       "+--------------------------------+------------+"
      ]
     },
     "metadata": {},
     "output_type": "display_data"
    },
    {
     "data": {
      "text/html": [
       "<pre>| 2.927ms                        | 0.25       |</pre>"
      ],
      "text/plain": [
       "| 2.927ms                        | 0.25       |"
      ]
     },
     "metadata": {},
     "output_type": "display_data"
    },
    {
     "data": {
      "text/html": [
       "<pre>| 255.684ms                      | 100        |</pre>"
      ],
      "text/plain": [
       "| 255.684ms                      | 100        |"
      ]
     },
     "metadata": {},
     "output_type": "display_data"
    },
    {
     "data": {
      "text/html": [
       "<pre>+--------------------------------+------------+</pre>"
      ],
      "text/plain": [
       "+--------------------------------+------------+"
      ]
     },
     "metadata": {},
     "output_type": "display_data"
    },
    {
     "data": {
      "text/html": [
       "<pre>Setting up lookup tables.</pre>"
      ],
      "text/plain": [
       "Setting up lookup tables."
      ]
     },
     "metadata": {},
     "output_type": "display_data"
    },
    {
     "data": {
      "text/html": [
       "<pre>Processing data in 2 passes using dense lookup tables.</pre>"
      ],
      "text/plain": [
       "Processing data in 2 passes using dense lookup tables."
      ]
     },
     "metadata": {},
     "output_type": "display_data"
    },
    {
     "data": {
      "text/html": [
       "<pre>+-------------------------------------+------------------+-----------------+</pre>"
      ],
      "text/plain": [
       "+-------------------------------------+------------------+-----------------+"
      ]
     },
     "metadata": {},
     "output_type": "display_data"
    },
    {
     "data": {
      "text/html": [
       "<pre>| Elapsed Time (Constructing Lookups) | Total % Complete | Items Processed |</pre>"
      ],
      "text/plain": [
       "| Elapsed Time (Constructing Lookups) | Total % Complete | Items Processed |"
      ]
     },
     "metadata": {},
     "output_type": "display_data"
    },
    {
     "data": {
      "text/html": [
       "<pre>+-------------------------------------+------------------+-----------------+</pre>"
      ],
      "text/plain": [
       "+-------------------------------------+------------------+-----------------+"
      ]
     },
     "metadata": {},
     "output_type": "display_data"
    },
    {
     "data": {
      "text/html": [
       "<pre>| 5.07s                               | 0                | 0               |</pre>"
      ],
      "text/plain": [
       "| 5.07s                               | 0                | 0               |"
      ]
     },
     "metadata": {},
     "output_type": "display_data"
    },
    {
     "data": {
      "text/html": [
       "<pre>| 8.07s                               | 14.5             | 7228            |</pre>"
      ],
      "text/plain": [
       "| 8.07s                               | 14.5             | 7228            |"
      ]
     },
     "metadata": {},
     "output_type": "display_data"
    },
    {
     "data": {
      "text/html": [
       "<pre>| 11.07s                              | 28.25            | 14128           |</pre>"
      ],
      "text/plain": [
       "| 11.07s                              | 28.25            | 14128           |"
      ]
     },
     "metadata": {},
     "output_type": "display_data"
    },
    {
     "data": {
      "text/html": [
       "<pre>| 14.07s                              | 42               | 20921           |</pre>"
      ],
      "text/plain": [
       "| 14.07s                              | 42               | 20921           |"
      ]
     },
     "metadata": {},
     "output_type": "display_data"
    },
    {
     "data": {
      "text/html": [
       "<pre>| 22.72s                              | 49.75            | 24840           |</pre>"
      ],
      "text/plain": [
       "| 22.72s                              | 49.75            | 24840           |"
      ]
     },
     "metadata": {},
     "output_type": "display_data"
    },
    {
     "data": {
      "text/html": [
       "<pre>| 23.96s                              | 100              | 49685           |</pre>"
      ],
      "text/plain": [
       "| 23.96s                              | 100              | 49685           |"
      ]
     },
     "metadata": {},
     "output_type": "display_data"
    },
    {
     "data": {
      "text/html": [
       "<pre>+-------------------------------------+------------------+-----------------+</pre>"
      ],
      "text/plain": [
       "+-------------------------------------+------------------+-----------------+"
      ]
     },
     "metadata": {},
     "output_type": "display_data"
    },
    {
     "data": {
      "text/html": [
       "<pre>Finalizing lookup tables.</pre>"
      ],
      "text/plain": [
       "Finalizing lookup tables."
      ]
     },
     "metadata": {},
     "output_type": "display_data"
    },
    {
     "data": {
      "text/html": [
       "<pre>Generating candidate set for working with new users.</pre>"
      ],
      "text/plain": [
       "Generating candidate set for working with new users."
      ]
     },
     "metadata": {},
     "output_type": "display_data"
    },
    {
     "data": {
      "text/html": [
       "<pre>Finished training in 27.717s</pre>"
      ],
      "text/plain": [
       "Finished training in 27.717s"
      ]
     },
     "metadata": {},
     "output_type": "display_data"
    }
   ],
   "source": [
    "recommender =  turicreate.recommender.item_similarity_recommender.create(train_data, user_id='user_id', item_id='product_id', target='target', similarity_type='cosine', verbose=True)"
   ]
  },
  {
   "cell_type": "code",
   "execution_count": null,
   "metadata": {
    "id": "HQZPOUJNmxQ8",
    "outputId": "97a2868f-e0f0-45c7-8f94-54b7baf33774"
   },
   "outputs": [
    {
     "data": {
      "text/html": [
       "<pre>recommendations finished on 1000/75000 queries. users per second: 12470.7</pre>"
      ],
      "text/plain": [
       "recommendations finished on 1000/75000 queries. users per second: 12470.7"
      ]
     },
     "metadata": {},
     "output_type": "display_data"
    },
    {
     "data": {
      "text/html": [
       "<pre>recommendations finished on 2000/75000 queries. users per second: 14336.2</pre>"
      ],
      "text/plain": [
       "recommendations finished on 2000/75000 queries. users per second: 14336.2"
      ]
     },
     "metadata": {},
     "output_type": "display_data"
    },
    {
     "data": {
      "text/html": [
       "<pre>recommendations finished on 3000/75000 queries. users per second: 15472.8</pre>"
      ],
      "text/plain": [
       "recommendations finished on 3000/75000 queries. users per second: 15472.8"
      ]
     },
     "metadata": {},
     "output_type": "display_data"
    },
    {
     "data": {
      "text/html": [
       "<pre>recommendations finished on 4000/75000 queries. users per second: 15984</pre>"
      ],
      "text/plain": [
       "recommendations finished on 4000/75000 queries. users per second: 15984"
      ]
     },
     "metadata": {},
     "output_type": "display_data"
    },
    {
     "data": {
      "text/html": [
       "<pre>recommendations finished on 5000/75000 queries. users per second: 16709.7</pre>"
      ],
      "text/plain": [
       "recommendations finished on 5000/75000 queries. users per second: 16709.7"
      ]
     },
     "metadata": {},
     "output_type": "display_data"
    },
    {
     "data": {
      "text/html": [
       "<pre>recommendations finished on 6000/75000 queries. users per second: 16808.8</pre>"
      ],
      "text/plain": [
       "recommendations finished on 6000/75000 queries. users per second: 16808.8"
      ]
     },
     "metadata": {},
     "output_type": "display_data"
    },
    {
     "data": {
      "text/html": [
       "<pre>recommendations finished on 7000/75000 queries. users per second: 16899</pre>"
      ],
      "text/plain": [
       "recommendations finished on 7000/75000 queries. users per second: 16899"
      ]
     },
     "metadata": {},
     "output_type": "display_data"
    },
    {
     "data": {
      "text/html": [
       "<pre>recommendations finished on 8000/75000 queries. users per second: 17081.5</pre>"
      ],
      "text/plain": [
       "recommendations finished on 8000/75000 queries. users per second: 17081.5"
      ]
     },
     "metadata": {},
     "output_type": "display_data"
    },
    {
     "data": {
      "text/html": [
       "<pre>recommendations finished on 9000/75000 queries. users per second: 17298.8</pre>"
      ],
      "text/plain": [
       "recommendations finished on 9000/75000 queries. users per second: 17298.8"
      ]
     },
     "metadata": {},
     "output_type": "display_data"
    },
    {
     "data": {
      "text/html": [
       "<pre>recommendations finished on 10000/75000 queries. users per second: 17441</pre>"
      ],
      "text/plain": [
       "recommendations finished on 10000/75000 queries. users per second: 17441"
      ]
     },
     "metadata": {},
     "output_type": "display_data"
    },
    {
     "data": {
      "text/html": [
       "<pre>recommendations finished on 11000/75000 queries. users per second: 17338.7</pre>"
      ],
      "text/plain": [
       "recommendations finished on 11000/75000 queries. users per second: 17338.7"
      ]
     },
     "metadata": {},
     "output_type": "display_data"
    },
    {
     "data": {
      "text/html": [
       "<pre>recommendations finished on 12000/75000 queries. users per second: 17400.4</pre>"
      ],
      "text/plain": [
       "recommendations finished on 12000/75000 queries. users per second: 17400.4"
      ]
     },
     "metadata": {},
     "output_type": "display_data"
    },
    {
     "data": {
      "text/html": [
       "<pre>recommendations finished on 13000/75000 queries. users per second: 17400.1</pre>"
      ],
      "text/plain": [
       "recommendations finished on 13000/75000 queries. users per second: 17400.1"
      ]
     },
     "metadata": {},
     "output_type": "display_data"
    },
    {
     "data": {
      "text/html": [
       "<pre>recommendations finished on 14000/75000 queries. users per second: 17538.5</pre>"
      ],
      "text/plain": [
       "recommendations finished on 14000/75000 queries. users per second: 17538.5"
      ]
     },
     "metadata": {},
     "output_type": "display_data"
    },
    {
     "data": {
      "text/html": [
       "<pre>recommendations finished on 15000/75000 queries. users per second: 17812.1</pre>"
      ],
      "text/plain": [
       "recommendations finished on 15000/75000 queries. users per second: 17812.1"
      ]
     },
     "metadata": {},
     "output_type": "display_data"
    },
    {
     "data": {
      "text/html": [
       "<pre>recommendations finished on 16000/75000 queries. users per second: 18112.6</pre>"
      ],
      "text/plain": [
       "recommendations finished on 16000/75000 queries. users per second: 18112.6"
      ]
     },
     "metadata": {},
     "output_type": "display_data"
    },
    {
     "data": {
      "text/html": [
       "<pre>recommendations finished on 17000/75000 queries. users per second: 18281.6</pre>"
      ],
      "text/plain": [
       "recommendations finished on 17000/75000 queries. users per second: 18281.6"
      ]
     },
     "metadata": {},
     "output_type": "display_data"
    },
    {
     "data": {
      "text/html": [
       "<pre>recommendations finished on 18000/75000 queries. users per second: 18373.7</pre>"
      ],
      "text/plain": [
       "recommendations finished on 18000/75000 queries. users per second: 18373.7"
      ]
     },
     "metadata": {},
     "output_type": "display_data"
    },
    {
     "data": {
      "text/html": [
       "<pre>recommendations finished on 19000/75000 queries. users per second: 18599.7</pre>"
      ],
      "text/plain": [
       "recommendations finished on 19000/75000 queries. users per second: 18599.7"
      ]
     },
     "metadata": {},
     "output_type": "display_data"
    },
    {
     "data": {
      "text/html": [
       "<pre>recommendations finished on 20000/75000 queries. users per second: 18660.9</pre>"
      ],
      "text/plain": [
       "recommendations finished on 20000/75000 queries. users per second: 18660.9"
      ]
     },
     "metadata": {},
     "output_type": "display_data"
    },
    {
     "data": {
      "text/html": [
       "<pre>recommendations finished on 21000/75000 queries. users per second: 18829.3</pre>"
      ],
      "text/plain": [
       "recommendations finished on 21000/75000 queries. users per second: 18829.3"
      ]
     },
     "metadata": {},
     "output_type": "display_data"
    },
    {
     "data": {
      "text/html": [
       "<pre>recommendations finished on 22000/75000 queries. users per second: 19012.9</pre>"
      ],
      "text/plain": [
       "recommendations finished on 22000/75000 queries. users per second: 19012.9"
      ]
     },
     "metadata": {},
     "output_type": "display_data"
    },
    {
     "data": {
      "text/html": [
       "<pre>recommendations finished on 23000/75000 queries. users per second: 19153.3</pre>"
      ],
      "text/plain": [
       "recommendations finished on 23000/75000 queries. users per second: 19153.3"
      ]
     },
     "metadata": {},
     "output_type": "display_data"
    },
    {
     "data": {
      "text/html": [
       "<pre>recommendations finished on 24000/75000 queries. users per second: 19298.3</pre>"
      ],
      "text/plain": [
       "recommendations finished on 24000/75000 queries. users per second: 19298.3"
      ]
     },
     "metadata": {},
     "output_type": "display_data"
    },
    {
     "data": {
      "text/html": [
       "<pre>recommendations finished on 25000/75000 queries. users per second: 19446.9</pre>"
      ],
      "text/plain": [
       "recommendations finished on 25000/75000 queries. users per second: 19446.9"
      ]
     },
     "metadata": {},
     "output_type": "display_data"
    },
    {
     "data": {
      "text/html": [
       "<pre>recommendations finished on 26000/75000 queries. users per second: 19424.6</pre>"
      ],
      "text/plain": [
       "recommendations finished on 26000/75000 queries. users per second: 19424.6"
      ]
     },
     "metadata": {},
     "output_type": "display_data"
    },
    {
     "data": {
      "text/html": [
       "<pre>recommendations finished on 27000/75000 queries. users per second: 19446.3</pre>"
      ],
      "text/plain": [
       "recommendations finished on 27000/75000 queries. users per second: 19446.3"
      ]
     },
     "metadata": {},
     "output_type": "display_data"
    },
    {
     "data": {
      "text/html": [
       "<pre>recommendations finished on 28000/75000 queries. users per second: 19361.6</pre>"
      ],
      "text/plain": [
       "recommendations finished on 28000/75000 queries. users per second: 19361.6"
      ]
     },
     "metadata": {},
     "output_type": "display_data"
    },
    {
     "data": {
      "text/html": [
       "<pre>recommendations finished on 29000/75000 queries. users per second: 19317.1</pre>"
      ],
      "text/plain": [
       "recommendations finished on 29000/75000 queries. users per second: 19317.1"
      ]
     },
     "metadata": {},
     "output_type": "display_data"
    },
    {
     "data": {
      "text/html": [
       "<pre>recommendations finished on 30000/75000 queries. users per second: 19432.7</pre>"
      ],
      "text/plain": [
       "recommendations finished on 30000/75000 queries. users per second: 19432.7"
      ]
     },
     "metadata": {},
     "output_type": "display_data"
    },
    {
     "data": {
      "text/html": [
       "<pre>recommendations finished on 31000/75000 queries. users per second: 19544.7</pre>"
      ],
      "text/plain": [
       "recommendations finished on 31000/75000 queries. users per second: 19544.7"
      ]
     },
     "metadata": {},
     "output_type": "display_data"
    },
    {
     "data": {
      "text/html": [
       "<pre>recommendations finished on 32000/75000 queries. users per second: 19582.3</pre>"
      ],
      "text/plain": [
       "recommendations finished on 32000/75000 queries. users per second: 19582.3"
      ]
     },
     "metadata": {},
     "output_type": "display_data"
    },
    {
     "data": {
      "text/html": [
       "<pre>recommendations finished on 33000/75000 queries. users per second: 19721.8</pre>"
      ],
      "text/plain": [
       "recommendations finished on 33000/75000 queries. users per second: 19721.8"
      ]
     },
     "metadata": {},
     "output_type": "display_data"
    },
    {
     "data": {
      "text/html": [
       "<pre>recommendations finished on 34000/75000 queries. users per second: 19627.2</pre>"
      ],
      "text/plain": [
       "recommendations finished on 34000/75000 queries. users per second: 19627.2"
      ]
     },
     "metadata": {},
     "output_type": "display_data"
    },
    {
     "data": {
      "text/html": [
       "<pre>recommendations finished on 35000/75000 queries. users per second: 19704</pre>"
      ],
      "text/plain": [
       "recommendations finished on 35000/75000 queries. users per second: 19704"
      ]
     },
     "metadata": {},
     "output_type": "display_data"
    },
    {
     "data": {
      "text/html": [
       "<pre>recommendations finished on 36000/75000 queries. users per second: 19785.9</pre>"
      ],
      "text/plain": [
       "recommendations finished on 36000/75000 queries. users per second: 19785.9"
      ]
     },
     "metadata": {},
     "output_type": "display_data"
    },
    {
     "data": {
      "text/html": [
       "<pre>recommendations finished on 37000/75000 queries. users per second: 19825.1</pre>"
      ],
      "text/plain": [
       "recommendations finished on 37000/75000 queries. users per second: 19825.1"
      ]
     },
     "metadata": {},
     "output_type": "display_data"
    },
    {
     "data": {
      "text/html": [
       "<pre>recommendations finished on 38000/75000 queries. users per second: 19854.4</pre>"
      ],
      "text/plain": [
       "recommendations finished on 38000/75000 queries. users per second: 19854.4"
      ]
     },
     "metadata": {},
     "output_type": "display_data"
    },
    {
     "data": {
      "text/html": [
       "<pre>recommendations finished on 39000/75000 queries. users per second: 19827.7</pre>"
      ],
      "text/plain": [
       "recommendations finished on 39000/75000 queries. users per second: 19827.7"
      ]
     },
     "metadata": {},
     "output_type": "display_data"
    },
    {
     "data": {
      "text/html": [
       "<pre>recommendations finished on 40000/75000 queries. users per second: 19822.5</pre>"
      ],
      "text/plain": [
       "recommendations finished on 40000/75000 queries. users per second: 19822.5"
      ]
     },
     "metadata": {},
     "output_type": "display_data"
    },
    {
     "data": {
      "text/html": [
       "<pre>recommendations finished on 41000/75000 queries. users per second: 19792.3</pre>"
      ],
      "text/plain": [
       "recommendations finished on 41000/75000 queries. users per second: 19792.3"
      ]
     },
     "metadata": {},
     "output_type": "display_data"
    },
    {
     "data": {
      "text/html": [
       "<pre>recommendations finished on 42000/75000 queries. users per second: 19863.3</pre>"
      ],
      "text/plain": [
       "recommendations finished on 42000/75000 queries. users per second: 19863.3"
      ]
     },
     "metadata": {},
     "output_type": "display_data"
    },
    {
     "data": {
      "text/html": [
       "<pre>recommendations finished on 43000/75000 queries. users per second: 19837.2</pre>"
      ],
      "text/plain": [
       "recommendations finished on 43000/75000 queries. users per second: 19837.2"
      ]
     },
     "metadata": {},
     "output_type": "display_data"
    },
    {
     "data": {
      "text/html": [
       "<pre>recommendations finished on 44000/75000 queries. users per second: 19856.5</pre>"
      ],
      "text/plain": [
       "recommendations finished on 44000/75000 queries. users per second: 19856.5"
      ]
     },
     "metadata": {},
     "output_type": "display_data"
    },
    {
     "data": {
      "text/html": [
       "<pre>recommendations finished on 45000/75000 queries. users per second: 19876.6</pre>"
      ],
      "text/plain": [
       "recommendations finished on 45000/75000 queries. users per second: 19876.6"
      ]
     },
     "metadata": {},
     "output_type": "display_data"
    },
    {
     "data": {
      "text/html": [
       "<pre>recommendations finished on 46000/75000 queries. users per second: 19917.5</pre>"
      ],
      "text/plain": [
       "recommendations finished on 46000/75000 queries. users per second: 19917.5"
      ]
     },
     "metadata": {},
     "output_type": "display_data"
    },
    {
     "data": {
      "text/html": [
       "<pre>recommendations finished on 47000/75000 queries. users per second: 19840.2</pre>"
      ],
      "text/plain": [
       "recommendations finished on 47000/75000 queries. users per second: 19840.2"
      ]
     },
     "metadata": {},
     "output_type": "display_data"
    },
    {
     "data": {
      "text/html": [
       "<pre>recommendations finished on 48000/75000 queries. users per second: 19890.6</pre>"
      ],
      "text/plain": [
       "recommendations finished on 48000/75000 queries. users per second: 19890.6"
      ]
     },
     "metadata": {},
     "output_type": "display_data"
    },
    {
     "data": {
      "text/html": [
       "<pre>recommendations finished on 49000/75000 queries. users per second: 19798.3</pre>"
      ],
      "text/plain": [
       "recommendations finished on 49000/75000 queries. users per second: 19798.3"
      ]
     },
     "metadata": {},
     "output_type": "display_data"
    },
    {
     "data": {
      "text/html": [
       "<pre>recommendations finished on 50000/75000 queries. users per second: 19736.9</pre>"
      ],
      "text/plain": [
       "recommendations finished on 50000/75000 queries. users per second: 19736.9"
      ]
     },
     "metadata": {},
     "output_type": "display_data"
    },
    {
     "data": {
      "text/html": [
       "<pre>recommendations finished on 51000/75000 queries. users per second: 19764.9</pre>"
      ],
      "text/plain": [
       "recommendations finished on 51000/75000 queries. users per second: 19764.9"
      ]
     },
     "metadata": {},
     "output_type": "display_data"
    },
    {
     "data": {
      "text/html": [
       "<pre>recommendations finished on 52000/75000 queries. users per second: 19833.4</pre>"
      ],
      "text/plain": [
       "recommendations finished on 52000/75000 queries. users per second: 19833.4"
      ]
     },
     "metadata": {},
     "output_type": "display_data"
    },
    {
     "data": {
      "text/html": [
       "<pre>recommendations finished on 53000/75000 queries. users per second: 19890.5</pre>"
      ],
      "text/plain": [
       "recommendations finished on 53000/75000 queries. users per second: 19890.5"
      ]
     },
     "metadata": {},
     "output_type": "display_data"
    },
    {
     "data": {
      "text/html": [
       "<pre>recommendations finished on 54000/75000 queries. users per second: 19962.1</pre>"
      ],
      "text/plain": [
       "recommendations finished on 54000/75000 queries. users per second: 19962.1"
      ]
     },
     "metadata": {},
     "output_type": "display_data"
    },
    {
     "data": {
      "text/html": [
       "<pre>recommendations finished on 55000/75000 queries. users per second: 19962.3</pre>"
      ],
      "text/plain": [
       "recommendations finished on 55000/75000 queries. users per second: 19962.3"
      ]
     },
     "metadata": {},
     "output_type": "display_data"
    },
    {
     "data": {
      "text/html": [
       "<pre>recommendations finished on 56000/75000 queries. users per second: 19922.4</pre>"
      ],
      "text/plain": [
       "recommendations finished on 56000/75000 queries. users per second: 19922.4"
      ]
     },
     "metadata": {},
     "output_type": "display_data"
    },
    {
     "data": {
      "text/html": [
       "<pre>recommendations finished on 57000/75000 queries. users per second: 19912</pre>"
      ],
      "text/plain": [
       "recommendations finished on 57000/75000 queries. users per second: 19912"
      ]
     },
     "metadata": {},
     "output_type": "display_data"
    },
    {
     "data": {
      "text/html": [
       "<pre>recommendations finished on 58000/75000 queries. users per second: 19947.4</pre>"
      ],
      "text/plain": [
       "recommendations finished on 58000/75000 queries. users per second: 19947.4"
      ]
     },
     "metadata": {},
     "output_type": "display_data"
    },
    {
     "data": {
      "text/html": [
       "<pre>recommendations finished on 59000/75000 queries. users per second: 19959</pre>"
      ],
      "text/plain": [
       "recommendations finished on 59000/75000 queries. users per second: 19959"
      ]
     },
     "metadata": {},
     "output_type": "display_data"
    },
    {
     "data": {
      "text/html": [
       "<pre>recommendations finished on 60000/75000 queries. users per second: 19991.2</pre>"
      ],
      "text/plain": [
       "recommendations finished on 60000/75000 queries. users per second: 19991.2"
      ]
     },
     "metadata": {},
     "output_type": "display_data"
    },
    {
     "data": {
      "text/html": [
       "<pre>recommendations finished on 61000/75000 queries. users per second: 20027.8</pre>"
      ],
      "text/plain": [
       "recommendations finished on 61000/75000 queries. users per second: 20027.8"
      ]
     },
     "metadata": {},
     "output_type": "display_data"
    },
    {
     "data": {
      "text/html": [
       "<pre>recommendations finished on 62000/75000 queries. users per second: 20030.3</pre>"
      ],
      "text/plain": [
       "recommendations finished on 62000/75000 queries. users per second: 20030.3"
      ]
     },
     "metadata": {},
     "output_type": "display_data"
    },
    {
     "data": {
      "text/html": [
       "<pre>recommendations finished on 63000/75000 queries. users per second: 20055.9</pre>"
      ],
      "text/plain": [
       "recommendations finished on 63000/75000 queries. users per second: 20055.9"
      ]
     },
     "metadata": {},
     "output_type": "display_data"
    },
    {
     "data": {
      "text/html": [
       "<pre>recommendations finished on 64000/75000 queries. users per second: 20057.9</pre>"
      ],
      "text/plain": [
       "recommendations finished on 64000/75000 queries. users per second: 20057.9"
      ]
     },
     "metadata": {},
     "output_type": "display_data"
    },
    {
     "data": {
      "text/html": [
       "<pre>recommendations finished on 65000/75000 queries. users per second: 19840.9</pre>"
      ],
      "text/plain": [
       "recommendations finished on 65000/75000 queries. users per second: 19840.9"
      ]
     },
     "metadata": {},
     "output_type": "display_data"
    },
    {
     "data": {
      "text/html": [
       "<pre>recommendations finished on 66000/75000 queries. users per second: 19830.6</pre>"
      ],
      "text/plain": [
       "recommendations finished on 66000/75000 queries. users per second: 19830.6"
      ]
     },
     "metadata": {},
     "output_type": "display_data"
    },
    {
     "data": {
      "text/html": [
       "<pre>recommendations finished on 67000/75000 queries. users per second: 19759.1</pre>"
      ],
      "text/plain": [
       "recommendations finished on 67000/75000 queries. users per second: 19759.1"
      ]
     },
     "metadata": {},
     "output_type": "display_data"
    },
    {
     "data": {
      "text/html": [
       "<pre>recommendations finished on 68000/75000 queries. users per second: 19748.9</pre>"
      ],
      "text/plain": [
       "recommendations finished on 68000/75000 queries. users per second: 19748.9"
      ]
     },
     "metadata": {},
     "output_type": "display_data"
    },
    {
     "data": {
      "text/html": [
       "<pre>recommendations finished on 69000/75000 queries. users per second: 19743</pre>"
      ],
      "text/plain": [
       "recommendations finished on 69000/75000 queries. users per second: 19743"
      ]
     },
     "metadata": {},
     "output_type": "display_data"
    },
    {
     "data": {
      "text/html": [
       "<pre>recommendations finished on 70000/75000 queries. users per second: 19744.7</pre>"
      ],
      "text/plain": [
       "recommendations finished on 70000/75000 queries. users per second: 19744.7"
      ]
     },
     "metadata": {},
     "output_type": "display_data"
    },
    {
     "data": {
      "text/html": [
       "<pre>recommendations finished on 71000/75000 queries. users per second: 19757.6</pre>"
      ],
      "text/plain": [
       "recommendations finished on 71000/75000 queries. users per second: 19757.6"
      ]
     },
     "metadata": {},
     "output_type": "display_data"
    },
    {
     "data": {
      "text/html": [
       "<pre>recommendations finished on 72000/75000 queries. users per second: 19758.1</pre>"
      ],
      "text/plain": [
       "recommendations finished on 72000/75000 queries. users per second: 19758.1"
      ]
     },
     "metadata": {},
     "output_type": "display_data"
    },
    {
     "data": {
      "text/html": [
       "<pre>recommendations finished on 73000/75000 queries. users per second: 19819.4</pre>"
      ],
      "text/plain": [
       "recommendations finished on 73000/75000 queries. users per second: 19819.4"
      ]
     },
     "metadata": {},
     "output_type": "display_data"
    },
    {
     "data": {
      "text/html": [
       "<pre>recommendations finished on 74000/75000 queries. users per second: 19846.9</pre>"
      ],
      "text/plain": [
       "recommendations finished on 74000/75000 queries. users per second: 19846.9"
      ]
     },
     "metadata": {},
     "output_type": "display_data"
    },
    {
     "data": {
      "text/html": [
       "<pre>recommendations finished on 75000/75000 queries. users per second: 19863.7</pre>"
      ],
      "text/plain": [
       "recommendations finished on 75000/75000 queries. users per second: 19863.7"
      ]
     },
     "metadata": {},
     "output_type": "display_data"
    }
   ],
   "source": [
    "item_sim_result = recommender.recommend(users=test_data, items=relation_data, exclude_known=False, k=len(products_df)).to_dataframe()"
   ]
  },
  {
   "cell_type": "code",
   "execution_count": null,
   "metadata": {
    "id": "SUc2WuvfmxQ8"
   },
   "outputs": [],
   "source": [
    "def write_csv(results, orders_df, csv_name):\n",
    "    results = pd.merge(results,orders_df[orders_df.eval_set=='test'][['user_id', 'order_id']], on=['user_id'], how='left')\n",
    "    thresholds = {\n",
    "        'no': results.score.min()-1,\n",
    "        'std' : results.score.std(),\n",
    "        'zero' : 0,\n",
    "        'q05' : results.score.quantile(q=0.05),\n",
    "        'q10' : results.score.quantile(q=0.1)\n",
    "        }\n",
    "\n",
    "    results_dict = {}\n",
    "    for key,item in thresholds.items():\n",
    "        results_dict[key] = results[results['score'] > item]\n",
    "        results_dict[key] = results_dict[key].groupby('order_id')['product_id'].apply(list).reset_index(name='products')\n",
    "        results_dict[key]['products'] = results_dict[key].apply(clean_prediction, axis=1)\n",
    "\n",
    "    for key,item in thresholds.items():\n",
    "        if len(results_dict[key]) == 75000:\n",
    "            results_dict[key].to_csv('submission_turi_'+csv_name+'_pol'+str(key)+'.csv',index=False)"
   ]
  },
  {
   "cell_type": "code",
   "execution_count": null,
   "metadata": {
    "id": "b3KRU7LnmxQ9"
   },
   "outputs": [],
   "source": [
    "def clean_prediction(row):\n",
    "    data = row.products\n",
    "    data = str(\"\".join(str(data))[1:-1].replace(',',' '))\n",
    "    return data"
   ]
  },
  {
   "cell_type": "code",
   "execution_count": null,
   "metadata": {
    "id": "APhpE8ummxQ9"
   },
   "outputs": [],
   "source": [
    "write_csv(item_sim_result, orders_df, 'item_sim')"
   ]
  },
  {
   "cell_type": "code",
   "execution_count": null,
   "metadata": {
    "id": "sPxWSqWfmxQ9",
    "outputId": "7b5e603d-c2b8-4944-ea20-c2061893cc0b"
   },
   "outputs": [
    {
     "data": {
      "text/html": [
       "<pre>Preparing data set.</pre>"
      ],
      "text/plain": [
       "Preparing data set."
      ]
     },
     "metadata": {},
     "output_type": "display_data"
    },
    {
     "data": {
      "text/html": [
       "<pre>    Data has 19428226 observations with 206209 users and 49685 items.</pre>"
      ],
      "text/plain": [
       "    Data has 19428226 observations with 206209 users and 49685 items."
      ]
     },
     "metadata": {},
     "output_type": "display_data"
    },
    {
     "data": {
      "text/html": [
       "<pre>    Data prepared in: 22.404s</pre>"
      ],
      "text/plain": [
       "    Data prepared in: 22.404s"
      ]
     },
     "metadata": {},
     "output_type": "display_data"
    },
    {
     "data": {
      "text/html": [
       "<pre>Training factorization_recommender for recommendations.</pre>"
      ],
      "text/plain": [
       "Training factorization_recommender for recommendations."
      ]
     },
     "metadata": {},
     "output_type": "display_data"
    },
    {
     "data": {
      "text/html": [
       "<pre>+--------------------------------+--------------------------------------------------+----------+</pre>"
      ],
      "text/plain": [
       "+--------------------------------+--------------------------------------------------+----------+"
      ]
     },
     "metadata": {},
     "output_type": "display_data"
    },
    {
     "data": {
      "text/html": [
       "<pre>| Parameter                      | Description                                      | Value    |</pre>"
      ],
      "text/plain": [
       "| Parameter                      | Description                                      | Value    |"
      ]
     },
     "metadata": {},
     "output_type": "display_data"
    },
    {
     "data": {
      "text/html": [
       "<pre>+--------------------------------+--------------------------------------------------+----------+</pre>"
      ],
      "text/plain": [
       "+--------------------------------+--------------------------------------------------+----------+"
      ]
     },
     "metadata": {},
     "output_type": "display_data"
    },
    {
     "data": {
      "text/html": [
       "<pre>| num_factors                    | Factor Dimension                                 | 8        |</pre>"
      ],
      "text/plain": [
       "| num_factors                    | Factor Dimension                                 | 8        |"
      ]
     },
     "metadata": {},
     "output_type": "display_data"
    },
    {
     "data": {
      "text/html": [
       "<pre>| regularization                 | L2 Regularization on Factors                     | 1e-08    |</pre>"
      ],
      "text/plain": [
       "| regularization                 | L2 Regularization on Factors                     | 1e-08    |"
      ]
     },
     "metadata": {},
     "output_type": "display_data"
    },
    {
     "data": {
      "text/html": [
       "<pre>| solver                         | Solver used for training                         | adagrad  |</pre>"
      ],
      "text/plain": [
       "| solver                         | Solver used for training                         | adagrad  |"
      ]
     },
     "metadata": {},
     "output_type": "display_data"
    },
    {
     "data": {
      "text/html": [
       "<pre>| linear_regularization          | L2 Regularization on Linear Coefficients         | 1e-10    |</pre>"
      ],
      "text/plain": [
       "| linear_regularization          | L2 Regularization on Linear Coefficients         | 1e-10    |"
      ]
     },
     "metadata": {},
     "output_type": "display_data"
    },
    {
     "data": {
      "text/html": [
       "<pre>| max_iterations                 | Maximum Number of Iterations                     | 50       |</pre>"
      ],
      "text/plain": [
       "| max_iterations                 | Maximum Number of Iterations                     | 50       |"
      ]
     },
     "metadata": {},
     "output_type": "display_data"
    },
    {
     "data": {
      "text/html": [
       "<pre>+--------------------------------+--------------------------------------------------+----------+</pre>"
      ],
      "text/plain": [
       "+--------------------------------+--------------------------------------------------+----------+"
      ]
     },
     "metadata": {},
     "output_type": "display_data"
    },
    {
     "data": {
      "text/html": [
       "<pre>  Optimizing model using SGD; tuning step size.</pre>"
      ],
      "text/plain": [
       "  Optimizing model using SGD; tuning step size."
      ]
     },
     "metadata": {},
     "output_type": "display_data"
    },
    {
     "data": {
      "text/html": [
       "<pre>  Using 2428528 / 19428226 points for tuning the step size.</pre>"
      ],
      "text/plain": [
       "  Using 2428528 / 19428226 points for tuning the step size."
      ]
     },
     "metadata": {},
     "output_type": "display_data"
    },
    {
     "data": {
      "text/html": [
       "<pre>+---------+-------------------+------------------------------------------+</pre>"
      ],
      "text/plain": [
       "+---------+-------------------+------------------------------------------+"
      ]
     },
     "metadata": {},
     "output_type": "display_data"
    },
    {
     "data": {
      "text/html": [
       "<pre>| Attempt | Initial Step Size | Estimated Objective Value                |</pre>"
      ],
      "text/plain": [
       "| Attempt | Initial Step Size | Estimated Objective Value                |"
      ]
     },
     "metadata": {},
     "output_type": "display_data"
    },
    {
     "data": {
      "text/html": [
       "<pre>+---------+-------------------+------------------------------------------+</pre>"
      ],
      "text/plain": [
       "+---------+-------------------+------------------------------------------+"
      ]
     },
     "metadata": {},
     "output_type": "display_data"
    },
    {
     "data": {
      "text/html": [
       "<pre>| 0       | 16.6667           | Not Viable                               |</pre>"
      ],
      "text/plain": [
       "| 0       | 16.6667           | Not Viable                               |"
      ]
     },
     "metadata": {},
     "output_type": "display_data"
    },
    {
     "data": {
      "text/html": [
       "<pre>| 1       | 4.16667           | Not Viable                               |</pre>"
      ],
      "text/plain": [
       "| 1       | 4.16667           | Not Viable                               |"
      ]
     },
     "metadata": {},
     "output_type": "display_data"
    },
    {
     "data": {
      "text/html": [
       "<pre>| 2       | 1.04167           | 6.09133                                  |</pre>"
      ],
      "text/plain": [
       "| 2       | 1.04167           | 6.09133                                  |"
      ]
     },
     "metadata": {},
     "output_type": "display_data"
    },
    {
     "data": {
      "text/html": [
       "<pre>| 3       | 0.520833          | 6.48598                                  |</pre>"
      ],
      "text/plain": [
       "| 3       | 0.520833          | 6.48598                                  |"
      ]
     },
     "metadata": {},
     "output_type": "display_data"
    },
    {
     "data": {
      "text/html": [
       "<pre>| 4       | 0.260417          | 9.88838                                  |</pre>"
      ],
      "text/plain": [
       "| 4       | 0.260417          | 9.88838                                  |"
      ]
     },
     "metadata": {},
     "output_type": "display_data"
    },
    {
     "data": {
      "text/html": [
       "<pre>| 5       | 0.130208          | 12.1629                                  |</pre>"
      ],
      "text/plain": [
       "| 5       | 0.130208          | 12.1629                                  |"
      ]
     },
     "metadata": {},
     "output_type": "display_data"
    },
    {
     "data": {
      "text/html": [
       "<pre>+---------+-------------------+------------------------------------------+</pre>"
      ],
      "text/plain": [
       "+---------+-------------------+------------------------------------------+"
      ]
     },
     "metadata": {},
     "output_type": "display_data"
    },
    {
     "data": {
      "text/html": [
       "<pre>| Final   | 1.04167           | 6.09133                                  |</pre>"
      ],
      "text/plain": [
       "| Final   | 1.04167           | 6.09133                                  |"
      ]
     },
     "metadata": {},
     "output_type": "display_data"
    },
    {
     "data": {
      "text/html": [
       "<pre>+---------+-------------------+------------------------------------------+</pre>"
      ],
      "text/plain": [
       "+---------+-------------------+------------------------------------------+"
      ]
     },
     "metadata": {},
     "output_type": "display_data"
    },
    {
     "data": {
      "text/html": [
       "<pre>Starting Optimization.</pre>"
      ],
      "text/plain": [
       "Starting Optimization."
      ]
     },
     "metadata": {},
     "output_type": "display_data"
    },
    {
     "data": {
      "text/html": [
       "<pre>+---------+--------------+-------------------+-----------------------+-------------+</pre>"
      ],
      "text/plain": [
       "+---------+--------------+-------------------+-----------------------+-------------+"
      ]
     },
     "metadata": {},
     "output_type": "display_data"
    },
    {
     "data": {
      "text/html": [
       "<pre>| Iter.   | Elapsed Time | Approx. Objective | Approx. Training RMSE | Step Size   |</pre>"
      ],
      "text/plain": [
       "| Iter.   | Elapsed Time | Approx. Objective | Approx. Training RMSE | Step Size   |"
      ]
     },
     "metadata": {},
     "output_type": "display_data"
    },
    {
     "data": {
      "text/html": [
       "<pre>+---------+--------------+-------------------+-----------------------+-------------+</pre>"
      ],
      "text/plain": [
       "+---------+--------------+-------------------+-----------------------+-------------+"
      ]
     },
     "metadata": {},
     "output_type": "display_data"
    },
    {
     "data": {
      "text/html": [
       "<pre>| Initial | 95us         | 16.7061           | 4.08731               |             |</pre>"
      ],
      "text/plain": [
       "| Initial | 95us         | 16.7061           | 4.08731               |             |"
      ]
     },
     "metadata": {},
     "output_type": "display_data"
    },
    {
     "data": {
      "text/html": [
       "<pre>+---------+--------------+-------------------+-----------------------+-------------+</pre>"
      ],
      "text/plain": [
       "+---------+--------------+-------------------+-----------------------+-------------+"
      ]
     },
     "metadata": {},
     "output_type": "display_data"
    },
    {
     "data": {
      "text/html": [
       "<pre>| 1       | 8.80s        | 13.5632           | 3.68039               | 1.04167     |</pre>"
      ],
      "text/plain": [
       "| 1       | 8.80s        | 13.5632           | 3.68039               | 1.04167     |"
      ]
     },
     "metadata": {},
     "output_type": "display_data"
    },
    {
     "data": {
      "text/html": [
       "<pre>| 2       | 17.69s       | 11.6473           | 3.41081               | 1.04167     |</pre>"
      ],
      "text/plain": [
       "| 2       | 17.69s       | 11.6473           | 3.41081               | 1.04167     |"
      ]
     },
     "metadata": {},
     "output_type": "display_data"
    },
    {
     "data": {
      "text/html": [
       "<pre>| 3       | 26.60s       | 10.8189           | 3.28739               | 1.04167     |</pre>"
      ],
      "text/plain": [
       "| 3       | 26.60s       | 10.8189           | 3.28739               | 1.04167     |"
      ]
     },
     "metadata": {},
     "output_type": "display_data"
    },
    {
     "data": {
      "text/html": [
       "<pre>| 4       | 35.64s       | 10.1865           | 3.18983               | 1.04167     |</pre>"
      ],
      "text/plain": [
       "| 4       | 35.64s       | 10.1865           | 3.18983               | 1.04167     |"
      ]
     },
     "metadata": {},
     "output_type": "display_data"
    },
    {
     "data": {
      "text/html": [
       "<pre>| 5       | 45.11s       | 9.83273           | 3.1339                | 1.04167     |</pre>"
      ],
      "text/plain": [
       "| 5       | 45.11s       | 9.83273           | 3.1339                | 1.04167     |"
      ]
     },
     "metadata": {},
     "output_type": "display_data"
    },
    {
     "data": {
      "text/html": [
       "<pre>| 7       | 1m 2s        | 9.60322           | 3.09707               | 1.04167     |</pre>"
      ],
      "text/plain": [
       "| 7       | 1m 2s        | 9.60322           | 3.09707               | 1.04167     |"
      ]
     },
     "metadata": {},
     "output_type": "display_data"
    },
    {
     "data": {
      "text/html": [
       "<pre>| 8       | 1m 11s       | 9.51756           | 3.0832                | 1.04167     |</pre>"
      ],
      "text/plain": [
       "| 8       | 1m 11s       | 9.51756           | 3.0832                | 1.04167     |"
      ]
     },
     "metadata": {},
     "output_type": "display_data"
    },
    {
     "data": {
      "text/html": [
       "<pre>| 9       | 1m 20s       | 9.39042           | 3.06251               | 1.04167     |</pre>"
      ],
      "text/plain": [
       "| 9       | 1m 20s       | 9.39042           | 3.06251               | 1.04167     |"
      ]
     },
     "metadata": {},
     "output_type": "display_data"
    },
    {
     "data": {
      "text/html": [
       "<pre>| 10      | 1m 29s       | 9.29033           | 3.04611               | 1.04167     |</pre>"
      ],
      "text/plain": [
       "| 10      | 1m 29s       | 9.29033           | 3.04611               | 1.04167     |"
      ]
     },
     "metadata": {},
     "output_type": "display_data"
    },
    {
     "data": {
      "text/html": [
       "<pre>| 11      | 1m 38s       | 9.2278            | 3.03582               | 1.04167     |</pre>"
      ],
      "text/plain": [
       "| 11      | 1m 38s       | 9.2278            | 3.03582               | 1.04167     |"
      ]
     },
     "metadata": {},
     "output_type": "display_data"
    },
    {
     "data": {
      "text/html": [
       "<pre>| 12      | 1m 47s       | 9.15071           | 3.02308               | 1.04167     |</pre>"
      ],
      "text/plain": [
       "| 12      | 1m 47s       | 9.15071           | 3.02308               | 1.04167     |"
      ]
     },
     "metadata": {},
     "output_type": "display_data"
    },
    {
     "data": {
      "text/html": [
       "<pre>| 13      | 1m 56s       | 9.11058           | 3.01642               | 1.04167     |</pre>"
      ],
      "text/plain": [
       "| 13      | 1m 56s       | 9.11058           | 3.01642               | 1.04167     |"
      ]
     },
     "metadata": {},
     "output_type": "display_data"
    },
    {
     "data": {
      "text/html": [
       "<pre>| 14      | 2m 5s        | 9.0466            | 3.00578               | 1.04167     |</pre>"
      ],
      "text/plain": [
       "| 14      | 2m 5s        | 9.0466            | 3.00578               | 1.04167     |"
      ]
     },
     "metadata": {},
     "output_type": "display_data"
    },
    {
     "data": {
      "text/html": [
       "<pre>| 15      | 2m 14s       | 9.0124            | 3.00007               | 1.04167     |</pre>"
      ],
      "text/plain": [
       "| 15      | 2m 14s       | 9.0124            | 3.00007               | 1.04167     |"
      ]
     },
     "metadata": {},
     "output_type": "display_data"
    },
    {
     "data": {
      "text/html": [
       "<pre>| 16      | 2m 23s       | 8.99491           | 2.99714               | 1.04167     |</pre>"
      ],
      "text/plain": [
       "| 16      | 2m 23s       | 8.99491           | 2.99714               | 1.04167     |"
      ]
     },
     "metadata": {},
     "output_type": "display_data"
    },
    {
     "data": {
      "text/html": [
       "<pre>| 17      | 2m 32s       | 8.95418           | 2.99033               | 1.04167     |</pre>"
      ],
      "text/plain": [
       "| 17      | 2m 32s       | 8.95418           | 2.99033               | 1.04167     |"
      ]
     },
     "metadata": {},
     "output_type": "display_data"
    },
    {
     "data": {
      "text/html": [
       "<pre>| 18      | 2m 41s       | 8.90856           | 2.98267               | 1.04167     |</pre>"
      ],
      "text/plain": [
       "| 18      | 2m 41s       | 8.90856           | 2.98267               | 1.04167     |"
      ]
     },
     "metadata": {},
     "output_type": "display_data"
    },
    {
     "data": {
      "text/html": [
       "<pre>| 19      | 2m 50s       | 8.88811           | 2.97923               | 1.04167     |</pre>"
      ],
      "text/plain": [
       "| 19      | 2m 50s       | 8.88811           | 2.97923               | 1.04167     |"
      ]
     },
     "metadata": {},
     "output_type": "display_data"
    },
    {
     "data": {
      "text/html": [
       "<pre>| 20      | 2m 59s       | 8.86268           | 2.97495               | 1.04167     |</pre>"
      ],
      "text/plain": [
       "| 20      | 2m 59s       | 8.86268           | 2.97495               | 1.04167     |"
      ]
     },
     "metadata": {},
     "output_type": "display_data"
    },
    {
     "data": {
      "text/html": [
       "<pre>| 21      | 3m 7s        | 8.82754           | 2.96902               | 1.04167     |</pre>"
      ],
      "text/plain": [
       "| 21      | 3m 7s        | 8.82754           | 2.96902               | 1.04167     |"
      ]
     },
     "metadata": {},
     "output_type": "display_data"
    },
    {
     "data": {
      "text/html": [
       "<pre>| 22      | 3m 16s       | 8.82833           | 2.96915               | 1.04167     |</pre>"
      ],
      "text/plain": [
       "| 22      | 3m 16s       | 8.82833           | 2.96915               | 1.04167     |"
      ]
     },
     "metadata": {},
     "output_type": "display_data"
    },
    {
     "data": {
      "text/html": [
       "<pre>| 23      | 3m 25s       | 8.79095           | 2.96283               | 1.04167     |</pre>"
      ],
      "text/plain": [
       "| 23      | 3m 25s       | 8.79095           | 2.96283               | 1.04167     |"
      ]
     },
     "metadata": {},
     "output_type": "display_data"
    },
    {
     "data": {
      "text/html": [
       "<pre>| 24      | 3m 34s       | 8.76753           | 2.95887               | 1.04167     |</pre>"
      ],
      "text/plain": [
       "| 24      | 3m 34s       | 8.76753           | 2.95887               | 1.04167     |"
      ]
     },
     "metadata": {},
     "output_type": "display_data"
    },
    {
     "data": {
      "text/html": [
       "<pre>| 25      | 3m 43s       | 8.76415           | 2.95829               | 1.04167     |</pre>"
      ],
      "text/plain": [
       "| 25      | 3m 43s       | 8.76415           | 2.95829               | 1.04167     |"
      ]
     },
     "metadata": {},
     "output_type": "display_data"
    },
    {
     "data": {
      "text/html": [
       "<pre>| 26      | 3m 52s       | 8.7487            | 2.95566               | 1.04167     |</pre>"
      ],
      "text/plain": [
       "| 26      | 3m 52s       | 8.7487            | 2.95566               | 1.04167     |"
      ]
     },
     "metadata": {},
     "output_type": "display_data"
    },
    {
     "data": {
      "text/html": [
       "<pre>| 27      | 4m 1s        | 8.74208           | 2.95453               | 1.04167     |</pre>"
      ],
      "text/plain": [
       "| 27      | 4m 1s        | 8.74208           | 2.95453               | 1.04167     |"
      ]
     },
     "metadata": {},
     "output_type": "display_data"
    },
    {
     "data": {
      "text/html": [
       "<pre>| 28      | 4m 10s       | 8.71225           | 2.94947               | 1.04167     |</pre>"
      ],
      "text/plain": [
       "| 28      | 4m 10s       | 8.71225           | 2.94947               | 1.04167     |"
      ]
     },
     "metadata": {},
     "output_type": "display_data"
    },
    {
     "data": {
      "text/html": [
       "<pre>| 29      | 4m 18s       | 8.72033           | 2.95084               | 1.04167     |</pre>"
      ],
      "text/plain": [
       "| 29      | 4m 18s       | 8.72033           | 2.95084               | 1.04167     |"
      ]
     },
     "metadata": {},
     "output_type": "display_data"
    },
    {
     "data": {
      "text/html": [
       "<pre>| 30      | 4m 28s       | 8.69391           | 2.94635               | 1.04167     |</pre>"
      ],
      "text/plain": [
       "| 30      | 4m 28s       | 8.69391           | 2.94635               | 1.04167     |"
      ]
     },
     "metadata": {},
     "output_type": "display_data"
    },
    {
     "data": {
      "text/html": [
       "<pre>| 31      | 4m 37s       | 8.69087           | 2.94582               | 1.04167     |</pre>"
      ],
      "text/plain": [
       "| 31      | 4m 37s       | 8.69087           | 2.94582               | 1.04167     |"
      ]
     },
     "metadata": {},
     "output_type": "display_data"
    },
    {
     "data": {
      "text/html": [
       "<pre>| 32      | 4m 46s       | 8.68242           | 2.94438               | 1.04167     |</pre>"
      ],
      "text/plain": [
       "| 32      | 4m 46s       | 8.68242           | 2.94438               | 1.04167     |"
      ]
     },
     "metadata": {},
     "output_type": "display_data"
    },
    {
     "data": {
      "text/html": [
       "<pre>| 33      | 4m 55s       | 8.67278           | 2.94274               | 1.04167     |</pre>"
      ],
      "text/plain": [
       "| 33      | 4m 55s       | 8.67278           | 2.94274               | 1.04167     |"
      ]
     },
     "metadata": {},
     "output_type": "display_data"
    },
    {
     "data": {
      "text/html": [
       "<pre>| 34      | 5m 4s        | 8.67811           | 2.94364               | 1.04167     |</pre>"
      ],
      "text/plain": [
       "| 34      | 5m 4s        | 8.67811           | 2.94364               | 1.04167     |"
      ]
     },
     "metadata": {},
     "output_type": "display_data"
    },
    {
     "data": {
      "text/html": [
       "<pre>| 35      | 5m 13s       | 8.67195           | 2.94258               | 1.04167     |</pre>"
      ],
      "text/plain": [
       "| 35      | 5m 13s       | 8.67195           | 2.94258               | 1.04167     |"
      ]
     },
     "metadata": {},
     "output_type": "display_data"
    },
    {
     "data": {
      "text/html": [
       "<pre>| 36      | 5m 22s       | 8.67385           | 2.9429                | 1.04167     |</pre>"
      ],
      "text/plain": [
       "| 36      | 5m 22s       | 8.67385           | 2.9429                | 1.04167     |"
      ]
     },
     "metadata": {},
     "output_type": "display_data"
    },
    {
     "data": {
      "text/html": [
       "<pre>| 37      | 5m 31s       | 8.67236           | 2.94264               | 1.04167     |</pre>"
      ],
      "text/plain": [
       "| 37      | 5m 31s       | 8.67236           | 2.94264               | 1.04167     |"
      ]
     },
     "metadata": {},
     "output_type": "display_data"
    },
    {
     "data": {
      "text/html": [
       "<pre>| 38      | 5m 40s       | 8.64697           | 2.93832               | 1.04167     |</pre>"
      ],
      "text/plain": [
       "| 38      | 5m 40s       | 8.64697           | 2.93832               | 1.04167     |"
      ]
     },
     "metadata": {},
     "output_type": "display_data"
    },
    {
     "data": {
      "text/html": [
       "<pre>| 39      | 5m 49s       | 8.65966           | 2.94047               | 1.04167     |</pre>"
      ],
      "text/plain": [
       "| 39      | 5m 49s       | 8.65966           | 2.94047               | 1.04167     |"
      ]
     },
     "metadata": {},
     "output_type": "display_data"
    },
    {
     "data": {
      "text/html": [
       "<pre>| 40      | 5m 57s       | 8.62974           | 2.93538               | 1.04167     |</pre>"
      ],
      "text/plain": [
       "| 40      | 5m 57s       | 8.62974           | 2.93538               | 1.04167     |"
      ]
     },
     "metadata": {},
     "output_type": "display_data"
    },
    {
     "data": {
      "text/html": [
       "<pre>| 41      | 6m 6s        | 8.62484           | 2.93453               | 1.04167     |</pre>"
      ],
      "text/plain": [
       "| 41      | 6m 6s        | 8.62484           | 2.93453               | 1.04167     |"
      ]
     },
     "metadata": {},
     "output_type": "display_data"
    },
    {
     "data": {
      "text/html": [
       "<pre>| 42      | 6m 15s       | 8.62805           | 2.93508               | 1.04167     |</pre>"
      ],
      "text/plain": [
       "| 42      | 6m 15s       | 8.62805           | 2.93508               | 1.04167     |"
      ]
     },
     "metadata": {},
     "output_type": "display_data"
    },
    {
     "data": {
      "text/html": [
       "<pre>| 43      | 6m 24s       | 8.59375           | 2.92922               | 1.04167     |</pre>"
      ],
      "text/plain": [
       "| 43      | 6m 24s       | 8.59375           | 2.92922               | 1.04167     |"
      ]
     },
     "metadata": {},
     "output_type": "display_data"
    },
    {
     "data": {
      "text/html": [
       "<pre>| 44      | 6m 33s       | 8.60855           | 2.93174               | 1.04167     |</pre>"
      ],
      "text/plain": [
       "| 44      | 6m 33s       | 8.60855           | 2.93174               | 1.04167     |"
      ]
     },
     "metadata": {},
     "output_type": "display_data"
    },
    {
     "data": {
      "text/html": [
       "<pre>| 45      | 6m 42s       | 8.61833           | 2.9334                | 1.04167     |</pre>"
      ],
      "text/plain": [
       "| 45      | 6m 42s       | 8.61833           | 2.9334                | 1.04167     |"
      ]
     },
     "metadata": {},
     "output_type": "display_data"
    },
    {
     "data": {
      "text/html": [
       "<pre>| 46      | 6m 50s       | 8.61788           | 2.93332               | 1.04167     |</pre>"
      ],
      "text/plain": [
       "| 46      | 6m 50s       | 8.61788           | 2.93332               | 1.04167     |"
      ]
     },
     "metadata": {},
     "output_type": "display_data"
    },
    {
     "data": {
      "text/html": [
       "<pre>| 47      | 6m 59s       | 8.62129           | 2.9339                | 1.04167     |</pre>"
      ],
      "text/plain": [
       "| 47      | 6m 59s       | 8.62129           | 2.9339                | 1.04167     |"
      ]
     },
     "metadata": {},
     "output_type": "display_data"
    },
    {
     "data": {
      "text/html": [
       "<pre>| 48      | 7m 8s        | 8.61898           | 2.9335                | 1.04167     |</pre>"
      ],
      "text/plain": [
       "| 48      | 7m 8s        | 8.61898           | 2.9335                | 1.04167     |"
      ]
     },
     "metadata": {},
     "output_type": "display_data"
    },
    {
     "data": {
      "text/html": [
       "<pre>| 49      | 7m 18s       | 8.63842           | 2.93681               | 1.04167     |</pre>"
      ],
      "text/plain": [
       "| 49      | 7m 18s       | 8.63842           | 2.93681               | 1.04167     |"
      ]
     },
     "metadata": {},
     "output_type": "display_data"
    },
    {
     "data": {
      "text/html": [
       "<pre>| 50      | 7m 27s       | 8.65525           | 2.93967               | 1.04167     |</pre>"
      ],
      "text/plain": [
       "| 50      | 7m 27s       | 8.65525           | 2.93967               | 1.04167     |"
      ]
     },
     "metadata": {},
     "output_type": "display_data"
    },
    {
     "data": {
      "text/html": [
       "<pre>+---------+--------------+-------------------+-----------------------+-------------+</pre>"
      ],
      "text/plain": [
       "+---------+--------------+-------------------+-----------------------+-------------+"
      ]
     },
     "metadata": {},
     "output_type": "display_data"
    },
    {
     "data": {
      "text/html": [
       "<pre>Optimization Complete: Maximum number of passes through the data reached.</pre>"
      ],
      "text/plain": [
       "Optimization Complete: Maximum number of passes through the data reached."
      ]
     },
     "metadata": {},
     "output_type": "display_data"
    },
    {
     "data": {
      "text/html": [
       "<pre>Computing final objective value and training RMSE.</pre>"
      ],
      "text/plain": [
       "Computing final objective value and training RMSE."
      ]
     },
     "metadata": {},
     "output_type": "display_data"
    },
    {
     "data": {
      "text/html": [
       "<pre>       Final objective value: 8.43951</pre>"
      ],
      "text/plain": [
       "       Final objective value: 8.43951"
      ]
     },
     "metadata": {},
     "output_type": "display_data"
    },
    {
     "data": {
      "text/html": [
       "<pre>       Final training RMSE: 2.90275</pre>"
      ],
      "text/plain": [
       "       Final training RMSE: 2.90275"
      ]
     },
     "metadata": {},
     "output_type": "display_data"
    }
   ],
   "source": [
    "f_model = turicreate.factorization_recommender.create(train_data, user_id='user_id', \n",
    "max_iterations=50, item_id='product_id', target='target', verbose=True)"
   ]
  },
  {
   "cell_type": "code",
   "execution_count": null,
   "metadata": {
    "id": "cXsn8RmimxQ9",
    "outputId": "728e4185-c2bc-4ea2-9df5-ef81667d6263"
   },
   "outputs": [
    {
     "data": {
      "text/html": [
       "<pre>recommendations finished on 1000/75000 queries. users per second: 14404.2</pre>"
      ],
      "text/plain": [
       "recommendations finished on 1000/75000 queries. users per second: 14404.2"
      ]
     },
     "metadata": {},
     "output_type": "display_data"
    },
    {
     "data": {
      "text/html": [
       "<pre>recommendations finished on 2000/75000 queries. users per second: 18891.3</pre>"
      ],
      "text/plain": [
       "recommendations finished on 2000/75000 queries. users per second: 18891.3"
      ]
     },
     "metadata": {},
     "output_type": "display_data"
    },
    {
     "data": {
      "text/html": [
       "<pre>recommendations finished on 3000/75000 queries. users per second: 20741.3</pre>"
      ],
      "text/plain": [
       "recommendations finished on 3000/75000 queries. users per second: 20741.3"
      ]
     },
     "metadata": {},
     "output_type": "display_data"
    },
    {
     "data": {
      "text/html": [
       "<pre>recommendations finished on 4000/75000 queries. users per second: 22304.7</pre>"
      ],
      "text/plain": [
       "recommendations finished on 4000/75000 queries. users per second: 22304.7"
      ]
     },
     "metadata": {},
     "output_type": "display_data"
    },
    {
     "data": {
      "text/html": [
       "<pre>recommendations finished on 5000/75000 queries. users per second: 22828.8</pre>"
      ],
      "text/plain": [
       "recommendations finished on 5000/75000 queries. users per second: 22828.8"
      ]
     },
     "metadata": {},
     "output_type": "display_data"
    },
    {
     "data": {
      "text/html": [
       "<pre>recommendations finished on 6000/75000 queries. users per second: 23532.9</pre>"
      ],
      "text/plain": [
       "recommendations finished on 6000/75000 queries. users per second: 23532.9"
      ]
     },
     "metadata": {},
     "output_type": "display_data"
    },
    {
     "data": {
      "text/html": [
       "<pre>recommendations finished on 7000/75000 queries. users per second: 23647.5</pre>"
      ],
      "text/plain": [
       "recommendations finished on 7000/75000 queries. users per second: 23647.5"
      ]
     },
     "metadata": {},
     "output_type": "display_data"
    },
    {
     "data": {
      "text/html": [
       "<pre>recommendations finished on 8000/75000 queries. users per second: 23213.6</pre>"
      ],
      "text/plain": [
       "recommendations finished on 8000/75000 queries. users per second: 23213.6"
      ]
     },
     "metadata": {},
     "output_type": "display_data"
    },
    {
     "data": {
      "text/html": [
       "<pre>recommendations finished on 9000/75000 queries. users per second: 22696.5</pre>"
      ],
      "text/plain": [
       "recommendations finished on 9000/75000 queries. users per second: 22696.5"
      ]
     },
     "metadata": {},
     "output_type": "display_data"
    },
    {
     "data": {
      "text/html": [
       "<pre>recommendations finished on 10000/75000 queries. users per second: 23278.5</pre>"
      ],
      "text/plain": [
       "recommendations finished on 10000/75000 queries. users per second: 23278.5"
      ]
     },
     "metadata": {},
     "output_type": "display_data"
    },
    {
     "data": {
      "text/html": [
       "<pre>recommendations finished on 11000/75000 queries. users per second: 23662.9</pre>"
      ],
      "text/plain": [
       "recommendations finished on 11000/75000 queries. users per second: 23662.9"
      ]
     },
     "metadata": {},
     "output_type": "display_data"
    },
    {
     "data": {
      "text/html": [
       "<pre>recommendations finished on 12000/75000 queries. users per second: 23892.6</pre>"
      ],
      "text/plain": [
       "recommendations finished on 12000/75000 queries. users per second: 23892.6"
      ]
     },
     "metadata": {},
     "output_type": "display_data"
    },
    {
     "data": {
      "text/html": [
       "<pre>recommendations finished on 13000/75000 queries. users per second: 24053.8</pre>"
      ],
      "text/plain": [
       "recommendations finished on 13000/75000 queries. users per second: 24053.8"
      ]
     },
     "metadata": {},
     "output_type": "display_data"
    },
    {
     "data": {
      "text/html": [
       "<pre>recommendations finished on 14000/75000 queries. users per second: 23854.3</pre>"
      ],
      "text/plain": [
       "recommendations finished on 14000/75000 queries. users per second: 23854.3"
      ]
     },
     "metadata": {},
     "output_type": "display_data"
    },
    {
     "data": {
      "text/html": [
       "<pre>recommendations finished on 15000/75000 queries. users per second: 23861.7</pre>"
      ],
      "text/plain": [
       "recommendations finished on 15000/75000 queries. users per second: 23861.7"
      ]
     },
     "metadata": {},
     "output_type": "display_data"
    },
    {
     "data": {
      "text/html": [
       "<pre>recommendations finished on 16000/75000 queries. users per second: 24030.2</pre>"
      ],
      "text/plain": [
       "recommendations finished on 16000/75000 queries. users per second: 24030.2"
      ]
     },
     "metadata": {},
     "output_type": "display_data"
    },
    {
     "data": {
      "text/html": [
       "<pre>recommendations finished on 17000/75000 queries. users per second: 23903.2</pre>"
      ],
      "text/plain": [
       "recommendations finished on 17000/75000 queries. users per second: 23903.2"
      ]
     },
     "metadata": {},
     "output_type": "display_data"
    },
    {
     "data": {
      "text/html": [
       "<pre>recommendations finished on 18000/75000 queries. users per second: 24135.7</pre>"
      ],
      "text/plain": [
       "recommendations finished on 18000/75000 queries. users per second: 24135.7"
      ]
     },
     "metadata": {},
     "output_type": "display_data"
    },
    {
     "data": {
      "text/html": [
       "<pre>recommendations finished on 19000/75000 queries. users per second: 23781.8</pre>"
      ],
      "text/plain": [
       "recommendations finished on 19000/75000 queries. users per second: 23781.8"
      ]
     },
     "metadata": {},
     "output_type": "display_data"
    },
    {
     "data": {
      "text/html": [
       "<pre>recommendations finished on 20000/75000 queries. users per second: 23753.3</pre>"
      ],
      "text/plain": [
       "recommendations finished on 20000/75000 queries. users per second: 23753.3"
      ]
     },
     "metadata": {},
     "output_type": "display_data"
    },
    {
     "data": {
      "text/html": [
       "<pre>recommendations finished on 21000/75000 queries. users per second: 23658.1</pre>"
      ],
      "text/plain": [
       "recommendations finished on 21000/75000 queries. users per second: 23658.1"
      ]
     },
     "metadata": {},
     "output_type": "display_data"
    },
    {
     "data": {
      "text/html": [
       "<pre>recommendations finished on 22000/75000 queries. users per second: 23740.2</pre>"
      ],
      "text/plain": [
       "recommendations finished on 22000/75000 queries. users per second: 23740.2"
      ]
     },
     "metadata": {},
     "output_type": "display_data"
    },
    {
     "data": {
      "text/html": [
       "<pre>recommendations finished on 23000/75000 queries. users per second: 23802.5</pre>"
      ],
      "text/plain": [
       "recommendations finished on 23000/75000 queries. users per second: 23802.5"
      ]
     },
     "metadata": {},
     "output_type": "display_data"
    },
    {
     "data": {
      "text/html": [
       "<pre>recommendations finished on 24000/75000 queries. users per second: 23663.2</pre>"
      ],
      "text/plain": [
       "recommendations finished on 24000/75000 queries. users per second: 23663.2"
      ]
     },
     "metadata": {},
     "output_type": "display_data"
    },
    {
     "data": {
      "text/html": [
       "<pre>recommendations finished on 25000/75000 queries. users per second: 23836.3</pre>"
      ],
      "text/plain": [
       "recommendations finished on 25000/75000 queries. users per second: 23836.3"
      ]
     },
     "metadata": {},
     "output_type": "display_data"
    },
    {
     "data": {
      "text/html": [
       "<pre>recommendations finished on 26000/75000 queries. users per second: 23645.1</pre>"
      ],
      "text/plain": [
       "recommendations finished on 26000/75000 queries. users per second: 23645.1"
      ]
     },
     "metadata": {},
     "output_type": "display_data"
    },
    {
     "data": {
      "text/html": [
       "<pre>recommendations finished on 27000/75000 queries. users per second: 23555.9</pre>"
      ],
      "text/plain": [
       "recommendations finished on 27000/75000 queries. users per second: 23555.9"
      ]
     },
     "metadata": {},
     "output_type": "display_data"
    },
    {
     "data": {
      "text/html": [
       "<pre>recommendations finished on 28000/75000 queries. users per second: 23470</pre>"
      ],
      "text/plain": [
       "recommendations finished on 28000/75000 queries. users per second: 23470"
      ]
     },
     "metadata": {},
     "output_type": "display_data"
    },
    {
     "data": {
      "text/html": [
       "<pre>recommendations finished on 29000/75000 queries. users per second: 23602.2</pre>"
      ],
      "text/plain": [
       "recommendations finished on 29000/75000 queries. users per second: 23602.2"
      ]
     },
     "metadata": {},
     "output_type": "display_data"
    },
    {
     "data": {
      "text/html": [
       "<pre>recommendations finished on 30000/75000 queries. users per second: 23501.6</pre>"
      ],
      "text/plain": [
       "recommendations finished on 30000/75000 queries. users per second: 23501.6"
      ]
     },
     "metadata": {},
     "output_type": "display_data"
    },
    {
     "data": {
      "text/html": [
       "<pre>recommendations finished on 31000/75000 queries. users per second: 23496.8</pre>"
      ],
      "text/plain": [
       "recommendations finished on 31000/75000 queries. users per second: 23496.8"
      ]
     },
     "metadata": {},
     "output_type": "display_data"
    },
    {
     "data": {
      "text/html": [
       "<pre>recommendations finished on 32000/75000 queries. users per second: 23317.2</pre>"
      ],
      "text/plain": [
       "recommendations finished on 32000/75000 queries. users per second: 23317.2"
      ]
     },
     "metadata": {},
     "output_type": "display_data"
    },
    {
     "data": {
      "text/html": [
       "<pre>recommendations finished on 33000/75000 queries. users per second: 23448.8</pre>"
      ],
      "text/plain": [
       "recommendations finished on 33000/75000 queries. users per second: 23448.8"
      ]
     },
     "metadata": {},
     "output_type": "display_data"
    },
    {
     "data": {
      "text/html": [
       "<pre>recommendations finished on 34000/75000 queries. users per second: 23545.3</pre>"
      ],
      "text/plain": [
       "recommendations finished on 34000/75000 queries. users per second: 23545.3"
      ]
     },
     "metadata": {},
     "output_type": "display_data"
    },
    {
     "data": {
      "text/html": [
       "<pre>recommendations finished on 35000/75000 queries. users per second: 23640.1</pre>"
      ],
      "text/plain": [
       "recommendations finished on 35000/75000 queries. users per second: 23640.1"
      ]
     },
     "metadata": {},
     "output_type": "display_data"
    },
    {
     "data": {
      "text/html": [
       "<pre>recommendations finished on 36000/75000 queries. users per second: 23734.1</pre>"
      ],
      "text/plain": [
       "recommendations finished on 36000/75000 queries. users per second: 23734.1"
      ]
     },
     "metadata": {},
     "output_type": "display_data"
    },
    {
     "data": {
      "text/html": [
       "<pre>recommendations finished on 37000/75000 queries. users per second: 23791.6</pre>"
      ],
      "text/plain": [
       "recommendations finished on 37000/75000 queries. users per second: 23791.6"
      ]
     },
     "metadata": {},
     "output_type": "display_data"
    },
    {
     "data": {
      "text/html": [
       "<pre>recommendations finished on 38000/75000 queries. users per second: 23868.5</pre>"
      ],
      "text/plain": [
       "recommendations finished on 38000/75000 queries. users per second: 23868.5"
      ]
     },
     "metadata": {},
     "output_type": "display_data"
    },
    {
     "data": {
      "text/html": [
       "<pre>recommendations finished on 39000/75000 queries. users per second: 23858</pre>"
      ],
      "text/plain": [
       "recommendations finished on 39000/75000 queries. users per second: 23858"
      ]
     },
     "metadata": {},
     "output_type": "display_data"
    },
    {
     "data": {
      "text/html": [
       "<pre>recommendations finished on 40000/75000 queries. users per second: 23941.3</pre>"
      ],
      "text/plain": [
       "recommendations finished on 40000/75000 queries. users per second: 23941.3"
      ]
     },
     "metadata": {},
     "output_type": "display_data"
    },
    {
     "data": {
      "text/html": [
       "<pre>recommendations finished on 41000/75000 queries. users per second: 23950.4</pre>"
      ],
      "text/plain": [
       "recommendations finished on 41000/75000 queries. users per second: 23950.4"
      ]
     },
     "metadata": {},
     "output_type": "display_data"
    },
    {
     "data": {
      "text/html": [
       "<pre>recommendations finished on 42000/75000 queries. users per second: 23983.5</pre>"
      ],
      "text/plain": [
       "recommendations finished on 42000/75000 queries. users per second: 23983.5"
      ]
     },
     "metadata": {},
     "output_type": "display_data"
    },
    {
     "data": {
      "text/html": [
       "<pre>recommendations finished on 43000/75000 queries. users per second: 24017</pre>"
      ],
      "text/plain": [
       "recommendations finished on 43000/75000 queries. users per second: 24017"
      ]
     },
     "metadata": {},
     "output_type": "display_data"
    },
    {
     "data": {
      "text/html": [
       "<pre>recommendations finished on 44000/75000 queries. users per second: 24099.4</pre>"
      ],
      "text/plain": [
       "recommendations finished on 44000/75000 queries. users per second: 24099.4"
      ]
     },
     "metadata": {},
     "output_type": "display_data"
    },
    {
     "data": {
      "text/html": [
       "<pre>recommendations finished on 45000/75000 queries. users per second: 24174.2</pre>"
      ],
      "text/plain": [
       "recommendations finished on 45000/75000 queries. users per second: 24174.2"
      ]
     },
     "metadata": {},
     "output_type": "display_data"
    },
    {
     "data": {
      "text/html": [
       "<pre>recommendations finished on 46000/75000 queries. users per second: 24258.9</pre>"
      ],
      "text/plain": [
       "recommendations finished on 46000/75000 queries. users per second: 24258.9"
      ]
     },
     "metadata": {},
     "output_type": "display_data"
    },
    {
     "data": {
      "text/html": [
       "<pre>recommendations finished on 47000/75000 queries. users per second: 24341.6</pre>"
      ],
      "text/plain": [
       "recommendations finished on 47000/75000 queries. users per second: 24341.6"
      ]
     },
     "metadata": {},
     "output_type": "display_data"
    },
    {
     "data": {
      "text/html": [
       "<pre>recommendations finished on 48000/75000 queries. users per second: 24177.1</pre>"
      ],
      "text/plain": [
       "recommendations finished on 48000/75000 queries. users per second: 24177.1"
      ]
     },
     "metadata": {},
     "output_type": "display_data"
    },
    {
     "data": {
      "text/html": [
       "<pre>recommendations finished on 49000/75000 queries. users per second: 24200.4</pre>"
      ],
      "text/plain": [
       "recommendations finished on 49000/75000 queries. users per second: 24200.4"
      ]
     },
     "metadata": {},
     "output_type": "display_data"
    },
    {
     "data": {
      "text/html": [
       "<pre>recommendations finished on 50000/75000 queries. users per second: 24270</pre>"
      ],
      "text/plain": [
       "recommendations finished on 50000/75000 queries. users per second: 24270"
      ]
     },
     "metadata": {},
     "output_type": "display_data"
    },
    {
     "data": {
      "text/html": [
       "<pre>recommendations finished on 51000/75000 queries. users per second: 24387.8</pre>"
      ],
      "text/plain": [
       "recommendations finished on 51000/75000 queries. users per second: 24387.8"
      ]
     },
     "metadata": {},
     "output_type": "display_data"
    },
    {
     "data": {
      "text/html": [
       "<pre>recommendations finished on 52000/75000 queries. users per second: 24420.5</pre>"
      ],
      "text/plain": [
       "recommendations finished on 52000/75000 queries. users per second: 24420.5"
      ]
     },
     "metadata": {},
     "output_type": "display_data"
    },
    {
     "data": {
      "text/html": [
       "<pre>recommendations finished on 53000/75000 queries. users per second: 24330.3</pre>"
      ],
      "text/plain": [
       "recommendations finished on 53000/75000 queries. users per second: 24330.3"
      ]
     },
     "metadata": {},
     "output_type": "display_data"
    },
    {
     "data": {
      "text/html": [
       "<pre>recommendations finished on 54000/75000 queries. users per second: 24267.6</pre>"
      ],
      "text/plain": [
       "recommendations finished on 54000/75000 queries. users per second: 24267.6"
      ]
     },
     "metadata": {},
     "output_type": "display_data"
    },
    {
     "data": {
      "text/html": [
       "<pre>recommendations finished on 55000/75000 queries. users per second: 24211.7</pre>"
      ],
      "text/plain": [
       "recommendations finished on 55000/75000 queries. users per second: 24211.7"
      ]
     },
     "metadata": {},
     "output_type": "display_data"
    },
    {
     "data": {
      "text/html": [
       "<pre>recommendations finished on 56000/75000 queries. users per second: 24269.9</pre>"
      ],
      "text/plain": [
       "recommendations finished on 56000/75000 queries. users per second: 24269.9"
      ]
     },
     "metadata": {},
     "output_type": "display_data"
    },
    {
     "data": {
      "text/html": [
       "<pre>recommendations finished on 57000/75000 queries. users per second: 24261</pre>"
      ],
      "text/plain": [
       "recommendations finished on 57000/75000 queries. users per second: 24261"
      ]
     },
     "metadata": {},
     "output_type": "display_data"
    },
    {
     "data": {
      "text/html": [
       "<pre>recommendations finished on 58000/75000 queries. users per second: 24309.7</pre>"
      ],
      "text/plain": [
       "recommendations finished on 58000/75000 queries. users per second: 24309.7"
      ]
     },
     "metadata": {},
     "output_type": "display_data"
    },
    {
     "data": {
      "text/html": [
       "<pre>recommendations finished on 59000/75000 queries. users per second: 24412.2</pre>"
      ],
      "text/plain": [
       "recommendations finished on 59000/75000 queries. users per second: 24412.2"
      ]
     },
     "metadata": {},
     "output_type": "display_data"
    },
    {
     "data": {
      "text/html": [
       "<pre>recommendations finished on 60000/75000 queries. users per second: 24465.5</pre>"
      ],
      "text/plain": [
       "recommendations finished on 60000/75000 queries. users per second: 24465.5"
      ]
     },
     "metadata": {},
     "output_type": "display_data"
    },
    {
     "data": {
      "text/html": [
       "<pre>recommendations finished on 61000/75000 queries. users per second: 24468</pre>"
      ],
      "text/plain": [
       "recommendations finished on 61000/75000 queries. users per second: 24468"
      ]
     },
     "metadata": {},
     "output_type": "display_data"
    },
    {
     "data": {
      "text/html": [
       "<pre>recommendations finished on 62000/75000 queries. users per second: 24510.7</pre>"
      ],
      "text/plain": [
       "recommendations finished on 62000/75000 queries. users per second: 24510.7"
      ]
     },
     "metadata": {},
     "output_type": "display_data"
    },
    {
     "data": {
      "text/html": [
       "<pre>recommendations finished on 63000/75000 queries. users per second: 24432.9</pre>"
      ],
      "text/plain": [
       "recommendations finished on 63000/75000 queries. users per second: 24432.9"
      ]
     },
     "metadata": {},
     "output_type": "display_data"
    },
    {
     "data": {
      "text/html": [
       "<pre>recommendations finished on 64000/75000 queries. users per second: 24412.4</pre>"
      ],
      "text/plain": [
       "recommendations finished on 64000/75000 queries. users per second: 24412.4"
      ]
     },
     "metadata": {},
     "output_type": "display_data"
    },
    {
     "data": {
      "text/html": [
       "<pre>recommendations finished on 65000/75000 queries. users per second: 24470.5</pre>"
      ],
      "text/plain": [
       "recommendations finished on 65000/75000 queries. users per second: 24470.5"
      ]
     },
     "metadata": {},
     "output_type": "display_data"
    },
    {
     "data": {
      "text/html": [
       "<pre>recommendations finished on 66000/75000 queries. users per second: 24511.8</pre>"
      ],
      "text/plain": [
       "recommendations finished on 66000/75000 queries. users per second: 24511.8"
      ]
     },
     "metadata": {},
     "output_type": "display_data"
    },
    {
     "data": {
      "text/html": [
       "<pre>recommendations finished on 67000/75000 queries. users per second: 24600.2</pre>"
      ],
      "text/plain": [
       "recommendations finished on 67000/75000 queries. users per second: 24600.2"
      ]
     },
     "metadata": {},
     "output_type": "display_data"
    },
    {
     "data": {
      "text/html": [
       "<pre>recommendations finished on 68000/75000 queries. users per second: 24593.2</pre>"
      ],
      "text/plain": [
       "recommendations finished on 68000/75000 queries. users per second: 24593.2"
      ]
     },
     "metadata": {},
     "output_type": "display_data"
    },
    {
     "data": {
      "text/html": [
       "<pre>recommendations finished on 69000/75000 queries. users per second: 24653.8</pre>"
      ],
      "text/plain": [
       "recommendations finished on 69000/75000 queries. users per second: 24653.8"
      ]
     },
     "metadata": {},
     "output_type": "display_data"
    },
    {
     "data": {
      "text/html": [
       "<pre>recommendations finished on 70000/75000 queries. users per second: 24626.6</pre>"
      ],
      "text/plain": [
       "recommendations finished on 70000/75000 queries. users per second: 24626.6"
      ]
     },
     "metadata": {},
     "output_type": "display_data"
    },
    {
     "data": {
      "text/html": [
       "<pre>recommendations finished on 71000/75000 queries. users per second: 24703.4</pre>"
      ],
      "text/plain": [
       "recommendations finished on 71000/75000 queries. users per second: 24703.4"
      ]
     },
     "metadata": {},
     "output_type": "display_data"
    },
    {
     "data": {
      "text/html": [
       "<pre>recommendations finished on 72000/75000 queries. users per second: 24778.5</pre>"
      ],
      "text/plain": [
       "recommendations finished on 72000/75000 queries. users per second: 24778.5"
      ]
     },
     "metadata": {},
     "output_type": "display_data"
    },
    {
     "data": {
      "text/html": [
       "<pre>recommendations finished on 73000/75000 queries. users per second: 24862.8</pre>"
      ],
      "text/plain": [
       "recommendations finished on 73000/75000 queries. users per second: 24862.8"
      ]
     },
     "metadata": {},
     "output_type": "display_data"
    },
    {
     "data": {
      "text/html": [
       "<pre>recommendations finished on 74000/75000 queries. users per second: 24998.6</pre>"
      ],
      "text/plain": [
       "recommendations finished on 74000/75000 queries. users per second: 24998.6"
      ]
     },
     "metadata": {},
     "output_type": "display_data"
    },
    {
     "data": {
      "text/html": [
       "<pre>recommendations finished on 75000/75000 queries. users per second: 24994.8</pre>"
      ],
      "text/plain": [
       "recommendations finished on 75000/75000 queries. users per second: 24994.8"
      ]
     },
     "metadata": {},
     "output_type": "display_data"
    }
   ],
   "source": [
    "f_results = f_model.recommend(users=test_data, items=relation_data, exclude_known=False, k=len(products_df)).to_dataframe()"
   ]
  },
  {
   "cell_type": "code",
   "execution_count": null,
   "metadata": {
    "id": "5KAqzRrRmxQ9"
   },
   "outputs": [],
   "source": [
    "write_csv(f_results, orders_df, 'f_results')"
   ]
  },
  {
   "cell_type": "code",
   "execution_count": null,
   "metadata": {
    "id": "3ZI3at3EmxQ9",
    "outputId": "3f1553b8-f61b-45ee-d821-d156f12c5f22"
   },
   "outputs": [
    {
     "data": {
      "text/html": [
       "<pre>Preparing data set.</pre>"
      ],
      "text/plain": [
       "Preparing data set."
      ]
     },
     "metadata": {},
     "output_type": "display_data"
    },
    {
     "data": {
      "text/html": [
       "<pre>    Data has 19428226 observations with 206209 users and 49685 items.</pre>"
      ],
      "text/plain": [
       "    Data has 19428226 observations with 206209 users and 49685 items."
      ]
     },
     "metadata": {},
     "output_type": "display_data"
    },
    {
     "data": {
      "text/html": [
       "<pre>    Data prepared in: 19.991s</pre>"
      ],
      "text/plain": [
       "    Data prepared in: 19.991s"
      ]
     },
     "metadata": {},
     "output_type": "display_data"
    },
    {
     "data": {
      "text/html": [
       "<pre>Training ranking_factorization_recommender for recommendations.</pre>"
      ],
      "text/plain": [
       "Training ranking_factorization_recommender for recommendations."
      ]
     },
     "metadata": {},
     "output_type": "display_data"
    },
    {
     "data": {
      "text/html": [
       "<pre>+--------------------------------+--------------------------------------------------+----------+</pre>"
      ],
      "text/plain": [
       "+--------------------------------+--------------------------------------------------+----------+"
      ]
     },
     "metadata": {},
     "output_type": "display_data"
    },
    {
     "data": {
      "text/html": [
       "<pre>| Parameter                      | Description                                      | Value    |</pre>"
      ],
      "text/plain": [
       "| Parameter                      | Description                                      | Value    |"
      ]
     },
     "metadata": {},
     "output_type": "display_data"
    },
    {
     "data": {
      "text/html": [
       "<pre>+--------------------------------+--------------------------------------------------+----------+</pre>"
      ],
      "text/plain": [
       "+--------------------------------+--------------------------------------------------+----------+"
      ]
     },
     "metadata": {},
     "output_type": "display_data"
    },
    {
     "data": {
      "text/html": [
       "<pre>| num_factors                    | Factor Dimension                                 | 32       |</pre>"
      ],
      "text/plain": [
       "| num_factors                    | Factor Dimension                                 | 32       |"
      ]
     },
     "metadata": {},
     "output_type": "display_data"
    },
    {
     "data": {
      "text/html": [
       "<pre>| regularization                 | L2 Regularization on Factors                     | 1e-09    |</pre>"
      ],
      "text/plain": [
       "| regularization                 | L2 Regularization on Factors                     | 1e-09    |"
      ]
     },
     "metadata": {},
     "output_type": "display_data"
    },
    {
     "data": {
      "text/html": [
       "<pre>| solver                         | Solver used for training                         | adagrad  |</pre>"
      ],
      "text/plain": [
       "| solver                         | Solver used for training                         | adagrad  |"
      ]
     },
     "metadata": {},
     "output_type": "display_data"
    },
    {
     "data": {
      "text/html": [
       "<pre>| linear_regularization          | L2 Regularization on Linear Coefficients         | 1e-09    |</pre>"
      ],
      "text/plain": [
       "| linear_regularization          | L2 Regularization on Linear Coefficients         | 1e-09    |"
      ]
     },
     "metadata": {},
     "output_type": "display_data"
    },
    {
     "data": {
      "text/html": [
       "<pre>| ranking_regularization         | Rank-based Regularization Weight                 | 0.25     |</pre>"
      ],
      "text/plain": [
       "| ranking_regularization         | Rank-based Regularization Weight                 | 0.25     |"
      ]
     },
     "metadata": {},
     "output_type": "display_data"
    },
    {
     "data": {
      "text/html": [
       "<pre>| max_iterations                 | Maximum Number of Iterations                     | 50       |</pre>"
      ],
      "text/plain": [
       "| max_iterations                 | Maximum Number of Iterations                     | 50       |"
      ]
     },
     "metadata": {},
     "output_type": "display_data"
    },
    {
     "data": {
      "text/html": [
       "<pre>+--------------------------------+--------------------------------------------------+----------+</pre>"
      ],
      "text/plain": [
       "+--------------------------------+--------------------------------------------------+----------+"
      ]
     },
     "metadata": {},
     "output_type": "display_data"
    },
    {
     "data": {
      "text/html": [
       "<pre>  Optimizing model using SGD; tuning step size.</pre>"
      ],
      "text/plain": [
       "  Optimizing model using SGD; tuning step size."
      ]
     },
     "metadata": {},
     "output_type": "display_data"
    },
    {
     "data": {
      "text/html": [
       "<pre>  Using 2428528 / 19428226 points for tuning the step size.</pre>"
      ],
      "text/plain": [
       "  Using 2428528 / 19428226 points for tuning the step size."
      ]
     },
     "metadata": {},
     "output_type": "display_data"
    },
    {
     "data": {
      "text/html": [
       "<pre>+---------+-------------------+------------------------------------------+</pre>"
      ],
      "text/plain": [
       "+---------+-------------------+------------------------------------------+"
      ]
     },
     "metadata": {},
     "output_type": "display_data"
    },
    {
     "data": {
      "text/html": [
       "<pre>| Attempt | Initial Step Size | Estimated Objective Value                |</pre>"
      ],
      "text/plain": [
       "| Attempt | Initial Step Size | Estimated Objective Value                |"
      ]
     },
     "metadata": {},
     "output_type": "display_data"
    },
    {
     "data": {
      "text/html": [
       "<pre>+---------+-------------------+------------------------------------------+</pre>"
      ],
      "text/plain": [
       "+---------+-------------------+------------------------------------------+"
      ]
     },
     "metadata": {},
     "output_type": "display_data"
    },
    {
     "data": {
      "text/html": [
       "<pre>| 0       | 16.6667           | Not Viable                               |</pre>"
      ],
      "text/plain": [
       "| 0       | 16.6667           | Not Viable                               |"
      ]
     },
     "metadata": {},
     "output_type": "display_data"
    },
    {
     "data": {
      "text/html": [
       "<pre>| 1       | 4.16667           | Not Viable                               |</pre>"
      ],
      "text/plain": [
       "| 1       | 4.16667           | Not Viable                               |"
      ]
     },
     "metadata": {},
     "output_type": "display_data"
    },
    {
     "data": {
      "text/html": [
       "<pre>| 2       | 1.04167           | Not Viable                               |</pre>"
      ],
      "text/plain": [
       "| 2       | 1.04167           | Not Viable                               |"
      ]
     },
     "metadata": {},
     "output_type": "display_data"
    },
    {
     "data": {
      "text/html": [
       "<pre>| 3       | 0.260417          | No Decrease (34.5172 >= 32.7302)         |</pre>"
      ],
      "text/plain": [
       "| 3       | 0.260417          | No Decrease (34.5172 >= 32.7302)         |"
      ]
     },
     "metadata": {},
     "output_type": "display_data"
    },
    {
     "data": {
      "text/html": [
       "<pre>| 4       | 0.0651042         | 27.5042                                  |</pre>"
      ],
      "text/plain": [
       "| 4       | 0.0651042         | 27.5042                                  |"
      ]
     },
     "metadata": {},
     "output_type": "display_data"
    },
    {
     "data": {
      "text/html": [
       "<pre>| 5       | 0.0325521         | 27.8805                                  |</pre>"
      ],
      "text/plain": [
       "| 5       | 0.0325521         | 27.8805                                  |"
      ]
     },
     "metadata": {},
     "output_type": "display_data"
    },
    {
     "data": {
      "text/html": [
       "<pre>| 6       | 0.016276          | 28.4313                                  |</pre>"
      ],
      "text/plain": [
       "| 6       | 0.016276          | 28.4313                                  |"
      ]
     },
     "metadata": {},
     "output_type": "display_data"
    },
    {
     "data": {
      "text/html": [
       "<pre>| 7       | 0.00813802        | 29.3646                                  |</pre>"
      ],
      "text/plain": [
       "| 7       | 0.00813802        | 29.3646                                  |"
      ]
     },
     "metadata": {},
     "output_type": "display_data"
    },
    {
     "data": {
      "text/html": [
       "<pre>+---------+-------------------+------------------------------------------+</pre>"
      ],
      "text/plain": [
       "+---------+-------------------+------------------------------------------+"
      ]
     },
     "metadata": {},
     "output_type": "display_data"
    },
    {
     "data": {
      "text/html": [
       "<pre>| Final   | 0.0651042         | 27.5042                                  |</pre>"
      ],
      "text/plain": [
       "| Final   | 0.0651042         | 27.5042                                  |"
      ]
     },
     "metadata": {},
     "output_type": "display_data"
    },
    {
     "data": {
      "text/html": [
       "<pre>+---------+-------------------+------------------------------------------+</pre>"
      ],
      "text/plain": [
       "+---------+-------------------+------------------------------------------+"
      ]
     },
     "metadata": {},
     "output_type": "display_data"
    },
    {
     "data": {
      "text/html": [
       "<pre>Starting Optimization.</pre>"
      ],
      "text/plain": [
       "Starting Optimization."
      ]
     },
     "metadata": {},
     "output_type": "display_data"
    },
    {
     "data": {
      "text/html": [
       "<pre>+---------+--------------+-------------------+-----------------------+-------------+</pre>"
      ],
      "text/plain": [
       "+---------+--------------+-------------------+-----------------------+-------------+"
      ]
     },
     "metadata": {},
     "output_type": "display_data"
    },
    {
     "data": {
      "text/html": [
       "<pre>| Iter.   | Elapsed Time | Approx. Objective | Approx. Training RMSE | Step Size   |</pre>"
      ],
      "text/plain": [
       "| Iter.   | Elapsed Time | Approx. Objective | Approx. Training RMSE | Step Size   |"
      ]
     },
     "metadata": {},
     "output_type": "display_data"
    },
    {
     "data": {
      "text/html": [
       "<pre>+---------+--------------+-------------------+-----------------------+-------------+</pre>"
      ],
      "text/plain": [
       "+---------+--------------+-------------------+-----------------------+-------------+"
      ]
     },
     "metadata": {},
     "output_type": "display_data"
    },
    {
     "data": {
      "text/html": [
       "<pre>| Initial | 122us        | 32.7518           | 4.08731               |             |</pre>"
      ],
      "text/plain": [
       "| Initial | 122us        | 32.7518           | 4.08731               |             |"
      ]
     },
     "metadata": {},
     "output_type": "display_data"
    },
    {
     "data": {
      "text/html": [
       "<pre>+---------+--------------+-------------------+-----------------------+-------------+</pre>"
      ],
      "text/plain": [
       "+---------+--------------+-------------------+-----------------------+-------------+"
      ]
     },
     "metadata": {},
     "output_type": "display_data"
    },
    {
     "data": {
      "text/html": [
       "<pre>| 1       | 25.27s       | 25.0357           | 3.98038               | 0.0651042   |</pre>"
      ],
      "text/plain": [
       "| 1       | 25.27s       | 25.0357           | 3.98038               | 0.0651042   |"
      ]
     },
     "metadata": {},
     "output_type": "display_data"
    },
    {
     "data": {
      "text/html": [
       "<pre>| 2       | 50.33s       | 24.334            | 4.03844               | 0.0651042   |</pre>"
      ],
      "text/plain": [
       "| 2       | 50.33s       | 24.334            | 4.03844               | 0.0651042   |"
      ]
     },
     "metadata": {},
     "output_type": "display_data"
    },
    {
     "data": {
      "text/html": [
       "<pre>| 3       | 1m 16s       | 23.7902           | 3.92795               | 0.0651042   |</pre>"
      ],
      "text/plain": [
       "| 3       | 1m 16s       | 23.7902           | 3.92795               | 0.0651042   |"
      ]
     },
     "metadata": {},
     "output_type": "display_data"
    },
    {
     "data": {
      "text/html": [
       "<pre>| 4       | 1m 42s       | 23.2193           | 3.88897               | 0.0651042   |</pre>"
      ],
      "text/plain": [
       "| 4       | 1m 42s       | 23.2193           | 3.88897               | 0.0651042   |"
      ]
     },
     "metadata": {},
     "output_type": "display_data"
    },
    {
     "data": {
      "text/html": [
       "<pre>| 5       | 2m 9s        | 22.8244           | 3.87067               | 0.0651042   |</pre>"
      ],
      "text/plain": [
       "| 5       | 2m 9s        | 22.8244           | 3.87067               | 0.0651042   |"
      ]
     },
     "metadata": {},
     "output_type": "display_data"
    },
    {
     "data": {
      "text/html": [
       "<pre>| 7       | 3m 2s        | 22.2855           | 3.84224               | 0.0651042   |</pre>"
      ],
      "text/plain": [
       "| 7       | 3m 2s        | 22.2855           | 3.84224               | 0.0651042   |"
      ]
     },
     "metadata": {},
     "output_type": "display_data"
    },
    {
     "data": {
      "text/html": [
       "<pre>| 8       | 3m 28s       | 22.0936           | 3.83018               | 0.0651042   |</pre>"
      ],
      "text/plain": [
       "| 8       | 3m 28s       | 22.0936           | 3.83018               | 0.0651042   |"
      ]
     },
     "metadata": {},
     "output_type": "display_data"
    },
    {
     "data": {
      "text/html": [
       "<pre>| 9       | 3m 54s       | 21.9215           | 3.81905               | 0.0651042   |</pre>"
      ],
      "text/plain": [
       "| 9       | 3m 54s       | 21.9215           | 3.81905               | 0.0651042   |"
      ]
     },
     "metadata": {},
     "output_type": "display_data"
    },
    {
     "data": {
      "text/html": [
       "<pre>| 10      | 4m 20s       | 21.7754           | 3.80902               | 0.0651042   |</pre>"
      ],
      "text/plain": [
       "| 10      | 4m 20s       | 21.7754           | 3.80902               | 0.0651042   |"
      ]
     },
     "metadata": {},
     "output_type": "display_data"
    },
    {
     "data": {
      "text/html": [
       "<pre>| 11      | 4m 46s       | 21.646            | 3.79935               | 0.0651042   |</pre>"
      ],
      "text/plain": [
       "| 11      | 4m 46s       | 21.646            | 3.79935               | 0.0651042   |"
      ]
     },
     "metadata": {},
     "output_type": "display_data"
    },
    {
     "data": {
      "text/html": [
       "<pre>| 12      | 5m 13s       | 21.5313           | 3.79095               | 0.0651042   |</pre>"
      ],
      "text/plain": [
       "| 12      | 5m 13s       | 21.5313           | 3.79095               | 0.0651042   |"
      ]
     },
     "metadata": {},
     "output_type": "display_data"
    },
    {
     "data": {
      "text/html": [
       "<pre>| 13      | 5m 39s       | 21.4223           | 3.7828                | 0.0651042   |</pre>"
      ],
      "text/plain": [
       "| 13      | 5m 39s       | 21.4223           | 3.7828                | 0.0651042   |"
      ]
     },
     "metadata": {},
     "output_type": "display_data"
    },
    {
     "data": {
      "text/html": [
       "<pre>| 14      | 6m 6s        | 21.328            | 3.77506               | 0.0651042   |</pre>"
      ],
      "text/plain": [
       "| 14      | 6m 6s        | 21.328            | 3.77506               | 0.0651042   |"
      ]
     },
     "metadata": {},
     "output_type": "display_data"
    },
    {
     "data": {
      "text/html": [
       "<pre>| 15      | 6m 32s       | 21.2374           | 3.76768               | 0.0651042   |</pre>"
      ],
      "text/plain": [
       "| 15      | 6m 32s       | 21.2374           | 3.76768               | 0.0651042   |"
      ]
     },
     "metadata": {},
     "output_type": "display_data"
    },
    {
     "data": {
      "text/html": [
       "<pre>| 16      | 6m 59s       | 21.15             | 3.76085               | 0.0651042   |</pre>"
      ],
      "text/plain": [
       "| 16      | 6m 59s       | 21.15             | 3.76085               | 0.0651042   |"
      ]
     },
     "metadata": {},
     "output_type": "display_data"
    },
    {
     "data": {
      "text/html": [
       "<pre>| 17      | 7m 25s       | 21.0722           | 3.75395               | 0.0651042   |</pre>"
      ],
      "text/plain": [
       "| 17      | 7m 25s       | 21.0722           | 3.75395               | 0.0651042   |"
      ]
     },
     "metadata": {},
     "output_type": "display_data"
    },
    {
     "data": {
      "text/html": [
       "<pre>| 18      | 7m 51s       | 20.9985           | 3.74778               | 0.0651042   |</pre>"
      ],
      "text/plain": [
       "| 18      | 7m 51s       | 20.9985           | 3.74778               | 0.0651042   |"
      ]
     },
     "metadata": {},
     "output_type": "display_data"
    },
    {
     "data": {
      "text/html": [
       "<pre>| 19      | 8m 17s       | 20.9291           | 3.74127               | 0.0651042   |</pre>"
      ],
      "text/plain": [
       "| 19      | 8m 17s       | 20.9291           | 3.74127               | 0.0651042   |"
      ]
     },
     "metadata": {},
     "output_type": "display_data"
    },
    {
     "data": {
      "text/html": [
       "<pre>| 20      | 8m 43s       | 20.8575           | 3.73507               | 0.0651042   |</pre>"
      ],
      "text/plain": [
       "| 20      | 8m 43s       | 20.8575           | 3.73507               | 0.0651042   |"
      ]
     },
     "metadata": {},
     "output_type": "display_data"
    },
    {
     "data": {
      "text/html": [
       "<pre>| 21      | 9m 10s       | 20.7894           | 3.72903               | 0.0651042   |</pre>"
      ],
      "text/plain": [
       "| 21      | 9m 10s       | 20.7894           | 3.72903               | 0.0651042   |"
      ]
     },
     "metadata": {},
     "output_type": "display_data"
    },
    {
     "data": {
      "text/html": [
       "<pre>| 22      | 9m 36s       | 20.7272           | 3.72327               | 0.0651042   |</pre>"
      ],
      "text/plain": [
       "| 22      | 9m 36s       | 20.7272           | 3.72327               | 0.0651042   |"
      ]
     },
     "metadata": {},
     "output_type": "display_data"
    },
    {
     "data": {
      "text/html": [
       "<pre>| 23      | 10m 2s       | 20.6696           | 3.71732               | 0.0651042   |</pre>"
      ],
      "text/plain": [
       "| 23      | 10m 2s       | 20.6696           | 3.71732               | 0.0651042   |"
      ]
     },
     "metadata": {},
     "output_type": "display_data"
    },
    {
     "data": {
      "text/html": [
       "<pre>| 24      | 10m 28s      | 20.6093           | 3.7121                | 0.0651042   |</pre>"
      ],
      "text/plain": [
       "| 24      | 10m 28s      | 20.6093           | 3.7121                | 0.0651042   |"
      ]
     },
     "metadata": {},
     "output_type": "display_data"
    },
    {
     "data": {
      "text/html": [
       "<pre>| 25      | 10m 55s      | 20.5525           | 3.70681               | 0.0651042   |</pre>"
      ],
      "text/plain": [
       "| 25      | 10m 55s      | 20.5525           | 3.70681               | 0.0651042   |"
      ]
     },
     "metadata": {},
     "output_type": "display_data"
    },
    {
     "data": {
      "text/html": [
       "<pre>| 26      | 11m 21s      | 20.5001           | 3.70166               | 0.0651042   |</pre>"
      ],
      "text/plain": [
       "| 26      | 11m 21s      | 20.5001           | 3.70166               | 0.0651042   |"
      ]
     },
     "metadata": {},
     "output_type": "display_data"
    },
    {
     "data": {
      "text/html": [
       "<pre>| 27      | 11m 47s      | 20.449            | 3.69685               | 0.0651042   |</pre>"
      ],
      "text/plain": [
       "| 27      | 11m 47s      | 20.449            | 3.69685               | 0.0651042   |"
      ]
     },
     "metadata": {},
     "output_type": "display_data"
    },
    {
     "data": {
      "text/html": [
       "<pre>| 28      | 12m 13s      | 20.4018           | 3.69215               | 0.0651042   |</pre>"
      ],
      "text/plain": [
       "| 28      | 12m 13s      | 20.4018           | 3.69215               | 0.0651042   |"
      ]
     },
     "metadata": {},
     "output_type": "display_data"
    },
    {
     "data": {
      "text/html": [
       "<pre>| 29      | 12m 39s      | 20.3512           | 3.68766               | 0.0651042   |</pre>"
      ],
      "text/plain": [
       "| 29      | 12m 39s      | 20.3512           | 3.68766               | 0.0651042   |"
      ]
     },
     "metadata": {},
     "output_type": "display_data"
    },
    {
     "data": {
      "text/html": [
       "<pre>| 30      | 13m 6s       | 20.3024           | 3.68306               | 0.0651042   |</pre>"
      ],
      "text/plain": [
       "| 30      | 13m 6s       | 20.3024           | 3.68306               | 0.0651042   |"
      ]
     },
     "metadata": {},
     "output_type": "display_data"
    },
    {
     "data": {
      "text/html": [
       "<pre>| 31      | 13m 33s      | 20.2563           | 3.67845               | 0.0651042   |</pre>"
      ],
      "text/plain": [
       "| 31      | 13m 33s      | 20.2563           | 3.67845               | 0.0651042   |"
      ]
     },
     "metadata": {},
     "output_type": "display_data"
    },
    {
     "data": {
      "text/html": [
       "<pre>| 32      | 14m 0s       | 20.2139           | 3.67416               | 0.0651042   |</pre>"
      ],
      "text/plain": [
       "| 32      | 14m 0s       | 20.2139           | 3.67416               | 0.0651042   |"
      ]
     },
     "metadata": {},
     "output_type": "display_data"
    },
    {
     "data": {
      "text/html": [
       "<pre>| 33      | 14m 26s      | 20.1691           | 3.66991               | 0.0651042   |</pre>"
      ],
      "text/plain": [
       "| 33      | 14m 26s      | 20.1691           | 3.66991               | 0.0651042   |"
      ]
     },
     "metadata": {},
     "output_type": "display_data"
    },
    {
     "data": {
      "text/html": [
       "<pre>| 34      | 14m 52s      | 20.1252           | 3.66555               | 0.0651042   |</pre>"
      ],
      "text/plain": [
       "| 34      | 14m 52s      | 20.1252           | 3.66555               | 0.0651042   |"
      ]
     },
     "metadata": {},
     "output_type": "display_data"
    },
    {
     "data": {
      "text/html": [
       "<pre>| 35      | 15m 18s      | 20.0811           | 3.66134               | 0.0651042   |</pre>"
      ],
      "text/plain": [
       "| 35      | 15m 18s      | 20.0811           | 3.66134               | 0.0651042   |"
      ]
     },
     "metadata": {},
     "output_type": "display_data"
    },
    {
     "data": {
      "text/html": [
       "<pre>| 36      | 15m 45s      | 20.0376           | 3.65682               | 0.0651042   |</pre>"
      ],
      "text/plain": [
       "| 36      | 15m 45s      | 20.0376           | 3.65682               | 0.0651042   |"
      ]
     },
     "metadata": {},
     "output_type": "display_data"
    },
    {
     "data": {
      "text/html": [
       "<pre>| 37      | 16m 11s      | 19.9987           | 3.65306               | 0.0651042   |</pre>"
      ],
      "text/plain": [
       "| 37      | 16m 11s      | 19.9987           | 3.65306               | 0.0651042   |"
      ]
     },
     "metadata": {},
     "output_type": "display_data"
    },
    {
     "data": {
      "text/html": [
       "<pre>| 38      | 16m 37s      | 19.9567           | 3.64865               | 0.0651042   |</pre>"
      ],
      "text/plain": [
       "| 38      | 16m 37s      | 19.9567           | 3.64865               | 0.0651042   |"
      ]
     },
     "metadata": {},
     "output_type": "display_data"
    },
    {
     "data": {
      "text/html": [
       "<pre>| 39      | 17m 4s       | 19.9158           | 3.64478               | 0.0651042   |</pre>"
      ],
      "text/plain": [
       "| 39      | 17m 4s       | 19.9158           | 3.64478               | 0.0651042   |"
      ]
     },
     "metadata": {},
     "output_type": "display_data"
    },
    {
     "data": {
      "text/html": [
       "<pre>| 40      | 17m 30s      | 19.8746           | 3.64051               | 0.0651042   |</pre>"
      ],
      "text/plain": [
       "| 40      | 17m 30s      | 19.8746           | 3.64051               | 0.0651042   |"
      ]
     },
     "metadata": {},
     "output_type": "display_data"
    },
    {
     "data": {
      "text/html": [
       "<pre>| 41      | 17m 57s      | 19.8341           | 3.63673               | 0.0651042   |</pre>"
      ],
      "text/plain": [
       "| 41      | 17m 57s      | 19.8341           | 3.63673               | 0.0651042   |"
      ]
     },
     "metadata": {},
     "output_type": "display_data"
    },
    {
     "data": {
      "text/html": [
       "<pre>| 42      | 18m 23s      | 19.7978           | 3.6328                | 0.0651042   |</pre>"
      ],
      "text/plain": [
       "| 42      | 18m 23s      | 19.7978           | 3.6328                | 0.0651042   |"
      ]
     },
     "metadata": {},
     "output_type": "display_data"
    },
    {
     "data": {
      "text/html": [
       "<pre>| 43      | 18m 49s      | 19.7575           | 3.62877               | 0.0651042   |</pre>"
      ],
      "text/plain": [
       "| 43      | 18m 49s      | 19.7575           | 3.62877               | 0.0651042   |"
      ]
     },
     "metadata": {},
     "output_type": "display_data"
    },
    {
     "data": {
      "text/html": [
       "<pre>| 44      | 19m 16s      | 19.7196           | 3.62527               | 0.0651042   |</pre>"
      ],
      "text/plain": [
       "| 44      | 19m 16s      | 19.7196           | 3.62527               | 0.0651042   |"
      ]
     },
     "metadata": {},
     "output_type": "display_data"
    },
    {
     "data": {
      "text/html": [
       "<pre>| 45      | 19m 42s      | 19.6835           | 3.62146               | 0.0651042   |</pre>"
      ],
      "text/plain": [
       "| 45      | 19m 42s      | 19.6835           | 3.62146               | 0.0651042   |"
      ]
     },
     "metadata": {},
     "output_type": "display_data"
    },
    {
     "data": {
      "text/html": [
       "<pre>| 46      | 20m 8s       | 19.6487           | 3.61753               | 0.0651042   |</pre>"
      ],
      "text/plain": [
       "| 46      | 20m 8s       | 19.6487           | 3.61753               | 0.0651042   |"
      ]
     },
     "metadata": {},
     "output_type": "display_data"
    },
    {
     "data": {
      "text/html": [
       "<pre>| 47      | 20m 35s      | 19.6114           | 3.6141                | 0.0651042   |</pre>"
      ],
      "text/plain": [
       "| 47      | 20m 35s      | 19.6114           | 3.6141                | 0.0651042   |"
      ]
     },
     "metadata": {},
     "output_type": "display_data"
    },
    {
     "data": {
      "text/html": [
       "<pre>| 48      | 21m 1s       | 19.5743           | 3.61016               | 0.0651042   |</pre>"
      ],
      "text/plain": [
       "| 48      | 21m 1s       | 19.5743           | 3.61016               | 0.0651042   |"
      ]
     },
     "metadata": {},
     "output_type": "display_data"
    },
    {
     "data": {
      "text/html": [
       "<pre>| 49      | 21m 27s      | 19.5391           | 3.60688               | 0.0651042   |</pre>"
      ],
      "text/plain": [
       "| 49      | 21m 27s      | 19.5391           | 3.60688               | 0.0651042   |"
      ]
     },
     "metadata": {},
     "output_type": "display_data"
    },
    {
     "data": {
      "text/html": [
       "<pre>| 50      | 21m 54s      | 19.5018           | 3.60329               | 0.0651042   |</pre>"
      ],
      "text/plain": [
       "| 50      | 21m 54s      | 19.5018           | 3.60329               | 0.0651042   |"
      ]
     },
     "metadata": {},
     "output_type": "display_data"
    },
    {
     "data": {
      "text/html": [
       "<pre>+---------+--------------+-------------------+-----------------------+-------------+</pre>"
      ],
      "text/plain": [
       "+---------+--------------+-------------------+-----------------------+-------------+"
      ]
     },
     "metadata": {},
     "output_type": "display_data"
    },
    {
     "data": {
      "text/html": [
       "<pre>Optimization Complete: Maximum number of passes through the data reached.</pre>"
      ],
      "text/plain": [
       "Optimization Complete: Maximum number of passes through the data reached."
      ]
     },
     "metadata": {},
     "output_type": "display_data"
    },
    {
     "data": {
      "text/html": [
       "<pre>Computing final objective value and training RMSE.</pre>"
      ],
      "text/plain": [
       "Computing final objective value and training RMSE."
      ]
     },
     "metadata": {},
     "output_type": "display_data"
    },
    {
     "data": {
      "text/html": [
       "<pre>       Final objective value: 19.2825</pre>"
      ],
      "text/plain": [
       "       Final objective value: 19.2825"
      ]
     },
     "metadata": {},
     "output_type": "display_data"
    },
    {
     "data": {
      "text/html": [
       "<pre>       Final training RMSE: 3.57267</pre>"
      ],
      "text/plain": [
       "       Final training RMSE: 3.57267"
      ]
     },
     "metadata": {},
     "output_type": "display_data"
    }
   ],
   "source": [
    "rf_model = turicreate.ranking_factorization_recommender.create(train_data, user_id='user_id', \n",
    "max_iterations=50, item_id='product_id', target='target', verbose=True)"
   ]
  },
  {
   "cell_type": "code",
   "execution_count": null,
   "metadata": {
    "id": "-PX38fC7mxQ9",
    "outputId": "1c5740b1-b793-452f-8f35-280c96751479"
   },
   "outputs": [
    {
     "data": {
      "text/html": [
       "<pre>recommendations finished on 1000/75000 queries. users per second: 15395.7</pre>"
      ],
      "text/plain": [
       "recommendations finished on 1000/75000 queries. users per second: 15395.7"
      ]
     },
     "metadata": {},
     "output_type": "display_data"
    },
    {
     "data": {
      "text/html": [
       "<pre>recommendations finished on 2000/75000 queries. users per second: 18815.9</pre>"
      ],
      "text/plain": [
       "recommendations finished on 2000/75000 queries. users per second: 18815.9"
      ]
     },
     "metadata": {},
     "output_type": "display_data"
    },
    {
     "data": {
      "text/html": [
       "<pre>recommendations finished on 3000/75000 queries. users per second: 21429.5</pre>"
      ],
      "text/plain": [
       "recommendations finished on 3000/75000 queries. users per second: 21429.5"
      ]
     },
     "metadata": {},
     "output_type": "display_data"
    },
    {
     "data": {
      "text/html": [
       "<pre>recommendations finished on 4000/75000 queries. users per second: 20792.1</pre>"
      ],
      "text/plain": [
       "recommendations finished on 4000/75000 queries. users per second: 20792.1"
      ]
     },
     "metadata": {},
     "output_type": "display_data"
    },
    {
     "data": {
      "text/html": [
       "<pre>recommendations finished on 5000/75000 queries. users per second: 21771.1</pre>"
      ],
      "text/plain": [
       "recommendations finished on 5000/75000 queries. users per second: 21771.1"
      ]
     },
     "metadata": {},
     "output_type": "display_data"
    },
    {
     "data": {
      "text/html": [
       "<pre>recommendations finished on 6000/75000 queries. users per second: 22533.7</pre>"
      ],
      "text/plain": [
       "recommendations finished on 6000/75000 queries. users per second: 22533.7"
      ]
     },
     "metadata": {},
     "output_type": "display_data"
    },
    {
     "data": {
      "text/html": [
       "<pre>recommendations finished on 7000/75000 queries. users per second: 23176.2</pre>"
      ],
      "text/plain": [
       "recommendations finished on 7000/75000 queries. users per second: 23176.2"
      ]
     },
     "metadata": {},
     "output_type": "display_data"
    },
    {
     "data": {
      "text/html": [
       "<pre>recommendations finished on 8000/75000 queries. users per second: 23728.9</pre>"
      ],
      "text/plain": [
       "recommendations finished on 8000/75000 queries. users per second: 23728.9"
      ]
     },
     "metadata": {},
     "output_type": "display_data"
    },
    {
     "data": {
      "text/html": [
       "<pre>recommendations finished on 9000/75000 queries. users per second: 24111.9</pre>"
      ],
      "text/plain": [
       "recommendations finished on 9000/75000 queries. users per second: 24111.9"
      ]
     },
     "metadata": {},
     "output_type": "display_data"
    },
    {
     "data": {
      "text/html": [
       "<pre>recommendations finished on 10000/75000 queries. users per second: 24282.3</pre>"
      ],
      "text/plain": [
       "recommendations finished on 10000/75000 queries. users per second: 24282.3"
      ]
     },
     "metadata": {},
     "output_type": "display_data"
    },
    {
     "data": {
      "text/html": [
       "<pre>recommendations finished on 11000/75000 queries. users per second: 24300.4</pre>"
      ],
      "text/plain": [
       "recommendations finished on 11000/75000 queries. users per second: 24300.4"
      ]
     },
     "metadata": {},
     "output_type": "display_data"
    },
    {
     "data": {
      "text/html": [
       "<pre>recommendations finished on 12000/75000 queries. users per second: 24406.4</pre>"
      ],
      "text/plain": [
       "recommendations finished on 12000/75000 queries. users per second: 24406.4"
      ]
     },
     "metadata": {},
     "output_type": "display_data"
    },
    {
     "data": {
      "text/html": [
       "<pre>recommendations finished on 13000/75000 queries. users per second: 24639.8</pre>"
      ],
      "text/plain": [
       "recommendations finished on 13000/75000 queries. users per second: 24639.8"
      ]
     },
     "metadata": {},
     "output_type": "display_data"
    },
    {
     "data": {
      "text/html": [
       "<pre>recommendations finished on 14000/75000 queries. users per second: 24666.7</pre>"
      ],
      "text/plain": [
       "recommendations finished on 14000/75000 queries. users per second: 24666.7"
      ]
     },
     "metadata": {},
     "output_type": "display_data"
    },
    {
     "data": {
      "text/html": [
       "<pre>recommendations finished on 15000/75000 queries. users per second: 25001.3</pre>"
      ],
      "text/plain": [
       "recommendations finished on 15000/75000 queries. users per second: 25001.3"
      ]
     },
     "metadata": {},
     "output_type": "display_data"
    },
    {
     "data": {
      "text/html": [
       "<pre>recommendations finished on 16000/75000 queries. users per second: 25098.2</pre>"
      ],
      "text/plain": [
       "recommendations finished on 16000/75000 queries. users per second: 25098.2"
      ]
     },
     "metadata": {},
     "output_type": "display_data"
    },
    {
     "data": {
      "text/html": [
       "<pre>recommendations finished on 17000/75000 queries. users per second: 25149.2</pre>"
      ],
      "text/plain": [
       "recommendations finished on 17000/75000 queries. users per second: 25149.2"
      ]
     },
     "metadata": {},
     "output_type": "display_data"
    },
    {
     "data": {
      "text/html": [
       "<pre>recommendations finished on 18000/75000 queries. users per second: 25039.6</pre>"
      ],
      "text/plain": [
       "recommendations finished on 18000/75000 queries. users per second: 25039.6"
      ]
     },
     "metadata": {},
     "output_type": "display_data"
    },
    {
     "data": {
      "text/html": [
       "<pre>recommendations finished on 19000/75000 queries. users per second: 25133.8</pre>"
      ],
      "text/plain": [
       "recommendations finished on 19000/75000 queries. users per second: 25133.8"
      ]
     },
     "metadata": {},
     "output_type": "display_data"
    },
    {
     "data": {
      "text/html": [
       "<pre>recommendations finished on 20000/75000 queries. users per second: 25134.9</pre>"
      ],
      "text/plain": [
       "recommendations finished on 20000/75000 queries. users per second: 25134.9"
      ]
     },
     "metadata": {},
     "output_type": "display_data"
    },
    {
     "data": {
      "text/html": [
       "<pre>recommendations finished on 21000/75000 queries. users per second: 25229.2</pre>"
      ],
      "text/plain": [
       "recommendations finished on 21000/75000 queries. users per second: 25229.2"
      ]
     },
     "metadata": {},
     "output_type": "display_data"
    },
    {
     "data": {
      "text/html": [
       "<pre>recommendations finished on 22000/75000 queries. users per second: 25317.7</pre>"
      ],
      "text/plain": [
       "recommendations finished on 22000/75000 queries. users per second: 25317.7"
      ]
     },
     "metadata": {},
     "output_type": "display_data"
    },
    {
     "data": {
      "text/html": [
       "<pre>recommendations finished on 23000/75000 queries. users per second: 25551.9</pre>"
      ],
      "text/plain": [
       "recommendations finished on 23000/75000 queries. users per second: 25551.9"
      ]
     },
     "metadata": {},
     "output_type": "display_data"
    },
    {
     "data": {
      "text/html": [
       "<pre>recommendations finished on 24000/75000 queries. users per second: 25738.3</pre>"
      ],
      "text/plain": [
       "recommendations finished on 24000/75000 queries. users per second: 25738.3"
      ]
     },
     "metadata": {},
     "output_type": "display_data"
    },
    {
     "data": {
      "text/html": [
       "<pre>recommendations finished on 25000/75000 queries. users per second: 25902.4</pre>"
      ],
      "text/plain": [
       "recommendations finished on 25000/75000 queries. users per second: 25902.4"
      ]
     },
     "metadata": {},
     "output_type": "display_data"
    },
    {
     "data": {
      "text/html": [
       "<pre>recommendations finished on 26000/75000 queries. users per second: 25969.7</pre>"
      ],
      "text/plain": [
       "recommendations finished on 26000/75000 queries. users per second: 25969.7"
      ]
     },
     "metadata": {},
     "output_type": "display_data"
    },
    {
     "data": {
      "text/html": [
       "<pre>recommendations finished on 27000/75000 queries. users per second: 26019.2</pre>"
      ],
      "text/plain": [
       "recommendations finished on 27000/75000 queries. users per second: 26019.2"
      ]
     },
     "metadata": {},
     "output_type": "display_data"
    },
    {
     "data": {
      "text/html": [
       "<pre>recommendations finished on 28000/75000 queries. users per second: 26063.5</pre>"
      ],
      "text/plain": [
       "recommendations finished on 28000/75000 queries. users per second: 26063.5"
      ]
     },
     "metadata": {},
     "output_type": "display_data"
    },
    {
     "data": {
      "text/html": [
       "<pre>recommendations finished on 29000/75000 queries. users per second: 26132.5</pre>"
      ],
      "text/plain": [
       "recommendations finished on 29000/75000 queries. users per second: 26132.5"
      ]
     },
     "metadata": {},
     "output_type": "display_data"
    },
    {
     "data": {
      "text/html": [
       "<pre>recommendations finished on 30000/75000 queries. users per second: 26028.8</pre>"
      ],
      "text/plain": [
       "recommendations finished on 30000/75000 queries. users per second: 26028.8"
      ]
     },
     "metadata": {},
     "output_type": "display_data"
    },
    {
     "data": {
      "text/html": [
       "<pre>recommendations finished on 31000/75000 queries. users per second: 26049.1</pre>"
      ],
      "text/plain": [
       "recommendations finished on 31000/75000 queries. users per second: 26049.1"
      ]
     },
     "metadata": {},
     "output_type": "display_data"
    },
    {
     "data": {
      "text/html": [
       "<pre>recommendations finished on 32000/75000 queries. users per second: 26264.4</pre>"
      ],
      "text/plain": [
       "recommendations finished on 32000/75000 queries. users per second: 26264.4"
      ]
     },
     "metadata": {},
     "output_type": "display_data"
    },
    {
     "data": {
      "text/html": [
       "<pre>recommendations finished on 33000/75000 queries. users per second: 26211.2</pre>"
      ],
      "text/plain": [
       "recommendations finished on 33000/75000 queries. users per second: 26211.2"
      ]
     },
     "metadata": {},
     "output_type": "display_data"
    },
    {
     "data": {
      "text/html": [
       "<pre>recommendations finished on 34000/75000 queries. users per second: 26207.4</pre>"
      ],
      "text/plain": [
       "recommendations finished on 34000/75000 queries. users per second: 26207.4"
      ]
     },
     "metadata": {},
     "output_type": "display_data"
    },
    {
     "data": {
      "text/html": [
       "<pre>recommendations finished on 35000/75000 queries. users per second: 26297.1</pre>"
      ],
      "text/plain": [
       "recommendations finished on 35000/75000 queries. users per second: 26297.1"
      ]
     },
     "metadata": {},
     "output_type": "display_data"
    },
    {
     "data": {
      "text/html": [
       "<pre>recommendations finished on 36000/75000 queries. users per second: 26378.7</pre>"
      ],
      "text/plain": [
       "recommendations finished on 36000/75000 queries. users per second: 26378.7"
      ]
     },
     "metadata": {},
     "output_type": "display_data"
    },
    {
     "data": {
      "text/html": [
       "<pre>recommendations finished on 37000/75000 queries. users per second: 26313.4</pre>"
      ],
      "text/plain": [
       "recommendations finished on 37000/75000 queries. users per second: 26313.4"
      ]
     },
     "metadata": {},
     "output_type": "display_data"
    },
    {
     "data": {
      "text/html": [
       "<pre>recommendations finished on 38000/75000 queries. users per second: 26414.5</pre>"
      ],
      "text/plain": [
       "recommendations finished on 38000/75000 queries. users per second: 26414.5"
      ]
     },
     "metadata": {},
     "output_type": "display_data"
    },
    {
     "data": {
      "text/html": [
       "<pre>recommendations finished on 39000/75000 queries. users per second: 26439.8</pre>"
      ],
      "text/plain": [
       "recommendations finished on 39000/75000 queries. users per second: 26439.8"
      ]
     },
     "metadata": {},
     "output_type": "display_data"
    },
    {
     "data": {
      "text/html": [
       "<pre>recommendations finished on 40000/75000 queries. users per second: 26477.1</pre>"
      ],
      "text/plain": [
       "recommendations finished on 40000/75000 queries. users per second: 26477.1"
      ]
     },
     "metadata": {},
     "output_type": "display_data"
    },
    {
     "data": {
      "text/html": [
       "<pre>recommendations finished on 41000/75000 queries. users per second: 26575.8</pre>"
      ],
      "text/plain": [
       "recommendations finished on 41000/75000 queries. users per second: 26575.8"
      ]
     },
     "metadata": {},
     "output_type": "display_data"
    },
    {
     "data": {
      "text/html": [
       "<pre>recommendations finished on 42000/75000 queries. users per second: 26574.6</pre>"
      ],
      "text/plain": [
       "recommendations finished on 42000/75000 queries. users per second: 26574.6"
      ]
     },
     "metadata": {},
     "output_type": "display_data"
    },
    {
     "data": {
      "text/html": [
       "<pre>recommendations finished on 43000/75000 queries. users per second: 26543.6</pre>"
      ],
      "text/plain": [
       "recommendations finished on 43000/75000 queries. users per second: 26543.6"
      ]
     },
     "metadata": {},
     "output_type": "display_data"
    },
    {
     "data": {
      "text/html": [
       "<pre>recommendations finished on 44000/75000 queries. users per second: 26436.7</pre>"
      ],
      "text/plain": [
       "recommendations finished on 44000/75000 queries. users per second: 26436.7"
      ]
     },
     "metadata": {},
     "output_type": "display_data"
    },
    {
     "data": {
      "text/html": [
       "<pre>recommendations finished on 45000/75000 queries. users per second: 26441.7</pre>"
      ],
      "text/plain": [
       "recommendations finished on 45000/75000 queries. users per second: 26441.7"
      ]
     },
     "metadata": {},
     "output_type": "display_data"
    },
    {
     "data": {
      "text/html": [
       "<pre>recommendations finished on 46000/75000 queries. users per second: 26504</pre>"
      ],
      "text/plain": [
       "recommendations finished on 46000/75000 queries. users per second: 26504"
      ]
     },
     "metadata": {},
     "output_type": "display_data"
    },
    {
     "data": {
      "text/html": [
       "<pre>recommendations finished on 47000/75000 queries. users per second: 26595.8</pre>"
      ],
      "text/plain": [
       "recommendations finished on 47000/75000 queries. users per second: 26595.8"
      ]
     },
     "metadata": {},
     "output_type": "display_data"
    },
    {
     "data": {
      "text/html": [
       "<pre>recommendations finished on 48000/75000 queries. users per second: 26659.9</pre>"
      ],
      "text/plain": [
       "recommendations finished on 48000/75000 queries. users per second: 26659.9"
      ]
     },
     "metadata": {},
     "output_type": "display_data"
    },
    {
     "data": {
      "text/html": [
       "<pre>recommendations finished on 49000/75000 queries. users per second: 26603.6</pre>"
      ],
      "text/plain": [
       "recommendations finished on 49000/75000 queries. users per second: 26603.6"
      ]
     },
     "metadata": {},
     "output_type": "display_data"
    },
    {
     "data": {
      "text/html": [
       "<pre>recommendations finished on 50000/75000 queries. users per second: 26555.4</pre>"
      ],
      "text/plain": [
       "recommendations finished on 50000/75000 queries. users per second: 26555.4"
      ]
     },
     "metadata": {},
     "output_type": "display_data"
    },
    {
     "data": {
      "text/html": [
       "<pre>recommendations finished on 51000/75000 queries. users per second: 26570.6</pre>"
      ],
      "text/plain": [
       "recommendations finished on 51000/75000 queries. users per second: 26570.6"
      ]
     },
     "metadata": {},
     "output_type": "display_data"
    },
    {
     "data": {
      "text/html": [
       "<pre>recommendations finished on 52000/75000 queries. users per second: 26335.5</pre>"
      ],
      "text/plain": [
       "recommendations finished on 52000/75000 queries. users per second: 26335.5"
      ]
     },
     "metadata": {},
     "output_type": "display_data"
    },
    {
     "data": {
      "text/html": [
       "<pre>recommendations finished on 53000/75000 queries. users per second: 26292.4</pre>"
      ],
      "text/plain": [
       "recommendations finished on 53000/75000 queries. users per second: 26292.4"
      ]
     },
     "metadata": {},
     "output_type": "display_data"
    },
    {
     "data": {
      "text/html": [
       "<pre>recommendations finished on 54000/75000 queries. users per second: 26335</pre>"
      ],
      "text/plain": [
       "recommendations finished on 54000/75000 queries. users per second: 26335"
      ]
     },
     "metadata": {},
     "output_type": "display_data"
    },
    {
     "data": {
      "text/html": [
       "<pre>recommendations finished on 55000/75000 queries. users per second: 26262.6</pre>"
      ],
      "text/plain": [
       "recommendations finished on 55000/75000 queries. users per second: 26262.6"
      ]
     },
     "metadata": {},
     "output_type": "display_data"
    },
    {
     "data": {
      "text/html": [
       "<pre>recommendations finished on 56000/75000 queries. users per second: 26160</pre>"
      ],
      "text/plain": [
       "recommendations finished on 56000/75000 queries. users per second: 26160"
      ]
     },
     "metadata": {},
     "output_type": "display_data"
    },
    {
     "data": {
      "text/html": [
       "<pre>recommendations finished on 57000/75000 queries. users per second: 26268.7</pre>"
      ],
      "text/plain": [
       "recommendations finished on 57000/75000 queries. users per second: 26268.7"
      ]
     },
     "metadata": {},
     "output_type": "display_data"
    },
    {
     "data": {
      "text/html": [
       "<pre>recommendations finished on 58000/75000 queries. users per second: 26315.6</pre>"
      ],
      "text/plain": [
       "recommendations finished on 58000/75000 queries. users per second: 26315.6"
      ]
     },
     "metadata": {},
     "output_type": "display_data"
    },
    {
     "data": {
      "text/html": [
       "<pre>recommendations finished on 59000/75000 queries. users per second: 26267.8</pre>"
      ],
      "text/plain": [
       "recommendations finished on 59000/75000 queries. users per second: 26267.8"
      ]
     },
     "metadata": {},
     "output_type": "display_data"
    },
    {
     "data": {
      "text/html": [
       "<pre>recommendations finished on 60000/75000 queries. users per second: 26330.9</pre>"
      ],
      "text/plain": [
       "recommendations finished on 60000/75000 queries. users per second: 26330.9"
      ]
     },
     "metadata": {},
     "output_type": "display_data"
    },
    {
     "data": {
      "text/html": [
       "<pre>recommendations finished on 61000/75000 queries. users per second: 26374.5</pre>"
      ],
      "text/plain": [
       "recommendations finished on 61000/75000 queries. users per second: 26374.5"
      ]
     },
     "metadata": {},
     "output_type": "display_data"
    },
    {
     "data": {
      "text/html": [
       "<pre>recommendations finished on 62000/75000 queries. users per second: 26406.1</pre>"
      ],
      "text/plain": [
       "recommendations finished on 62000/75000 queries. users per second: 26406.1"
      ]
     },
     "metadata": {},
     "output_type": "display_data"
    },
    {
     "data": {
      "text/html": [
       "<pre>recommendations finished on 63000/75000 queries. users per second: 26359.7</pre>"
      ],
      "text/plain": [
       "recommendations finished on 63000/75000 queries. users per second: 26359.7"
      ]
     },
     "metadata": {},
     "output_type": "display_data"
    },
    {
     "data": {
      "text/html": [
       "<pre>recommendations finished on 64000/75000 queries. users per second: 26395.4</pre>"
      ],
      "text/plain": [
       "recommendations finished on 64000/75000 queries. users per second: 26395.4"
      ]
     },
     "metadata": {},
     "output_type": "display_data"
    },
    {
     "data": {
      "text/html": [
       "<pre>recommendations finished on 65000/75000 queries. users per second: 26450.5</pre>"
      ],
      "text/plain": [
       "recommendations finished on 65000/75000 queries. users per second: 26450.5"
      ]
     },
     "metadata": {},
     "output_type": "display_data"
    },
    {
     "data": {
      "text/html": [
       "<pre>recommendations finished on 66000/75000 queries. users per second: 26307.3</pre>"
      ],
      "text/plain": [
       "recommendations finished on 66000/75000 queries. users per second: 26307.3"
      ]
     },
     "metadata": {},
     "output_type": "display_data"
    },
    {
     "data": {
      "text/html": [
       "<pre>recommendations finished on 67000/75000 queries. users per second: 26200</pre>"
      ],
      "text/plain": [
       "recommendations finished on 67000/75000 queries. users per second: 26200"
      ]
     },
     "metadata": {},
     "output_type": "display_data"
    },
    {
     "data": {
      "text/html": [
       "<pre>recommendations finished on 68000/75000 queries. users per second: 26220.8</pre>"
      ],
      "text/plain": [
       "recommendations finished on 68000/75000 queries. users per second: 26220.8"
      ]
     },
     "metadata": {},
     "output_type": "display_data"
    },
    {
     "data": {
      "text/html": [
       "<pre>recommendations finished on 69000/75000 queries. users per second: 26099</pre>"
      ],
      "text/plain": [
       "recommendations finished on 69000/75000 queries. users per second: 26099"
      ]
     },
     "metadata": {},
     "output_type": "display_data"
    },
    {
     "data": {
      "text/html": [
       "<pre>recommendations finished on 70000/75000 queries. users per second: 26172.5</pre>"
      ],
      "text/plain": [
       "recommendations finished on 70000/75000 queries. users per second: 26172.5"
      ]
     },
     "metadata": {},
     "output_type": "display_data"
    },
    {
     "data": {
      "text/html": [
       "<pre>recommendations finished on 71000/75000 queries. users per second: 26231.5</pre>"
      ],
      "text/plain": [
       "recommendations finished on 71000/75000 queries. users per second: 26231.5"
      ]
     },
     "metadata": {},
     "output_type": "display_data"
    },
    {
     "data": {
      "text/html": [
       "<pre>recommendations finished on 72000/75000 queries. users per second: 26310.1</pre>"
      ],
      "text/plain": [
       "recommendations finished on 72000/75000 queries. users per second: 26310.1"
      ]
     },
     "metadata": {},
     "output_type": "display_data"
    },
    {
     "data": {
      "text/html": [
       "<pre>recommendations finished on 73000/75000 queries. users per second: 26354.6</pre>"
      ],
      "text/plain": [
       "recommendations finished on 73000/75000 queries. users per second: 26354.6"
      ]
     },
     "metadata": {},
     "output_type": "display_data"
    },
    {
     "data": {
      "text/html": [
       "<pre>recommendations finished on 74000/75000 queries. users per second: 26453.6</pre>"
      ],
      "text/plain": [
       "recommendations finished on 74000/75000 queries. users per second: 26453.6"
      ]
     },
     "metadata": {},
     "output_type": "display_data"
    },
    {
     "data": {
      "text/html": [
       "<pre>recommendations finished on 75000/75000 queries. users per second: 26363.3</pre>"
      ],
      "text/plain": [
       "recommendations finished on 75000/75000 queries. users per second: 26363.3"
      ]
     },
     "metadata": {},
     "output_type": "display_data"
    }
   ],
   "source": [
    "rf_results = rf_model.recommend(users=test_data, items=relation_data, \n",
    "                                exclude_known=False, k=len(products_df)).to_dataframe()"
   ]
  },
  {
   "cell_type": "code",
   "execution_count": null,
   "metadata": {
    "id": "QnvBXDYxmxQ9"
   },
   "outputs": [],
   "source": [
    "write_csv(rf_results, orders_df, 'rf_results')"
   ]
  },
  {
   "cell_type": "code",
   "execution_count": null,
   "metadata": {
    "id": "ESTkRf8kmxQ9",
    "outputId": "8156ea66-0ec2-42bb-c7c3-ab26db9aec04"
   },
   "outputs": [
    {
     "data": {
      "text/html": [
       "<pre>Warning: Ignoring columns reordered;</pre>"
      ],
      "text/plain": [
       "Warning: Ignoring columns reordered;"
      ]
     },
     "metadata": {},
     "output_type": "display_data"
    },
    {
     "data": {
      "text/html": [
       "<pre>    To use these columns in scoring predictions, use a model that allows the use of additional features.</pre>"
      ],
      "text/plain": [
       "    To use these columns in scoring predictions, use a model that allows the use of additional features."
      ]
     },
     "metadata": {},
     "output_type": "display_data"
    },
    {
     "data": {
      "text/html": [
       "<pre>Preparing data set.</pre>"
      ],
      "text/plain": [
       "Preparing data set."
      ]
     },
     "metadata": {},
     "output_type": "display_data"
    },
    {
     "data": {
      "text/html": [
       "<pre>    Data has 19428226 observations with 206209 users and 49685 items.</pre>"
      ],
      "text/plain": [
       "    Data has 19428226 observations with 206209 users and 49685 items."
      ]
     },
     "metadata": {},
     "output_type": "display_data"
    },
    {
     "data": {
      "text/html": [
       "<pre>    Data prepared in: 19.4237s</pre>"
      ],
      "text/plain": [
       "    Data prepared in: 19.4237s"
      ]
     },
     "metadata": {},
     "output_type": "display_data"
    },
    {
     "data": {
      "text/html": [
       "<pre>19428226 observations to process; with 49685 unique items.</pre>"
      ],
      "text/plain": [
       "19428226 observations to process; with 49685 unique items."
      ]
     },
     "metadata": {},
     "output_type": "display_data"
    }
   ],
   "source": [
    "pr_model = turicreate.recommender.popularity_recommender.create(train_data, user_id='user_id', item_id='product_id', target='target', verbose=True)"
   ]
  },
  {
   "cell_type": "code",
   "execution_count": null,
   "metadata": {
    "id": "dJmjI8pamxQ9",
    "outputId": "b79cdafb-5a69-4ec6-81b2-609bf4967c6b"
   },
   "outputs": [
    {
     "data": {
      "text/html": [
       "<pre>recommendations finished on 1000/75000 queries. users per second: 18071.4</pre>"
      ],
      "text/plain": [
       "recommendations finished on 1000/75000 queries. users per second: 18071.4"
      ]
     },
     "metadata": {},
     "output_type": "display_data"
    },
    {
     "data": {
      "text/html": [
       "<pre>recommendations finished on 2000/75000 queries. users per second: 18696.8</pre>"
      ],
      "text/plain": [
       "recommendations finished on 2000/75000 queries. users per second: 18696.8"
      ]
     },
     "metadata": {},
     "output_type": "display_data"
    },
    {
     "data": {
      "text/html": [
       "<pre>recommendations finished on 3000/75000 queries. users per second: 19855.8</pre>"
      ],
      "text/plain": [
       "recommendations finished on 3000/75000 queries. users per second: 19855.8"
      ]
     },
     "metadata": {},
     "output_type": "display_data"
    },
    {
     "data": {
      "text/html": [
       "<pre>recommendations finished on 4000/75000 queries. users per second: 21189.2</pre>"
      ],
      "text/plain": [
       "recommendations finished on 4000/75000 queries. users per second: 21189.2"
      ]
     },
     "metadata": {},
     "output_type": "display_data"
    },
    {
     "data": {
      "text/html": [
       "<pre>recommendations finished on 5000/75000 queries. users per second: 21900</pre>"
      ],
      "text/plain": [
       "recommendations finished on 5000/75000 queries. users per second: 21900"
      ]
     },
     "metadata": {},
     "output_type": "display_data"
    },
    {
     "data": {
      "text/html": [
       "<pre>recommendations finished on 6000/75000 queries. users per second: 21385.1</pre>"
      ],
      "text/plain": [
       "recommendations finished on 6000/75000 queries. users per second: 21385.1"
      ]
     },
     "metadata": {},
     "output_type": "display_data"
    },
    {
     "data": {
      "text/html": [
       "<pre>recommendations finished on 7000/75000 queries. users per second: 21635.3</pre>"
      ],
      "text/plain": [
       "recommendations finished on 7000/75000 queries. users per second: 21635.3"
      ]
     },
     "metadata": {},
     "output_type": "display_data"
    },
    {
     "data": {
      "text/html": [
       "<pre>recommendations finished on 8000/75000 queries. users per second: 21851.4</pre>"
      ],
      "text/plain": [
       "recommendations finished on 8000/75000 queries. users per second: 21851.4"
      ]
     },
     "metadata": {},
     "output_type": "display_data"
    },
    {
     "data": {
      "text/html": [
       "<pre>recommendations finished on 9000/75000 queries. users per second: 22359.4</pre>"
      ],
      "text/plain": [
       "recommendations finished on 9000/75000 queries. users per second: 22359.4"
      ]
     },
     "metadata": {},
     "output_type": "display_data"
    },
    {
     "data": {
      "text/html": [
       "<pre>recommendations finished on 10000/75000 queries. users per second: 22478.3</pre>"
      ],
      "text/plain": [
       "recommendations finished on 10000/75000 queries. users per second: 22478.3"
      ]
     },
     "metadata": {},
     "output_type": "display_data"
    },
    {
     "data": {
      "text/html": [
       "<pre>recommendations finished on 11000/75000 queries. users per second: 22389.9</pre>"
      ],
      "text/plain": [
       "recommendations finished on 11000/75000 queries. users per second: 22389.9"
      ]
     },
     "metadata": {},
     "output_type": "display_data"
    },
    {
     "data": {
      "text/html": [
       "<pre>recommendations finished on 12000/75000 queries. users per second: 21974.2</pre>"
      ],
      "text/plain": [
       "recommendations finished on 12000/75000 queries. users per second: 21974.2"
      ]
     },
     "metadata": {},
     "output_type": "display_data"
    },
    {
     "data": {
      "text/html": [
       "<pre>recommendations finished on 13000/75000 queries. users per second: 21539.7</pre>"
      ],
      "text/plain": [
       "recommendations finished on 13000/75000 queries. users per second: 21539.7"
      ]
     },
     "metadata": {},
     "output_type": "display_data"
    },
    {
     "data": {
      "text/html": [
       "<pre>recommendations finished on 14000/75000 queries. users per second: 21872.8</pre>"
      ],
      "text/plain": [
       "recommendations finished on 14000/75000 queries. users per second: 21872.8"
      ]
     },
     "metadata": {},
     "output_type": "display_data"
    },
    {
     "data": {
      "text/html": [
       "<pre>recommendations finished on 15000/75000 queries. users per second: 22316.8</pre>"
      ],
      "text/plain": [
       "recommendations finished on 15000/75000 queries. users per second: 22316.8"
      ]
     },
     "metadata": {},
     "output_type": "display_data"
    },
    {
     "data": {
      "text/html": [
       "<pre>recommendations finished on 16000/75000 queries. users per second: 22591.7</pre>"
      ],
      "text/plain": [
       "recommendations finished on 16000/75000 queries. users per second: 22591.7"
      ]
     },
     "metadata": {},
     "output_type": "display_data"
    },
    {
     "data": {
      "text/html": [
       "<pre>recommendations finished on 17000/75000 queries. users per second: 22566.5</pre>"
      ],
      "text/plain": [
       "recommendations finished on 17000/75000 queries. users per second: 22566.5"
      ]
     },
     "metadata": {},
     "output_type": "display_data"
    },
    {
     "data": {
      "text/html": [
       "<pre>recommendations finished on 18000/75000 queries. users per second: 22754.5</pre>"
      ],
      "text/plain": [
       "recommendations finished on 18000/75000 queries. users per second: 22754.5"
      ]
     },
     "metadata": {},
     "output_type": "display_data"
    },
    {
     "data": {
      "text/html": [
       "<pre>recommendations finished on 19000/75000 queries. users per second: 22863.9</pre>"
      ],
      "text/plain": [
       "recommendations finished on 19000/75000 queries. users per second: 22863.9"
      ]
     },
     "metadata": {},
     "output_type": "display_data"
    },
    {
     "data": {
      "text/html": [
       "<pre>recommendations finished on 20000/75000 queries. users per second: 23139.3</pre>"
      ],
      "text/plain": [
       "recommendations finished on 20000/75000 queries. users per second: 23139.3"
      ]
     },
     "metadata": {},
     "output_type": "display_data"
    },
    {
     "data": {
      "text/html": [
       "<pre>recommendations finished on 21000/75000 queries. users per second: 23271.1</pre>"
      ],
      "text/plain": [
       "recommendations finished on 21000/75000 queries. users per second: 23271.1"
      ]
     },
     "metadata": {},
     "output_type": "display_data"
    },
    {
     "data": {
      "text/html": [
       "<pre>recommendations finished on 22000/75000 queries. users per second: 23296.7</pre>"
      ],
      "text/plain": [
       "recommendations finished on 22000/75000 queries. users per second: 23296.7"
      ]
     },
     "metadata": {},
     "output_type": "display_data"
    },
    {
     "data": {
      "text/html": [
       "<pre>recommendations finished on 23000/75000 queries. users per second: 23578.4</pre>"
      ],
      "text/plain": [
       "recommendations finished on 23000/75000 queries. users per second: 23578.4"
      ]
     },
     "metadata": {},
     "output_type": "display_data"
    },
    {
     "data": {
      "text/html": [
       "<pre>recommendations finished on 24000/75000 queries. users per second: 23523</pre>"
      ],
      "text/plain": [
       "recommendations finished on 24000/75000 queries. users per second: 23523"
      ]
     },
     "metadata": {},
     "output_type": "display_data"
    },
    {
     "data": {
      "text/html": [
       "<pre>recommendations finished on 25000/75000 queries. users per second: 23785.9</pre>"
      ],
      "text/plain": [
       "recommendations finished on 25000/75000 queries. users per second: 23785.9"
      ]
     },
     "metadata": {},
     "output_type": "display_data"
    },
    {
     "data": {
      "text/html": [
       "<pre>recommendations finished on 26000/75000 queries. users per second: 23856.3</pre>"
      ],
      "text/plain": [
       "recommendations finished on 26000/75000 queries. users per second: 23856.3"
      ]
     },
     "metadata": {},
     "output_type": "display_data"
    },
    {
     "data": {
      "text/html": [
       "<pre>recommendations finished on 27000/75000 queries. users per second: 23824.1</pre>"
      ],
      "text/plain": [
       "recommendations finished on 27000/75000 queries. users per second: 23824.1"
      ]
     },
     "metadata": {},
     "output_type": "display_data"
    },
    {
     "data": {
      "text/html": [
       "<pre>recommendations finished on 28000/75000 queries. users per second: 23740.8</pre>"
      ],
      "text/plain": [
       "recommendations finished on 28000/75000 queries. users per second: 23740.8"
      ]
     },
     "metadata": {},
     "output_type": "display_data"
    },
    {
     "data": {
      "text/html": [
       "<pre>recommendations finished on 29000/75000 queries. users per second: 23706.4</pre>"
      ],
      "text/plain": [
       "recommendations finished on 29000/75000 queries. users per second: 23706.4"
      ]
     },
     "metadata": {},
     "output_type": "display_data"
    },
    {
     "data": {
      "text/html": [
       "<pre>recommendations finished on 30000/75000 queries. users per second: 23798.1</pre>"
      ],
      "text/plain": [
       "recommendations finished on 30000/75000 queries. users per second: 23798.1"
      ]
     },
     "metadata": {},
     "output_type": "display_data"
    },
    {
     "data": {
      "text/html": [
       "<pre>recommendations finished on 31000/75000 queries. users per second: 23920.8</pre>"
      ],
      "text/plain": [
       "recommendations finished on 31000/75000 queries. users per second: 23920.8"
      ]
     },
     "metadata": {},
     "output_type": "display_data"
    },
    {
     "data": {
      "text/html": [
       "<pre>recommendations finished on 32000/75000 queries. users per second: 24026.3</pre>"
      ],
      "text/plain": [
       "recommendations finished on 32000/75000 queries. users per second: 24026.3"
      ]
     },
     "metadata": {},
     "output_type": "display_data"
    },
    {
     "data": {
      "text/html": [
       "<pre>recommendations finished on 33000/75000 queries. users per second: 24082.3</pre>"
      ],
      "text/plain": [
       "recommendations finished on 33000/75000 queries. users per second: 24082.3"
      ]
     },
     "metadata": {},
     "output_type": "display_data"
    },
    {
     "data": {
      "text/html": [
       "<pre>recommendations finished on 34000/75000 queries. users per second: 24030.4</pre>"
      ],
      "text/plain": [
       "recommendations finished on 34000/75000 queries. users per second: 24030.4"
      ]
     },
     "metadata": {},
     "output_type": "display_data"
    },
    {
     "data": {
      "text/html": [
       "<pre>recommendations finished on 35000/75000 queries. users per second: 23998</pre>"
      ],
      "text/plain": [
       "recommendations finished on 35000/75000 queries. users per second: 23998"
      ]
     },
     "metadata": {},
     "output_type": "display_data"
    },
    {
     "data": {
      "text/html": [
       "<pre>recommendations finished on 36000/75000 queries. users per second: 24021.5</pre>"
      ],
      "text/plain": [
       "recommendations finished on 36000/75000 queries. users per second: 24021.5"
      ]
     },
     "metadata": {},
     "output_type": "display_data"
    },
    {
     "data": {
      "text/html": [
       "<pre>recommendations finished on 37000/75000 queries. users per second: 24057.6</pre>"
      ],
      "text/plain": [
       "recommendations finished on 37000/75000 queries. users per second: 24057.6"
      ]
     },
     "metadata": {},
     "output_type": "display_data"
    },
    {
     "data": {
      "text/html": [
       "<pre>recommendations finished on 38000/75000 queries. users per second: 24080.3</pre>"
      ],
      "text/plain": [
       "recommendations finished on 38000/75000 queries. users per second: 24080.3"
      ]
     },
     "metadata": {},
     "output_type": "display_data"
    },
    {
     "data": {
      "text/html": [
       "<pre>recommendations finished on 39000/75000 queries. users per second: 24193.3</pre>"
      ],
      "text/plain": [
       "recommendations finished on 39000/75000 queries. users per second: 24193.3"
      ]
     },
     "metadata": {},
     "output_type": "display_data"
    },
    {
     "data": {
      "text/html": [
       "<pre>recommendations finished on 40000/75000 queries. users per second: 24357.2</pre>"
      ],
      "text/plain": [
       "recommendations finished on 40000/75000 queries. users per second: 24357.2"
      ]
     },
     "metadata": {},
     "output_type": "display_data"
    },
    {
     "data": {
      "text/html": [
       "<pre>recommendations finished on 41000/75000 queries. users per second: 24343.9</pre>"
      ],
      "text/plain": [
       "recommendations finished on 41000/75000 queries. users per second: 24343.9"
      ]
     },
     "metadata": {},
     "output_type": "display_data"
    },
    {
     "data": {
      "text/html": [
       "<pre>recommendations finished on 42000/75000 queries. users per second: 24287.5</pre>"
      ],
      "text/plain": [
       "recommendations finished on 42000/75000 queries. users per second: 24287.5"
      ]
     },
     "metadata": {},
     "output_type": "display_data"
    },
    {
     "data": {
      "text/html": [
       "<pre>recommendations finished on 43000/75000 queries. users per second: 24324.1</pre>"
      ],
      "text/plain": [
       "recommendations finished on 43000/75000 queries. users per second: 24324.1"
      ]
     },
     "metadata": {},
     "output_type": "display_data"
    },
    {
     "data": {
      "text/html": [
       "<pre>recommendations finished on 44000/75000 queries. users per second: 24184.8</pre>"
      ],
      "text/plain": [
       "recommendations finished on 44000/75000 queries. users per second: 24184.8"
      ]
     },
     "metadata": {},
     "output_type": "display_data"
    },
    {
     "data": {
      "text/html": [
       "<pre>recommendations finished on 45000/75000 queries. users per second: 24166.9</pre>"
      ],
      "text/plain": [
       "recommendations finished on 45000/75000 queries. users per second: 24166.9"
      ]
     },
     "metadata": {},
     "output_type": "display_data"
    },
    {
     "data": {
      "text/html": [
       "<pre>recommendations finished on 46000/75000 queries. users per second: 24239.1</pre>"
      ],
      "text/plain": [
       "recommendations finished on 46000/75000 queries. users per second: 24239.1"
      ]
     },
     "metadata": {},
     "output_type": "display_data"
    },
    {
     "data": {
      "text/html": [
       "<pre>recommendations finished on 47000/75000 queries. users per second: 24328.1</pre>"
      ],
      "text/plain": [
       "recommendations finished on 47000/75000 queries. users per second: 24328.1"
      ]
     },
     "metadata": {},
     "output_type": "display_data"
    },
    {
     "data": {
      "text/html": [
       "<pre>recommendations finished on 48000/75000 queries. users per second: 24383.6</pre>"
      ],
      "text/plain": [
       "recommendations finished on 48000/75000 queries. users per second: 24383.6"
      ]
     },
     "metadata": {},
     "output_type": "display_data"
    },
    {
     "data": {
      "text/html": [
       "<pre>recommendations finished on 49000/75000 queries. users per second: 24353.3</pre>"
      ],
      "text/plain": [
       "recommendations finished on 49000/75000 queries. users per second: 24353.3"
      ]
     },
     "metadata": {},
     "output_type": "display_data"
    },
    {
     "data": {
      "text/html": [
       "<pre>recommendations finished on 50000/75000 queries. users per second: 24378.8</pre>"
      ],
      "text/plain": [
       "recommendations finished on 50000/75000 queries. users per second: 24378.8"
      ]
     },
     "metadata": {},
     "output_type": "display_data"
    },
    {
     "data": {
      "text/html": [
       "<pre>recommendations finished on 51000/75000 queries. users per second: 24411.8</pre>"
      ],
      "text/plain": [
       "recommendations finished on 51000/75000 queries. users per second: 24411.8"
      ]
     },
     "metadata": {},
     "output_type": "display_data"
    },
    {
     "data": {
      "text/html": [
       "<pre>recommendations finished on 52000/75000 queries. users per second: 24433.2</pre>"
      ],
      "text/plain": [
       "recommendations finished on 52000/75000 queries. users per second: 24433.2"
      ]
     },
     "metadata": {},
     "output_type": "display_data"
    },
    {
     "data": {
      "text/html": [
       "<pre>recommendations finished on 53000/75000 queries. users per second: 24470.3</pre>"
      ],
      "text/plain": [
       "recommendations finished on 53000/75000 queries. users per second: 24470.3"
      ]
     },
     "metadata": {},
     "output_type": "display_data"
    },
    {
     "data": {
      "text/html": [
       "<pre>recommendations finished on 54000/75000 queries. users per second: 24518.7</pre>"
      ],
      "text/plain": [
       "recommendations finished on 54000/75000 queries. users per second: 24518.7"
      ]
     },
     "metadata": {},
     "output_type": "display_data"
    },
    {
     "data": {
      "text/html": [
       "<pre>recommendations finished on 55000/75000 queries. users per second: 24508.2</pre>"
      ],
      "text/plain": [
       "recommendations finished on 55000/75000 queries. users per second: 24508.2"
      ]
     },
     "metadata": {},
     "output_type": "display_data"
    },
    {
     "data": {
      "text/html": [
       "<pre>recommendations finished on 56000/75000 queries. users per second: 24553.3</pre>"
      ],
      "text/plain": [
       "recommendations finished on 56000/75000 queries. users per second: 24553.3"
      ]
     },
     "metadata": {},
     "output_type": "display_data"
    },
    {
     "data": {
      "text/html": [
       "<pre>recommendations finished on 57000/75000 queries. users per second: 24687.3</pre>"
      ],
      "text/plain": [
       "recommendations finished on 57000/75000 queries. users per second: 24687.3"
      ]
     },
     "metadata": {},
     "output_type": "display_data"
    },
    {
     "data": {
      "text/html": [
       "<pre>recommendations finished on 58000/75000 queries. users per second: 24683.1</pre>"
      ],
      "text/plain": [
       "recommendations finished on 58000/75000 queries. users per second: 24683.1"
      ]
     },
     "metadata": {},
     "output_type": "display_data"
    },
    {
     "data": {
      "text/html": [
       "<pre>recommendations finished on 59000/75000 queries. users per second: 24561.3</pre>"
      ],
      "text/plain": [
       "recommendations finished on 59000/75000 queries. users per second: 24561.3"
      ]
     },
     "metadata": {},
     "output_type": "display_data"
    },
    {
     "data": {
      "text/html": [
       "<pre>recommendations finished on 60000/75000 queries. users per second: 24552.9</pre>"
      ],
      "text/plain": [
       "recommendations finished on 60000/75000 queries. users per second: 24552.9"
      ]
     },
     "metadata": {},
     "output_type": "display_data"
    },
    {
     "data": {
      "text/html": [
       "<pre>recommendations finished on 61000/75000 queries. users per second: 24607.6</pre>"
      ],
      "text/plain": [
       "recommendations finished on 61000/75000 queries. users per second: 24607.6"
      ]
     },
     "metadata": {},
     "output_type": "display_data"
    },
    {
     "data": {
      "text/html": [
       "<pre>recommendations finished on 62000/75000 queries. users per second: 24640.2</pre>"
      ],
      "text/plain": [
       "recommendations finished on 62000/75000 queries. users per second: 24640.2"
      ]
     },
     "metadata": {},
     "output_type": "display_data"
    },
    {
     "data": {
      "text/html": [
       "<pre>recommendations finished on 63000/75000 queries. users per second: 24654.9</pre>"
      ],
      "text/plain": [
       "recommendations finished on 63000/75000 queries. users per second: 24654.9"
      ]
     },
     "metadata": {},
     "output_type": "display_data"
    },
    {
     "data": {
      "text/html": [
       "<pre>recommendations finished on 64000/75000 queries. users per second: 24629.7</pre>"
      ],
      "text/plain": [
       "recommendations finished on 64000/75000 queries. users per second: 24629.7"
      ]
     },
     "metadata": {},
     "output_type": "display_data"
    },
    {
     "data": {
      "text/html": [
       "<pre>recommendations finished on 65000/75000 queries. users per second: 24687.2</pre>"
      ],
      "text/plain": [
       "recommendations finished on 65000/75000 queries. users per second: 24687.2"
      ]
     },
     "metadata": {},
     "output_type": "display_data"
    },
    {
     "data": {
      "text/html": [
       "<pre>recommendations finished on 66000/75000 queries. users per second: 24583.1</pre>"
      ],
      "text/plain": [
       "recommendations finished on 66000/75000 queries. users per second: 24583.1"
      ]
     },
     "metadata": {},
     "output_type": "display_data"
    },
    {
     "data": {
      "text/html": [
       "<pre>recommendations finished on 67000/75000 queries. users per second: 24611.6</pre>"
      ],
      "text/plain": [
       "recommendations finished on 67000/75000 queries. users per second: 24611.6"
      ]
     },
     "metadata": {},
     "output_type": "display_data"
    },
    {
     "data": {
      "text/html": [
       "<pre>recommendations finished on 68000/75000 queries. users per second: 24591</pre>"
      ],
      "text/plain": [
       "recommendations finished on 68000/75000 queries. users per second: 24591"
      ]
     },
     "metadata": {},
     "output_type": "display_data"
    },
    {
     "data": {
      "text/html": [
       "<pre>recommendations finished on 69000/75000 queries. users per second: 24682.7</pre>"
      ],
      "text/plain": [
       "recommendations finished on 69000/75000 queries. users per second: 24682.7"
      ]
     },
     "metadata": {},
     "output_type": "display_data"
    },
    {
     "data": {
      "text/html": [
       "<pre>recommendations finished on 70000/75000 queries. users per second: 24714</pre>"
      ],
      "text/plain": [
       "recommendations finished on 70000/75000 queries. users per second: 24714"
      ]
     },
     "metadata": {},
     "output_type": "display_data"
    },
    {
     "data": {
      "text/html": [
       "<pre>recommendations finished on 71000/75000 queries. users per second: 24732.1</pre>"
      ],
      "text/plain": [
       "recommendations finished on 71000/75000 queries. users per second: 24732.1"
      ]
     },
     "metadata": {},
     "output_type": "display_data"
    },
    {
     "data": {
      "text/html": [
       "<pre>recommendations finished on 72000/75000 queries. users per second: 24868.5</pre>"
      ],
      "text/plain": [
       "recommendations finished on 72000/75000 queries. users per second: 24868.5"
      ]
     },
     "metadata": {},
     "output_type": "display_data"
    },
    {
     "data": {
      "text/html": [
       "<pre>recommendations finished on 73000/75000 queries. users per second: 24962.8</pre>"
      ],
      "text/plain": [
       "recommendations finished on 73000/75000 queries. users per second: 24962.8"
      ]
     },
     "metadata": {},
     "output_type": "display_data"
    },
    {
     "data": {
      "text/html": [
       "<pre>recommendations finished on 74000/75000 queries. users per second: 25057.6</pre>"
      ],
      "text/plain": [
       "recommendations finished on 74000/75000 queries. users per second: 25057.6"
      ]
     },
     "metadata": {},
     "output_type": "display_data"
    },
    {
     "data": {
      "text/html": [
       "<pre>recommendations finished on 75000/75000 queries. users per second: 24976.3</pre>"
      ],
      "text/plain": [
       "recommendations finished on 75000/75000 queries. users per second: 24976.3"
      ]
     },
     "metadata": {},
     "output_type": "display_data"
    }
   ],
   "source": [
    "pr_results = pr_model.recommend(users=test_data, items=relation_data,exclude_known=False, k=len(products_df)).to_dataframe()"
   ]
  },
  {
   "cell_type": "code",
   "execution_count": null,
   "metadata": {
    "id": "KuxbwIZUmxQ9"
   },
   "outputs": [],
   "source": [
    "write_csv(pr_results, orders_df, 'pr_results')"
   ]
  },
  {
   "cell_type": "code",
   "execution_count": null,
   "metadata": {
    "id": "MfCr7QN4mxQ9"
   },
   "outputs": [],
   "source": [
    "# order_products_prior_df = order_products_prior_df.append(order_products_train_df)\n",
    "order_products_prior_df = pd.merge(order_products_prior_df, orders_df, on='order_id', how='left')"
   ]
  },
  {
   "cell_type": "code",
   "execution_count": null,
   "metadata": {
    "id": "ESakvSO4mxQ-"
   },
   "outputs": [],
   "source": [
    "unique_product_id = order_products_prior_df.product_id.unique()\n",
    "unique_user_id = order_products_prior_df.user_id.unique()"
   ]
  },
  {
   "cell_type": "code",
   "execution_count": null,
   "metadata": {
    "id": "pb8OjPZfmxQ-"
   },
   "outputs": [],
   "source": [
    "order_products_prior_df = order_products_prior_df.join(pd.DataFrame({'BoughtFlag': [1]*len(order_products_prior_df)}))"
   ]
  }
 ],
 "metadata": {
  "colab": {
   "collapsed_sections": [
    "zwHoiVpImxQ8"
   ],
   "provenance": []
  },
  "kernelspec": {
   "display_name": "Python 3",
   "language": "python",
   "name": "python3"
  },
  "language_info": {
   "codemirror_mode": {
    "name": "ipython",
    "version": 3
   },
   "file_extension": ".py",
   "mimetype": "text/x-python",
   "name": "python",
   "nbconvert_exporter": "python",
   "pygments_lexer": "ipython3",
   "version": "3.7.1"
  }
 },
 "nbformat": 4,
 "nbformat_minor": 5
}
